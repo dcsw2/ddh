{
  "nbformat": 4,
  "nbformat_minor": 0,
  "metadata": {
    "colab": {
      "provenance": [],
      "include_colab_link": true
    },
    "kernelspec": {
      "name": "python3",
      "display_name": "Python 3"
    },
    "language_info": {
      "name": "python"
    }
  },
  "cells": [
    {
      "cell_type": "markdown",
      "metadata": {
        "id": "view-in-github",
        "colab_type": "text"
      },
      "source": [
        "<a href=\"https://colab.research.google.com/github/dcsw2/ddh/blob/main/DW_NewsPaperMetadata_ExploringMitchells.ipynb\" target=\"_parent\"><img src=\"https://colab.research.google.com/assets/colab-badge.svg\" alt=\"Open In Colab\"/></a>"
      ]
    },
    {
      "cell_type": "markdown",
      "source": [
        "# This is an interactive Jupyter Notebook written in Python 🐍\n",
        "### It includes example scripts and provides access to the digitised newspaper press directories, published by Mitchell.\n",
        "#### It was developed as part of the Living with Machines project by Kaspar Beelen and adapted by Daniel Wilson"
      ],
      "metadata": {
        "id": "-42O4kwmnfiq"
      }
    },
    {
      "cell_type": "markdown",
      "source": [
        "# Getting and Exploring Mitchell's Press Directories\n",
        "\n",
        "What we will do in this 'notebook':\n",
        "- Introduce notebooks and especially PANDAS as a framework for working with historical tabular data.\n",
        "- Investigate the content of the digitized Press Directories.\n",
        "- Explore a few case studies that demonstrate how to use the directories for understanding digitised newspaper collections.\n",
        "\n",
        "\n",
        "![pandas](https://i.giphy.com/media/v1.Y2lkPTc5MGI3NjExanp1NHdzbnA4cWUxdGNoazYwN2c0Y2E5am96YW5rNTNkd2Q4YXJtdiZlcD12MV9pbnRlcm5hbF9naWZfYnlfaWQmY3Q9Zw/aCa8jFalHHJvi/giphy.gif)"
      ],
      "metadata": {
        "id": "DM5je7bXzm33"
      }
    },
    {
      "cell_type": "markdown",
      "source": [],
      "metadata": {
        "id": "VURpCDPCCOEk"
      }
    },
    {
      "cell_type": "markdown",
      "source": [
        "### First of all... Notebooks\n",
        "\n",
        "...what am I looking at here?\n",
        "\n",
        "\"I am a Jupyter Notebook and contain two types of cell.\"\n"
      ],
      "metadata": {
        "id": "LstFFd0k1wJJ"
      }
    },
    {
      "cell_type": "markdown",
      "source": [
        "*Welcome to* this **Markdown** cell\n",
        "\n",
        "You write text...\n",
        "\n",
        "...and it gets *rendered* nicely according to your commands"
      ],
      "metadata": {
        "id": "5i_X_KBD17l7"
      }
    },
    {
      "cell_type": "code",
      "source": [
        "# and welcome to this python cell. This text will not be compiled as code\n",
        "# because the HASH at the start of the line tells python it is only a comment\n",
        "# comments are useful for explaining what is happening. Below, however, is code:\n",
        "print('Hello, World')"
      ],
      "metadata": {
        "colab": {
          "base_uri": "https://localhost:8080/"
        },
        "id": "BzfUWplg2PPI",
        "outputId": "93dd7375-7f67-4862-f70d-7c22feea8024"
      },
      "execution_count": null,
      "outputs": [
        {
          "output_type": "stream",
          "name": "stdout",
          "text": [
            "Hello, World\n"
          ]
        }
      ]
    },
    {
      "cell_type": "code",
      "source": [
        "# textual information in Python is called a 'string' , abbreviated as str\n",
        "type('Hello, World')"
      ],
      "metadata": {
        "id": "6nJjeVuRwRav",
        "colab": {
          "base_uri": "https://localhost:8080/"
        },
        "outputId": "56e4c6f7-f381-401f-aef3-f4e70e891451"
      },
      "execution_count": null,
      "outputs": [
        {
          "output_type": "execute_result",
          "data": {
            "text/plain": [
              "str"
            ]
          },
          "metadata": {},
          "execution_count": 7
        }
      ]
    },
    {
      "cell_type": "code",
      "source": [
        "# but of course, Python also accepts numbers!\n",
        "4 + 2"
      ],
      "metadata": {
        "id": "wVaWan9JsTRo",
        "colab": {
          "base_uri": "https://localhost:8080/"
        },
        "outputId": "d66f682b-ed03-46b6-eb5e-866ba3131d65"
      },
      "execution_count": null,
      "outputs": [
        {
          "output_type": "execute_result",
          "data": {
            "text/plain": [
              "6"
            ]
          },
          "metadata": {},
          "execution_count": 8
        }
      ]
    },
    {
      "cell_type": "code",
      "source": [
        "# or floats\n",
        "4.0 + 3.42"
      ],
      "metadata": {
        "colab": {
          "base_uri": "https://localhost:8080/"
        },
        "id": "Ty8SLCZlwZq5",
        "outputId": "f50740cb-6a5e-4dd6-b3b4-61a82938435a"
      },
      "execution_count": null,
      "outputs": [
        {
          "output_type": "execute_result",
          "data": {
            "text/plain": [
              "7.42"
            ]
          },
          "metadata": {},
          "execution_count": 9
        }
      ]
    },
    {
      "cell_type": "code",
      "source": [
        "# saving information in a variable\n",
        "a = 'hello'\n",
        "print(a)"
      ],
      "metadata": {
        "id": "EimP8Fwg4lYz",
        "colab": {
          "base_uri": "https://localhost:8080/"
        },
        "outputId": "163d839c-9fb0-4e00-8d98-c216b9430466"
      },
      "execution_count": null,
      "outputs": [
        {
          "output_type": "stream",
          "name": "stdout",
          "text": [
            "hello\n"
          ]
        }
      ]
    },
    {
      "cell_type": "markdown",
      "source": [
        "❗ You will need to run all the cells in order ❗"
      ],
      "metadata": {
        "id": "deaiNStHArQC"
      }
    },
    {
      "cell_type": "markdown",
      "source": [
        "Now you know enough technical stuff to follow along."
      ],
      "metadata": {
        "id": "gRea-zKF4T5G"
      }
    },
    {
      "cell_type": "markdown",
      "source": [
        "## Finding the Directories Online\n",
        "\n"
      ],
      "metadata": {
        "id": "Fit5zWvK85z5"
      }
    },
    {
      "cell_type": "markdown",
      "source": [
        "You can consult the directories [online](https://bl.iro.bl.uk/concern/datasets/adcef12a-bb3d-40d9-871d-5784022a77e8)\n",
        "\n",
        "Let's have a look at the documentation first and open the attached PDF.\n",
        "\n",
        "We will have a closer look at how to explore the directories using code (Python). However, if you are more comfortable with Excel (😵‍💫) feel free to explore the data there (life is short)."
      ],
      "metadata": {
        "id": "IbcB_Cte8wXa"
      }
    },
    {
      "cell_type": "markdown",
      "source": [
        "### Why Python\n",
        "\n",
        "This is not an introduction to Python or programming.\n",
        "\n",
        "The goal is to show what you can do with the Press Directories, using a bit of code.\n",
        "\n",
        "For those who know Python, relax and follow along.\n",
        "\n",
        "Those new to coding should try to understand what is happening and focus on the outcomes (not the code). All code is explained with comments, but don't try to understand the syntax.\n",
        "\n",
        "If you are intrigued, I can recommend [this book](https://jakevdp.github.io/PythonDataScienceHandbook/) if you want more and work with data frames/tabular data in Python!"
      ],
      "metadata": {
        "id": "J9OhIOxPiwcS"
      }
    },
    {
      "cell_type": "markdown",
      "source": [
        "## Exploring the Directories with Pandas 🐼\n"
      ],
      "metadata": {
        "id": "nfcZ83Tz4Lqy"
      }
    },
    {
      "cell_type": "markdown",
      "source": [
        "### Importing data"
      ],
      "metadata": {
        "id": "HeLp4qw0Gd0o"
      }
    },
    {
      "cell_type": "code",
      "source": [
        "# import the pandas library\n",
        "import pandas as pd"
      ],
      "metadata": {
        "id": "PWkoBThF6Ik6"
      },
      "execution_count": null,
      "outputs": []
    },
    {
      "cell_type": "code",
      "source": [
        "# open the CSV file given the URL\n",
        "# you can also download the file and use it locally\n",
        "df = pd.read_csv('https://bl.iro.bl.uk/downloads/da65047c-4d62-4ab7-946f-8e61e5f6f331?locale=en', index_col=0)"
      ],
      "metadata": {
        "id": "peD6cFRq8WI8"
      },
      "execution_count": null,
      "outputs": []
    },
    {
      "cell_type": "code",
      "source": [
        "# replace the NaN (not a number) values with empty spaces\n",
        "# otherwise code will break later on\n",
        "df.fillna('', inplace=True)"
      ],
      "metadata": {
        "id": "vL2efNw3Qz2a"
      },
      "execution_count": null,
      "outputs": []
    },
    {
      "cell_type": "code",
      "execution_count": null,
      "metadata": {
        "id": "zanm8w4KzPpT",
        "colab": {
          "base_uri": "https://localhost:8080/"
        },
        "outputId": "0b791f8c-df99-4f84-a900-0c8022c28f9f"
      },
      "outputs": [
        {
          "output_type": "stream",
          "name": "stdout",
          "text": [
            "(92266, 16)\n"
          ]
        }
      ],
      "source": [
        "# show the number rows and columns\n",
        "print(df.shape)"
      ]
    },
    {
      "cell_type": "code",
      "source": [
        "# example of first two rows\n",
        "df.head(2)"
      ],
      "metadata": {
        "id": "K9T-7W-GACCz",
        "colab": {
          "base_uri": "https://localhost:8080/",
          "height": 306
        },
        "outputId": "0c0aaaa0-a6d2-4453-9864-c6378baa7462"
      },
      "execution_count": null,
      "outputs": [
        {
          "output_type": "execute_result",
          "data": {
            "text/plain": [
              "            ID    CHAIN_ID  YEAR                   TITLE PRICE POLITICS  \\\n",
              "0  MPD_1846_57  CID_000000  1846  JUSTICE OF THE PEACE .    6d            \n",
              "1  MPD_1847_65  CID_000000  1847  JUSTICE OF THE PEACE .    6d            \n",
              "\n",
              "    ESTABLISHED_DATE PUBLISED_DATE     PERSONS ORGANIZATIONS PLACE_PUB  \\\n",
              "0  January 28 , 1837      Saturday  Henry Shaw                  london   \n",
              "1  January 28 , 1837      Saturday  Henry Shaw                  london   \n",
              "\n",
              "  PLACE_PUB_WIKI       PLACE_PUB_COORD             PLACES  \\\n",
              "0            Q84  (51.507222, -0.1275)  137 , Fetter Lane   \n",
              "1            Q84  (51.507222, -0.1275)  137 , Fetter Lane   \n",
              "\n",
              "                                         PLACES_TRES  \\\n",
              "0  [{'mention': 'Fetter Lane', 'pos': 35, 'sent_i...   \n",
              "1  [{'mention': 'Fetter Lane', 'pos': 35, 'sent_i...   \n",
              "\n",
              "                                                TEXT  \n",
              "0  JUSTICE OF THE PEACE . Saturday , Price 6d . E...  \n",
              "1  JUSTICE OF THE PEACE . Saturday , Price 6d . E...  "
            ],
            "text/html": [
              "\n",
              "  <div id=\"df-82b85b24-15f5-4aaf-8215-29fc5c79976b\" class=\"colab-df-container\">\n",
              "    <div>\n",
              "<style scoped>\n",
              "    .dataframe tbody tr th:only-of-type {\n",
              "        vertical-align: middle;\n",
              "    }\n",
              "\n",
              "    .dataframe tbody tr th {\n",
              "        vertical-align: top;\n",
              "    }\n",
              "\n",
              "    .dataframe thead th {\n",
              "        text-align: right;\n",
              "    }\n",
              "</style>\n",
              "<table border=\"1\" class=\"dataframe\">\n",
              "  <thead>\n",
              "    <tr style=\"text-align: right;\">\n",
              "      <th></th>\n",
              "      <th>ID</th>\n",
              "      <th>CHAIN_ID</th>\n",
              "      <th>YEAR</th>\n",
              "      <th>TITLE</th>\n",
              "      <th>PRICE</th>\n",
              "      <th>POLITICS</th>\n",
              "      <th>ESTABLISHED_DATE</th>\n",
              "      <th>PUBLISED_DATE</th>\n",
              "      <th>PERSONS</th>\n",
              "      <th>ORGANIZATIONS</th>\n",
              "      <th>PLACE_PUB</th>\n",
              "      <th>PLACE_PUB_WIKI</th>\n",
              "      <th>PLACE_PUB_COORD</th>\n",
              "      <th>PLACES</th>\n",
              "      <th>PLACES_TRES</th>\n",
              "      <th>TEXT</th>\n",
              "    </tr>\n",
              "  </thead>\n",
              "  <tbody>\n",
              "    <tr>\n",
              "      <th>0</th>\n",
              "      <td>MPD_1846_57</td>\n",
              "      <td>CID_000000</td>\n",
              "      <td>1846</td>\n",
              "      <td>JUSTICE OF THE PEACE .</td>\n",
              "      <td>6d</td>\n",
              "      <td></td>\n",
              "      <td>January 28 , 1837</td>\n",
              "      <td>Saturday</td>\n",
              "      <td>Henry Shaw</td>\n",
              "      <td></td>\n",
              "      <td>london</td>\n",
              "      <td>Q84</td>\n",
              "      <td>(51.507222, -0.1275)</td>\n",
              "      <td>137 , Fetter Lane</td>\n",
              "      <td>[{'mention': 'Fetter Lane', 'pos': 35, 'sent_i...</td>\n",
              "      <td>JUSTICE OF THE PEACE . Saturday , Price 6d . E...</td>\n",
              "    </tr>\n",
              "    <tr>\n",
              "      <th>1</th>\n",
              "      <td>MPD_1847_65</td>\n",
              "      <td>CID_000000</td>\n",
              "      <td>1847</td>\n",
              "      <td>JUSTICE OF THE PEACE .</td>\n",
              "      <td>6d</td>\n",
              "      <td></td>\n",
              "      <td>January 28 , 1837</td>\n",
              "      <td>Saturday</td>\n",
              "      <td>Henry Shaw</td>\n",
              "      <td></td>\n",
              "      <td>london</td>\n",
              "      <td>Q84</td>\n",
              "      <td>(51.507222, -0.1275)</td>\n",
              "      <td>137 , Fetter Lane</td>\n",
              "      <td>[{'mention': 'Fetter Lane', 'pos': 35, 'sent_i...</td>\n",
              "      <td>JUSTICE OF THE PEACE . Saturday , Price 6d . E...</td>\n",
              "    </tr>\n",
              "  </tbody>\n",
              "</table>\n",
              "</div>\n",
              "    <div class=\"colab-df-buttons\">\n",
              "\n",
              "  <div class=\"colab-df-container\">\n",
              "    <button class=\"colab-df-convert\" onclick=\"convertToInteractive('df-82b85b24-15f5-4aaf-8215-29fc5c79976b')\"\n",
              "            title=\"Convert this dataframe to an interactive table.\"\n",
              "            style=\"display:none;\">\n",
              "\n",
              "  <svg xmlns=\"http://www.w3.org/2000/svg\" height=\"24px\" viewBox=\"0 -960 960 960\">\n",
              "    <path d=\"M120-120v-720h720v720H120Zm60-500h600v-160H180v160Zm220 220h160v-160H400v160Zm0 220h160v-160H400v160ZM180-400h160v-160H180v160Zm440 0h160v-160H620v160ZM180-180h160v-160H180v160Zm440 0h160v-160H620v160Z\"/>\n",
              "  </svg>\n",
              "    </button>\n",
              "\n",
              "  <style>\n",
              "    .colab-df-container {\n",
              "      display:flex;\n",
              "      gap: 12px;\n",
              "    }\n",
              "\n",
              "    .colab-df-convert {\n",
              "      background-color: #E8F0FE;\n",
              "      border: none;\n",
              "      border-radius: 50%;\n",
              "      cursor: pointer;\n",
              "      display: none;\n",
              "      fill: #1967D2;\n",
              "      height: 32px;\n",
              "      padding: 0 0 0 0;\n",
              "      width: 32px;\n",
              "    }\n",
              "\n",
              "    .colab-df-convert:hover {\n",
              "      background-color: #E2EBFA;\n",
              "      box-shadow: 0px 1px 2px rgba(60, 64, 67, 0.3), 0px 1px 3px 1px rgba(60, 64, 67, 0.15);\n",
              "      fill: #174EA6;\n",
              "    }\n",
              "\n",
              "    .colab-df-buttons div {\n",
              "      margin-bottom: 4px;\n",
              "    }\n",
              "\n",
              "    [theme=dark] .colab-df-convert {\n",
              "      background-color: #3B4455;\n",
              "      fill: #D2E3FC;\n",
              "    }\n",
              "\n",
              "    [theme=dark] .colab-df-convert:hover {\n",
              "      background-color: #434B5C;\n",
              "      box-shadow: 0px 1px 3px 1px rgba(0, 0, 0, 0.15);\n",
              "      filter: drop-shadow(0px 1px 2px rgba(0, 0, 0, 0.3));\n",
              "      fill: #FFFFFF;\n",
              "    }\n",
              "  </style>\n",
              "\n",
              "    <script>\n",
              "      const buttonEl =\n",
              "        document.querySelector('#df-82b85b24-15f5-4aaf-8215-29fc5c79976b button.colab-df-convert');\n",
              "      buttonEl.style.display =\n",
              "        google.colab.kernel.accessAllowed ? 'block' : 'none';\n",
              "\n",
              "      async function convertToInteractive(key) {\n",
              "        const element = document.querySelector('#df-82b85b24-15f5-4aaf-8215-29fc5c79976b');\n",
              "        const dataTable =\n",
              "          await google.colab.kernel.invokeFunction('convertToInteractive',\n",
              "                                                    [key], {});\n",
              "        if (!dataTable) return;\n",
              "\n",
              "        const docLinkHtml = 'Like what you see? Visit the ' +\n",
              "          '<a target=\"_blank\" href=https://colab.research.google.com/notebooks/data_table.ipynb>data table notebook</a>'\n",
              "          + ' to learn more about interactive tables.';\n",
              "        element.innerHTML = '';\n",
              "        dataTable['output_type'] = 'display_data';\n",
              "        await google.colab.output.renderOutput(dataTable, element);\n",
              "        const docLink = document.createElement('div');\n",
              "        docLink.innerHTML = docLinkHtml;\n",
              "        element.appendChild(docLink);\n",
              "      }\n",
              "    </script>\n",
              "  </div>\n",
              "\n",
              "\n",
              "<div id=\"df-67d1d98b-5a72-493f-b5ff-8dbc08040600\">\n",
              "  <button class=\"colab-df-quickchart\" onclick=\"quickchart('df-67d1d98b-5a72-493f-b5ff-8dbc08040600')\"\n",
              "            title=\"Suggest charts\"\n",
              "            style=\"display:none;\">\n",
              "\n",
              "<svg xmlns=\"http://www.w3.org/2000/svg\" height=\"24px\"viewBox=\"0 0 24 24\"\n",
              "     width=\"24px\">\n",
              "    <g>\n",
              "        <path d=\"M19 3H5c-1.1 0-2 .9-2 2v14c0 1.1.9 2 2 2h14c1.1 0 2-.9 2-2V5c0-1.1-.9-2-2-2zM9 17H7v-7h2v7zm4 0h-2V7h2v10zm4 0h-2v-4h2v4z\"/>\n",
              "    </g>\n",
              "</svg>\n",
              "  </button>\n",
              "\n",
              "<style>\n",
              "  .colab-df-quickchart {\n",
              "      --bg-color: #E8F0FE;\n",
              "      --fill-color: #1967D2;\n",
              "      --hover-bg-color: #E2EBFA;\n",
              "      --hover-fill-color: #174EA6;\n",
              "      --disabled-fill-color: #AAA;\n",
              "      --disabled-bg-color: #DDD;\n",
              "  }\n",
              "\n",
              "  [theme=dark] .colab-df-quickchart {\n",
              "      --bg-color: #3B4455;\n",
              "      --fill-color: #D2E3FC;\n",
              "      --hover-bg-color: #434B5C;\n",
              "      --hover-fill-color: #FFFFFF;\n",
              "      --disabled-bg-color: #3B4455;\n",
              "      --disabled-fill-color: #666;\n",
              "  }\n",
              "\n",
              "  .colab-df-quickchart {\n",
              "    background-color: var(--bg-color);\n",
              "    border: none;\n",
              "    border-radius: 50%;\n",
              "    cursor: pointer;\n",
              "    display: none;\n",
              "    fill: var(--fill-color);\n",
              "    height: 32px;\n",
              "    padding: 0;\n",
              "    width: 32px;\n",
              "  }\n",
              "\n",
              "  .colab-df-quickchart:hover {\n",
              "    background-color: var(--hover-bg-color);\n",
              "    box-shadow: 0 1px 2px rgba(60, 64, 67, 0.3), 0 1px 3px 1px rgba(60, 64, 67, 0.15);\n",
              "    fill: var(--button-hover-fill-color);\n",
              "  }\n",
              "\n",
              "  .colab-df-quickchart-complete:disabled,\n",
              "  .colab-df-quickchart-complete:disabled:hover {\n",
              "    background-color: var(--disabled-bg-color);\n",
              "    fill: var(--disabled-fill-color);\n",
              "    box-shadow: none;\n",
              "  }\n",
              "\n",
              "  .colab-df-spinner {\n",
              "    border: 2px solid var(--fill-color);\n",
              "    border-color: transparent;\n",
              "    border-bottom-color: var(--fill-color);\n",
              "    animation:\n",
              "      spin 1s steps(1) infinite;\n",
              "  }\n",
              "\n",
              "  @keyframes spin {\n",
              "    0% {\n",
              "      border-color: transparent;\n",
              "      border-bottom-color: var(--fill-color);\n",
              "      border-left-color: var(--fill-color);\n",
              "    }\n",
              "    20% {\n",
              "      border-color: transparent;\n",
              "      border-left-color: var(--fill-color);\n",
              "      border-top-color: var(--fill-color);\n",
              "    }\n",
              "    30% {\n",
              "      border-color: transparent;\n",
              "      border-left-color: var(--fill-color);\n",
              "      border-top-color: var(--fill-color);\n",
              "      border-right-color: var(--fill-color);\n",
              "    }\n",
              "    40% {\n",
              "      border-color: transparent;\n",
              "      border-right-color: var(--fill-color);\n",
              "      border-top-color: var(--fill-color);\n",
              "    }\n",
              "    60% {\n",
              "      border-color: transparent;\n",
              "      border-right-color: var(--fill-color);\n",
              "    }\n",
              "    80% {\n",
              "      border-color: transparent;\n",
              "      border-right-color: var(--fill-color);\n",
              "      border-bottom-color: var(--fill-color);\n",
              "    }\n",
              "    90% {\n",
              "      border-color: transparent;\n",
              "      border-bottom-color: var(--fill-color);\n",
              "    }\n",
              "  }\n",
              "</style>\n",
              "\n",
              "  <script>\n",
              "    async function quickchart(key) {\n",
              "      const quickchartButtonEl =\n",
              "        document.querySelector('#' + key + ' button');\n",
              "      quickchartButtonEl.disabled = true;  // To prevent multiple clicks.\n",
              "      quickchartButtonEl.classList.add('colab-df-spinner');\n",
              "      try {\n",
              "        const charts = await google.colab.kernel.invokeFunction(\n",
              "            'suggestCharts', [key], {});\n",
              "      } catch (error) {\n",
              "        console.error('Error during call to suggestCharts:', error);\n",
              "      }\n",
              "      quickchartButtonEl.classList.remove('colab-df-spinner');\n",
              "      quickchartButtonEl.classList.add('colab-df-quickchart-complete');\n",
              "    }\n",
              "    (() => {\n",
              "      let quickchartButtonEl =\n",
              "        document.querySelector('#df-67d1d98b-5a72-493f-b5ff-8dbc08040600 button');\n",
              "      quickchartButtonEl.style.display =\n",
              "        google.colab.kernel.accessAllowed ? 'block' : 'none';\n",
              "    })();\n",
              "  </script>\n",
              "</div>\n",
              "\n",
              "    </div>\n",
              "  </div>\n"
            ],
            "application/vnd.google.colaboratory.intrinsic+json": {
              "type": "dataframe",
              "variable_name": "df",
              "summary": "{\n  \"name\": \"df\",\n  \"rows\": 92266,\n  \"fields\": [\n    {\n      \"column\": \"ID\",\n      \"properties\": {\n        \"dtype\": \"string\",\n        \"num_unique_values\": 92266,\n        \"samples\": [\n          \"MPD_1920_1204\",\n          \"MPD_1886_1140\",\n          \"MPD_1914_1645\"\n        ],\n        \"semantic_type\": \"\",\n        \"description\": \"\"\n      }\n    },\n    {\n      \"column\": \"CHAIN_ID\",\n      \"properties\": {\n        \"dtype\": \"category\",\n        \"num_unique_values\": 6622,\n        \"samples\": [\n          \"CID_000100\",\n          \"CID_001052\",\n          \"CID_001516\"\n        ],\n        \"semantic_type\": \"\",\n        \"description\": \"\"\n      }\n    },\n    {\n      \"column\": \"YEAR\",\n      \"properties\": {\n        \"dtype\": \"number\",\n        \"std\": 17,\n        \"min\": 1846,\n        \"max\": 1920,\n        \"num_unique_values\": 53,\n        \"samples\": [\n          1874,\n          1900,\n          1910\n        ],\n        \"semantic_type\": \"\",\n        \"description\": \"\"\n      }\n    },\n    {\n      \"column\": \"TITLE\",\n      \"properties\": {\n        \"dtype\": \"category\",\n        \"num_unique_values\": 10201,\n        \"samples\": [\n          \"NORTHERN HERALD .\",\n          \"CAMBRIDGE GAZETTE .\",\n          \"ISLE OF WIGHT ADVERTISER AND RYDE AND VENTNOR TIMES .\"\n        ],\n        \"semantic_type\": \"\",\n        \"description\": \"\"\n      }\n    },\n    {\n      \"column\": \"PRICE\",\n      \"properties\": {\n        \"dtype\": \"category\",\n        \"num_unique_values\": 422,\n        \"samples\": [\n          \"\\u00a3 1 14s 8d\",\n          \"\\u00bd d \",\n          \"3 \\u00bd d<SEP>4 \\u00bd d<SEP>1d\"\n        ],\n        \"semantic_type\": \"\",\n        \"description\": \"\"\n      }\n    },\n    {\n      \"column\": \"POLITICS\",\n      \"properties\": {\n        \"dtype\": \"category\",\n        \"num_unique_values\": 188,\n        \"samples\": [\n          \"gladstonian\",\n          \"constitutional<SEP>independent\",\n          \"constitutional\"\n        ],\n        \"semantic_type\": \"\",\n        \"description\": \"\"\n      }\n    },\n    {\n      \"column\": \"ESTABLISHED_DATE\",\n      \"properties\": {\n        \"dtype\": \"category\",\n        \"num_unique_values\": 3694,\n        \"samples\": [\n          \"1820\",\n          \"Jan . 1 , 1889\",\n          \"1839\"\n        ],\n        \"semantic_type\": \"\",\n        \"description\": \"\"\n      }\n    },\n    {\n      \"column\": \"PUBLISED_DATE\",\n      \"properties\": {\n        \"dtype\": \"category\",\n        \"num_unique_values\": 3157,\n        \"samples\": [\n          \" f<SEP>aturday\",\n          \"\\u2014<SEP>rhursday\",\n          \"Tuesday<SEP>morning<SEP>Tuesday\"\n        ],\n        \"semantic_type\": \"\",\n        \"description\": \"\"\n      }\n    },\n    {\n      \"column\": \"PERSONS\",\n      \"properties\": {\n        \"dtype\": \"category\",\n        \"num_unique_values\": 9724,\n        \"samples\": [\n          \"J. Taylor & E. Robbins\",\n          \"D. E lwards\",\n          \"S. Daniel\"\n        ],\n        \"semantic_type\": \"\",\n        \"description\": \"\"\n      }\n    },\n    {\n      \"column\": \"ORGANIZATIONS\",\n      \"properties\": {\n        \"dtype\": \"category\",\n        \"num_unique_values\": 11311,\n        \"samples\": [\n          \"Mexzborough Times Co\",\n          \"Bury Guardian Co . ( Ltd . )\",\n          \"Ingamells and Beaulah\"\n        ],\n        \"semantic_type\": \"\",\n        \"description\": \"\"\n      }\n    },\n    {\n      \"column\": \"PLACE_PUB\",\n      \"properties\": {\n        \"dtype\": \"category\",\n        \"num_unique_values\": 1120,\n        \"samples\": [\n          \"macclesfield\",\n          \"campbeltown\",\n          \"blaenau festiniog\"\n        ],\n        \"semantic_type\": \"\",\n        \"description\": \"\"\n      }\n    },\n    {\n      \"column\": \"PLACE_PUB_WIKI\",\n      \"properties\": {\n        \"dtype\": \"category\",\n        \"num_unique_values\": 1100,\n        \"samples\": [\n          \"Q2078535\",\n          \"Q1024900\",\n          \"Q20888153\"\n        ],\n        \"semantic_type\": \"\",\n        \"description\": \"\"\n      }\n    },\n    {\n      \"column\": \"PLACE_PUB_COORD\",\n      \"properties\": {\n        \"dtype\": \"category\",\n        \"num_unique_values\": 1103,\n        \"samples\": [\n          \"(53.6801, -1.492)\",\n          \"(51.02413, -3.25876)\",\n          \"(51.4311, -0.0245)\"\n        ],\n        \"semantic_type\": \"\",\n        \"description\": \"\"\n      }\n    },\n    {\n      \"column\": \"PLACES\",\n      \"properties\": {\n        \"dtype\": \"category\",\n        \"num_unique_values\": 33059,\n        \"samples\": [\n          \"Cart<SEP>Clydesdale Horse<SEP>La Belle Sauvage Yard , Ludgate Hill , E . C .\",\n          \"Waterford<SEP>Wexford<SEP>Kilkenn<SEP>Tipperary<SEP>Limerick<SEP>Cork<SEP>England<SEP>Scotland<SEP>America\",\n          \" ng Lane<SEP>New York Liverpool<SEP>Bristol<SEP>Greenosk<SEP>Cork Eastcheap Buildings ( corner of Philpot Lane ) , E . C .\"\n        ],\n        \"semantic_type\": \"\",\n        \"description\": \"\"\n      }\n    },\n    {\n      \"column\": \"PLACES_TRES\",\n      \"properties\": {\n        \"dtype\": \"category\",\n        \"num_unique_values\": 29359,\n        \"samples\": [\n          \"[{'mention': 'Peterborough', 'pos': 29, 'sent_idx': 0, 'end_pos': 41, 'tag': 'LOC', 'prediction': 'Q172438', 'ed_score': 0.006, 'latlon': [52.583333, -0.25], 'wkdt_class': 'Q515'}, {'mention': 'Huntingdonshire', 'pos': 43, 'sent_idx': 0, 'end_pos': 58, 'tag': 'LOC', 'prediction': 'Q23330', 'ed_score': 0.006, 'latlon': [52.416667, -0.25], 'wkdt_class': 'Q1187580'}, {'mention': 'Northampton - shire', 'pos': 60, 'sent_idx': 0, 'end_pos': 79, 'tag': 'LOC', 'prediction': 'Q23115', 'ed_score': 0.005, 'latlon': [52.283333, -0.833333], 'wkdt_class': 'Q180673'}, {'mention': 'Cambridgeshire', 'pos': 81, 'sent_idx': 0, 'end_pos': 95, 'tag': 'LOC', 'prediction': 'Q23112', 'ed_score': 0.005, 'latlon': [52.333333333333, 0.0], 'wkdt_class': 'Q180673'}, {'mention': 'Lincolnshire', 'pos': 97, 'sent_idx': 0, 'end_pos': 109, 'tag': 'LOC', 'prediction': 'Q23090', 'ed_score': 0.006, 'latlon': [53.066667, -0.183333], 'wkdt_class': 'Q180673'}, {'mention': 'Rutland', 'pos': 111, 'sent_idx': 0, 'end_pos': 118, 'tag': 'LOC', 'prediction': 'Q23107', 'ed_score': 0.005, 'latlon': [52.65, -0.633333], 'wkdt_class': 'Q180673'}, {'mention': 'Peterborough', 'pos': 120, 'sent_idx': 0, 'end_pos': 132, 'tag': 'LOC', 'prediction': 'Q172438', 'ed_score': 0.006, 'latlon': [52.583333, -0.25], 'wkdt_class': 'Q515'}, {'mention': 'North Hunts', 'pos': 134, 'sent_idx': 0, 'end_pos': 145, 'tag': 'LOC', 'prediction': 'NIL', 'ed_score': 0.0, 'latlon': None, 'wkdt_class': None}, {'mention': 'North Cambs', 'pos': 147, 'sent_idx': 0, 'end_pos': 158, 'tag': 'LOC', 'prediction': 'Q327168', 'ed_score': 0.007, 'latlon': [52.821389, 1.386111], 'wkdt_class': 'Q3957'}, {'mention': 'Hunts', 'pos': 160, 'sent_idx': 0, 'end_pos': 165, 'tag': 'LOC', 'prediction': 'Q23330', 'ed_score': 0.007, 'latlon': [52.416667, -0.25], 'wkdt_class': 'Q1187580'}]\",\n          \"[{'mention': 'Forres', 'pos': 29, 'sent_idx': 0, 'end_pos': 35, 'tag': 'LOC', 'prediction': 'Q1010531', 'ed_score': 0.006, 'latlon': [57.60859, -3.6157], 'wkdt_class': 'Q3957'}, {'mention': 'Elgin', 'pos': 37, 'sent_idx': 0, 'end_pos': 42, 'tag': 'LOC', 'prediction': 'Q841074', 'ed_score': 0.006, 'latlon': [57.646389, -3.315278], 'wkdt_class': 'Q3957'}, {'mention': 'Moray', 'pos': 44, 'sent_idx': 0, 'end_pos': 49, 'tag': 'LOC', 'prediction': 'Q211106', 'ed_score': 0.004, 'latlon': [57.416667, -3.25], 'wkdt_class': 'Q21457810'}, {'mention': 'Nairn', 'pos': 51, 'sent_idx': 0, 'end_pos': 56, 'tag': 'LOC', 'prediction': 'Q980084', 'ed_score': 0.006, 'latlon': [57.583333, -3.866667], 'wkdt_class': 'Q3957'}]\",\n          \"[{'mention': 'Newbury', 'pos': 29, 'sent_idx': 0, 'end_pos': 36, 'tag': 'LOC', 'prediction': 'Q655874', 'ed_score': 0.005, 'latlon': [51.4009, -1.3235], 'wkdt_class': 'Q3957'}, {'mention': 'Hungerford', 'pos': 38, 'sent_idx': 0, 'end_pos': 48, 'tag': 'LOC', 'prediction': 'Q1637841', 'ed_score': 0.006, 'latlon': [51.4144, -1.5146], 'wkdt_class': 'Q3957'}, {'mention': 'Kintbury', 'pos': 50, 'sent_idx': 0, 'end_pos': 58, 'tag': 'LOC', 'prediction': 'Q2749964', 'ed_score': 0.006, 'latlon': [51.399, -1.449], 'wkdt_class': 'Q532'}, {'mention': 'Thatcham', 'pos': 60, 'sent_idx': 0, 'end_pos': 68, 'tag': 'LOC', 'prediction': 'Q1026304', 'ed_score': 0.006, 'latlon': [51.405, -1.2645], 'wkdt_class': 'Q3957'}, {'mention': 'Reading', 'pos': 70, 'sent_idx': 0, 'end_pos': 77, 'tag': 'LOC', 'prediction': 'Q161491', 'ed_score': 0.004, 'latlon': [51.454167, -0.973056], 'wkdt_class': 'Q1357964'}, {'mention': 'Midgham', 'pos': 79, 'sent_idx': 0, 'end_pos': 86, 'tag': 'LOC', 'prediction': 'Q986140', 'ed_score': 0.006, 'latlon': [51.401, -1.203], 'wkdt_class': 'Q532'}, {'mention': 'Chieveley', 'pos': 88, 'sent_idx': 0, 'end_pos': 97, 'tag': 'LOC', 'prediction': 'Q4027640', 'ed_score': 0.006, 'latlon': [51.461, -1.319], 'wkdt_class': 'Q532'}, {'mention': 'Hampstead', 'pos': 99, 'sent_idx': 0, 'end_pos': 108, 'tag': 'LOC', 'prediction': 'Q25610', 'ed_score': 0.003, 'latlon': [51.5541, -0.1744], 'wkdt_class': 'Q3957'}, {'mention': 'Hermitage', 'pos': 117, 'sent_idx': 0, 'end_pos': 126, 'tag': 'LOC', 'prediction': 'Q1813871', 'ed_score': 0.003, 'latlon': [51.452536, -1.276217], 'wkdt_class': 'Q532'}, {'mention': 'Iisley', 'pos': 128, 'sent_idx': 0, 'end_pos': 134, 'tag': 'LOC', 'prediction': 'Q2287225', 'ed_score': 0.004, 'latlon': [51.3227, -0.4772], 'wkdt_class': 'Q532'}, {'mention': 'Inkpen', 'pos': 136, 'sent_idx': 0, 'end_pos': 142, 'tag': 'LOC', 'prediction': 'Q1864651', 'ed_score': 0.006, 'latlon': [51.377, -1.468], 'wkdt_class': 'Q532'}, {'mention': 'Kingsclere', 'pos': 144, 'sent_idx': 0, 'end_pos': 154, 'tag': 'LOC', 'prediction': 'Q1215907', 'ed_score': 0.006, 'latlon': [51.326, -1.2442], 'wkdt_class': 'Q532'}, {'mention': 'Lambourne', 'pos': 156, 'sent_idx': 0, 'end_pos': 165, 'tag': 'LOC', 'prediction': 'Q1611963', 'ed_score': 0.006, 'latlon': [51.638, 0.13], 'wkdt_class': 'Q532'}, {'mention': 'Newbury', 'pos': 167, 'sent_idx': 0, 'end_pos': 174, 'tag': 'LOC', 'prediction': 'Q655874', 'ed_score': 0.005, 'latlon': [51.4009, -1.3235], 'wkdt_class': 'Q3957'}]\"\n        ],\n        \"semantic_type\": \"\",\n        \"description\": \"\"\n      }\n    },\n    {\n      \"column\": \"TEXT\",\n      \"properties\": {\n        \"dtype\": \"string\",\n        \"num_unique_values\": 89249,\n        \"samples\": [\n          \"FARNWORTH OBSERVER . Saturday , 1d . and 2d . Liberal . \\u2014 Established May 5 , 1860 . Circulates in Farnworth , Kessloy , Little Lever , Ringley , Outwood , Radcliffe , Walkden , Over Hulton , Little Hulton , Swinton , Pendlebury , Itlam's-o'th '- Heigbt , Bolton , Davey Lever , Great Lever , Cliftor , Worsley , & c . nent Agents , Red Lion Coxi ' , Flocl Sir . ci , Loadan . ] Tm One of the many local papers established of late years , and devoted to the interests of the district in which they are published . It does not unduly favour one sect or party at the expense of another ; but progress in all matters , social and political , is advocated . Proprietor \\u2014 James Hall . ( Advt . , p . 147 .\",\n          \"FIFE NEWS . Saturday , 1d . Independent-Liberal . \\u2014 Established March , 1870 . Circulates in the counties of Fife and Kinross . It gives a careful selection of the news of the week , and full reports of local mesetings , while a full page is set apart for serial stories and literary sketches . Special editions are pub - lished for Dunfermline , Kirkcaldy , Cupar , St . Andrews , and Anstruther . It upholds the claims of the working classes to a fair consideration . Proprietor \\u2014 Robert Tullis . ( Advt . , p . 205 . )\",\n          \"ENGINEERING . Friday , 6d . Established Jan . , 1866 . I Principles : Neufral . This is entirely devoted to engineering in all its branches . The latest inventions are reported on and illustrated . Articles on important subjects connected with the profession appear in its pages , and the latest information is given on all important engineering works in progress , and , in short , all subjects connected with civil and mechanical engineering . Fublished by C . Gilbert , 37 , Bedford Street , W . C .\"\n        ],\n        \"semantic_type\": \"\",\n        \"description\": \"\"\n      }\n    }\n  ]\n}"
            }
          },
          "metadata": {},
          "execution_count": 17
        }
      ]
    },
    {
      "cell_type": "code",
      "source": [
        "# random sample of 2 rows\n",
        "df.sample(2)"
      ],
      "metadata": {
        "id": "Ta3Le93tpz1a",
        "colab": {
          "base_uri": "https://localhost:8080/",
          "height": 288
        },
        "outputId": "e2351742-c140-4810-9a07-5093b6638792"
      },
      "execution_count": null,
      "outputs": [
        {
          "output_type": "execute_result",
          "data": {
            "text/plain": [
              "                  ID    CHAIN_ID  YEAR                TITLE  PRICE   POLITICS  \\\n",
              "72157  MPD_1886_1978  CID_003851  1886    WEEKLY EXAMINER .     1d  home-rule   \n",
              "33326   MPD_1903_334  CID_000898  1903  PRINTERS REGISTER .  2s 6d    neutral   \n",
              "\n",
              "      ESTABLISHED_DATE          PUBLISED_DATE     PERSONS ORGANIZATIONS  \\\n",
              "72157             1855               Saturday  G. H. Page                 \n",
              "33326      July , 1863  6Gth of the<SEP>Month                             \n",
              "\n",
              "      PLACE_PUB PLACE_PUB_WIKI       PLACE_PUB_COORD  \\\n",
              "72157   belfast         Q10686    (54.596389, -5.93)   \n",
              "33326    london            Q84  (51.507222, -0.1275)   \n",
              "\n",
              "                                PLACES  \\\n",
              "72157  Belfast<SEP>Ulster<SEP>Scotland   \n",
              "33326      62 , Fleet Street , E . C .   \n",
              "\n",
              "                                             PLACES_TRES  \\\n",
              "72157  [{'mention': 'Belfast', 'pos': 29, 'sent_idx':...   \n",
              "33326  [{'mention': 'Fleet Street', 'pos': 34, 'sent_...   \n",
              "\n",
              "                                                    TEXT  \n",
              "72157  WEEKLY EXAMINER . Saturday , 1d . Houme Rule ....  \n",
              "33326  PRINTERS ' REGISTER . 6Gth of the Month , 2s ....  "
            ],
            "text/html": [
              "\n",
              "  <div id=\"df-7ba0d286-c906-44a6-9860-129dbb5e3f53\" class=\"colab-df-container\">\n",
              "    <div>\n",
              "<style scoped>\n",
              "    .dataframe tbody tr th:only-of-type {\n",
              "        vertical-align: middle;\n",
              "    }\n",
              "\n",
              "    .dataframe tbody tr th {\n",
              "        vertical-align: top;\n",
              "    }\n",
              "\n",
              "    .dataframe thead th {\n",
              "        text-align: right;\n",
              "    }\n",
              "</style>\n",
              "<table border=\"1\" class=\"dataframe\">\n",
              "  <thead>\n",
              "    <tr style=\"text-align: right;\">\n",
              "      <th></th>\n",
              "      <th>ID</th>\n",
              "      <th>CHAIN_ID</th>\n",
              "      <th>YEAR</th>\n",
              "      <th>TITLE</th>\n",
              "      <th>PRICE</th>\n",
              "      <th>POLITICS</th>\n",
              "      <th>ESTABLISHED_DATE</th>\n",
              "      <th>PUBLISED_DATE</th>\n",
              "      <th>PERSONS</th>\n",
              "      <th>ORGANIZATIONS</th>\n",
              "      <th>PLACE_PUB</th>\n",
              "      <th>PLACE_PUB_WIKI</th>\n",
              "      <th>PLACE_PUB_COORD</th>\n",
              "      <th>PLACES</th>\n",
              "      <th>PLACES_TRES</th>\n",
              "      <th>TEXT</th>\n",
              "    </tr>\n",
              "  </thead>\n",
              "  <tbody>\n",
              "    <tr>\n",
              "      <th>72157</th>\n",
              "      <td>MPD_1886_1978</td>\n",
              "      <td>CID_003851</td>\n",
              "      <td>1886</td>\n",
              "      <td>WEEKLY EXAMINER .</td>\n",
              "      <td>1d</td>\n",
              "      <td>home-rule</td>\n",
              "      <td>1855</td>\n",
              "      <td>Saturday</td>\n",
              "      <td>G. H. Page</td>\n",
              "      <td></td>\n",
              "      <td>belfast</td>\n",
              "      <td>Q10686</td>\n",
              "      <td>(54.596389, -5.93)</td>\n",
              "      <td>Belfast&lt;SEP&gt;Ulster&lt;SEP&gt;Scotland</td>\n",
              "      <td>[{'mention': 'Belfast', 'pos': 29, 'sent_idx':...</td>\n",
              "      <td>WEEKLY EXAMINER . Saturday , 1d . Houme Rule ....</td>\n",
              "    </tr>\n",
              "    <tr>\n",
              "      <th>33326</th>\n",
              "      <td>MPD_1903_334</td>\n",
              "      <td>CID_000898</td>\n",
              "      <td>1903</td>\n",
              "      <td>PRINTERS REGISTER .</td>\n",
              "      <td>2s 6d</td>\n",
              "      <td>neutral</td>\n",
              "      <td>July , 1863</td>\n",
              "      <td>6Gth of the&lt;SEP&gt;Month</td>\n",
              "      <td></td>\n",
              "      <td></td>\n",
              "      <td>london</td>\n",
              "      <td>Q84</td>\n",
              "      <td>(51.507222, -0.1275)</td>\n",
              "      <td>62 , Fleet Street , E . C .</td>\n",
              "      <td>[{'mention': 'Fleet Street', 'pos': 34, 'sent_...</td>\n",
              "      <td>PRINTERS ' REGISTER . 6Gth of the Month , 2s ....</td>\n",
              "    </tr>\n",
              "  </tbody>\n",
              "</table>\n",
              "</div>\n",
              "    <div class=\"colab-df-buttons\">\n",
              "\n",
              "  <div class=\"colab-df-container\">\n",
              "    <button class=\"colab-df-convert\" onclick=\"convertToInteractive('df-7ba0d286-c906-44a6-9860-129dbb5e3f53')\"\n",
              "            title=\"Convert this dataframe to an interactive table.\"\n",
              "            style=\"display:none;\">\n",
              "\n",
              "  <svg xmlns=\"http://www.w3.org/2000/svg\" height=\"24px\" viewBox=\"0 -960 960 960\">\n",
              "    <path d=\"M120-120v-720h720v720H120Zm60-500h600v-160H180v160Zm220 220h160v-160H400v160Zm0 220h160v-160H400v160ZM180-400h160v-160H180v160Zm440 0h160v-160H620v160ZM180-180h160v-160H180v160Zm440 0h160v-160H620v160Z\"/>\n",
              "  </svg>\n",
              "    </button>\n",
              "\n",
              "  <style>\n",
              "    .colab-df-container {\n",
              "      display:flex;\n",
              "      gap: 12px;\n",
              "    }\n",
              "\n",
              "    .colab-df-convert {\n",
              "      background-color: #E8F0FE;\n",
              "      border: none;\n",
              "      border-radius: 50%;\n",
              "      cursor: pointer;\n",
              "      display: none;\n",
              "      fill: #1967D2;\n",
              "      height: 32px;\n",
              "      padding: 0 0 0 0;\n",
              "      width: 32px;\n",
              "    }\n",
              "\n",
              "    .colab-df-convert:hover {\n",
              "      background-color: #E2EBFA;\n",
              "      box-shadow: 0px 1px 2px rgba(60, 64, 67, 0.3), 0px 1px 3px 1px rgba(60, 64, 67, 0.15);\n",
              "      fill: #174EA6;\n",
              "    }\n",
              "\n",
              "    .colab-df-buttons div {\n",
              "      margin-bottom: 4px;\n",
              "    }\n",
              "\n",
              "    [theme=dark] .colab-df-convert {\n",
              "      background-color: #3B4455;\n",
              "      fill: #D2E3FC;\n",
              "    }\n",
              "\n",
              "    [theme=dark] .colab-df-convert:hover {\n",
              "      background-color: #434B5C;\n",
              "      box-shadow: 0px 1px 3px 1px rgba(0, 0, 0, 0.15);\n",
              "      filter: drop-shadow(0px 1px 2px rgba(0, 0, 0, 0.3));\n",
              "      fill: #FFFFFF;\n",
              "    }\n",
              "  </style>\n",
              "\n",
              "    <script>\n",
              "      const buttonEl =\n",
              "        document.querySelector('#df-7ba0d286-c906-44a6-9860-129dbb5e3f53 button.colab-df-convert');\n",
              "      buttonEl.style.display =\n",
              "        google.colab.kernel.accessAllowed ? 'block' : 'none';\n",
              "\n",
              "      async function convertToInteractive(key) {\n",
              "        const element = document.querySelector('#df-7ba0d286-c906-44a6-9860-129dbb5e3f53');\n",
              "        const dataTable =\n",
              "          await google.colab.kernel.invokeFunction('convertToInteractive',\n",
              "                                                    [key], {});\n",
              "        if (!dataTable) return;\n",
              "\n",
              "        const docLinkHtml = 'Like what you see? Visit the ' +\n",
              "          '<a target=\"_blank\" href=https://colab.research.google.com/notebooks/data_table.ipynb>data table notebook</a>'\n",
              "          + ' to learn more about interactive tables.';\n",
              "        element.innerHTML = '';\n",
              "        dataTable['output_type'] = 'display_data';\n",
              "        await google.colab.output.renderOutput(dataTable, element);\n",
              "        const docLink = document.createElement('div');\n",
              "        docLink.innerHTML = docLinkHtml;\n",
              "        element.appendChild(docLink);\n",
              "      }\n",
              "    </script>\n",
              "  </div>\n",
              "\n",
              "\n",
              "<div id=\"df-f82e9e8b-b433-494c-846b-8b5119a232b3\">\n",
              "  <button class=\"colab-df-quickchart\" onclick=\"quickchart('df-f82e9e8b-b433-494c-846b-8b5119a232b3')\"\n",
              "            title=\"Suggest charts\"\n",
              "            style=\"display:none;\">\n",
              "\n",
              "<svg xmlns=\"http://www.w3.org/2000/svg\" height=\"24px\"viewBox=\"0 0 24 24\"\n",
              "     width=\"24px\">\n",
              "    <g>\n",
              "        <path d=\"M19 3H5c-1.1 0-2 .9-2 2v14c0 1.1.9 2 2 2h14c1.1 0 2-.9 2-2V5c0-1.1-.9-2-2-2zM9 17H7v-7h2v7zm4 0h-2V7h2v10zm4 0h-2v-4h2v4z\"/>\n",
              "    </g>\n",
              "</svg>\n",
              "  </button>\n",
              "\n",
              "<style>\n",
              "  .colab-df-quickchart {\n",
              "      --bg-color: #E8F0FE;\n",
              "      --fill-color: #1967D2;\n",
              "      --hover-bg-color: #E2EBFA;\n",
              "      --hover-fill-color: #174EA6;\n",
              "      --disabled-fill-color: #AAA;\n",
              "      --disabled-bg-color: #DDD;\n",
              "  }\n",
              "\n",
              "  [theme=dark] .colab-df-quickchart {\n",
              "      --bg-color: #3B4455;\n",
              "      --fill-color: #D2E3FC;\n",
              "      --hover-bg-color: #434B5C;\n",
              "      --hover-fill-color: #FFFFFF;\n",
              "      --disabled-bg-color: #3B4455;\n",
              "      --disabled-fill-color: #666;\n",
              "  }\n",
              "\n",
              "  .colab-df-quickchart {\n",
              "    background-color: var(--bg-color);\n",
              "    border: none;\n",
              "    border-radius: 50%;\n",
              "    cursor: pointer;\n",
              "    display: none;\n",
              "    fill: var(--fill-color);\n",
              "    height: 32px;\n",
              "    padding: 0;\n",
              "    width: 32px;\n",
              "  }\n",
              "\n",
              "  .colab-df-quickchart:hover {\n",
              "    background-color: var(--hover-bg-color);\n",
              "    box-shadow: 0 1px 2px rgba(60, 64, 67, 0.3), 0 1px 3px 1px rgba(60, 64, 67, 0.15);\n",
              "    fill: var(--button-hover-fill-color);\n",
              "  }\n",
              "\n",
              "  .colab-df-quickchart-complete:disabled,\n",
              "  .colab-df-quickchart-complete:disabled:hover {\n",
              "    background-color: var(--disabled-bg-color);\n",
              "    fill: var(--disabled-fill-color);\n",
              "    box-shadow: none;\n",
              "  }\n",
              "\n",
              "  .colab-df-spinner {\n",
              "    border: 2px solid var(--fill-color);\n",
              "    border-color: transparent;\n",
              "    border-bottom-color: var(--fill-color);\n",
              "    animation:\n",
              "      spin 1s steps(1) infinite;\n",
              "  }\n",
              "\n",
              "  @keyframes spin {\n",
              "    0% {\n",
              "      border-color: transparent;\n",
              "      border-bottom-color: var(--fill-color);\n",
              "      border-left-color: var(--fill-color);\n",
              "    }\n",
              "    20% {\n",
              "      border-color: transparent;\n",
              "      border-left-color: var(--fill-color);\n",
              "      border-top-color: var(--fill-color);\n",
              "    }\n",
              "    30% {\n",
              "      border-color: transparent;\n",
              "      border-left-color: var(--fill-color);\n",
              "      border-top-color: var(--fill-color);\n",
              "      border-right-color: var(--fill-color);\n",
              "    }\n",
              "    40% {\n",
              "      border-color: transparent;\n",
              "      border-right-color: var(--fill-color);\n",
              "      border-top-color: var(--fill-color);\n",
              "    }\n",
              "    60% {\n",
              "      border-color: transparent;\n",
              "      border-right-color: var(--fill-color);\n",
              "    }\n",
              "    80% {\n",
              "      border-color: transparent;\n",
              "      border-right-color: var(--fill-color);\n",
              "      border-bottom-color: var(--fill-color);\n",
              "    }\n",
              "    90% {\n",
              "      border-color: transparent;\n",
              "      border-bottom-color: var(--fill-color);\n",
              "    }\n",
              "  }\n",
              "</style>\n",
              "\n",
              "  <script>\n",
              "    async function quickchart(key) {\n",
              "      const quickchartButtonEl =\n",
              "        document.querySelector('#' + key + ' button');\n",
              "      quickchartButtonEl.disabled = true;  // To prevent multiple clicks.\n",
              "      quickchartButtonEl.classList.add('colab-df-spinner');\n",
              "      try {\n",
              "        const charts = await google.colab.kernel.invokeFunction(\n",
              "            'suggestCharts', [key], {});\n",
              "      } catch (error) {\n",
              "        console.error('Error during call to suggestCharts:', error);\n",
              "      }\n",
              "      quickchartButtonEl.classList.remove('colab-df-spinner');\n",
              "      quickchartButtonEl.classList.add('colab-df-quickchart-complete');\n",
              "    }\n",
              "    (() => {\n",
              "      let quickchartButtonEl =\n",
              "        document.querySelector('#df-f82e9e8b-b433-494c-846b-8b5119a232b3 button');\n",
              "      quickchartButtonEl.style.display =\n",
              "        google.colab.kernel.accessAllowed ? 'block' : 'none';\n",
              "    })();\n",
              "  </script>\n",
              "</div>\n",
              "\n",
              "    </div>\n",
              "  </div>\n"
            ],
            "application/vnd.google.colaboratory.intrinsic+json": {
              "type": "dataframe",
              "repr_error": "0"
            }
          },
          "metadata": {},
          "execution_count": 20
        }
      ]
    },
    {
      "cell_type": "code",
      "source": [
        "# show all the column names\n",
        "df.columns"
      ],
      "metadata": {
        "id": "tLiN0zJ4AGAP",
        "colab": {
          "base_uri": "https://localhost:8080/"
        },
        "outputId": "8ecf2d3e-234e-4a13-bcae-3c7532b133a3"
      },
      "execution_count": null,
      "outputs": [
        {
          "output_type": "execute_result",
          "data": {
            "text/plain": [
              "Index(['ID', 'CHAIN_ID', 'YEAR', 'TITLE', 'PRICE', 'POLITICS',\n",
              "       'ESTABLISHED_DATE', 'PUBLISED_DATE', 'PERSONS', 'ORGANIZATIONS',\n",
              "       'PLACE_PUB', 'PLACE_PUB_WIKI', 'PLACE_PUB_COORD', 'PLACES',\n",
              "       'PLACES_TRES', 'TEXT'],\n",
              "      dtype='object')"
            ]
          },
          "metadata": {},
          "execution_count": 21
        }
      ]
    },
    {
      "cell_type": "markdown",
      "source": [
        "### Case Study 1: How old is the average newspaper title?\n",
        "\n",
        "**Question**: How 'old' is the average newspaper title? How does this change over time, place and by politics?\n",
        "\n",
        "**Sub-questions**:\n",
        "- What information do we need? remember `df.columns`)\n",
        "- Is the information all neatly processed and parsed?\n",
        "\n",
        "\n",
        "Run the code cell below to get a negative answer ;-)\n",
        "\n"
      ],
      "metadata": {
        "id": "Cym6BR69Tdiw"
      }
    },
    {
      "cell_type": "code",
      "source": [
        "# get all the unique values in the ESTABLISHED_DATE column\n",
        "df['ESTABLISHED_DATE'].unique()"
      ],
      "metadata": {
        "id": "qpRz0VaJAHm4",
        "colab": {
          "base_uri": "https://localhost:8080/"
        },
        "outputId": "4581ef7c-b317-4ac7-8cb7-8f135ed21078"
      },
      "execution_count": null,
      "outputs": [
        {
          "output_type": "execute_result",
          "data": {
            "text/plain": [
              "array(['January 28 , 1837', 'January 28 ; 1837', 'November , 1842', ...,\n",
              "       '1861<SEP>October , 1919', 'August 15 , 1898', 'Feb . 3 , 1917'],\n",
              "      dtype=object)"
            ]
          },
          "metadata": {},
          "execution_count": 22
        }
      ]
    },
    {
      "cell_type": "markdown",
      "source": [
        "Wait, wait, the 'ESTABLISHED_DATE' column contains **text not numbers** (or dates)."
      ],
      "metadata": {
        "id": "nUmPuV5Yu2nq"
      }
    },
    {
      "cell_type": "code",
      "source": [
        "print('value =',df.loc[0,'ESTABLISHED_DATE'])\n",
        "print('value type =',type(df.loc[0,'ESTABLISHED_DATE']))"
      ],
      "metadata": {
        "id": "hFiBniyquOQe",
        "colab": {
          "base_uri": "https://localhost:8080/"
        },
        "outputId": "9a0b19e9-132b-4bdc-edd9-36b73005dee7"
      },
      "execution_count": null,
      "outputs": [
        {
          "output_type": "stream",
          "name": "stdout",
          "text": [
            "value = November , 1842\n",
            "value type = <class 'str'>\n"
          ]
        }
      ]
    },
    {
      "cell_type": "code",
      "source": [
        "# get the value counts and select the top ten\n",
        "df['ESTABLISHED_DATE'].value_counts()[:10]"
      ],
      "metadata": {
        "id": "etzyoZwnYqdF",
        "colab": {
          "base_uri": "https://localhost:8080/",
          "height": 429
        },
        "outputId": "2e5bbe3b-9b97-4ace-bc1b-462f3598862e"
      },
      "execution_count": null,
      "outputs": [
        {
          "output_type": "execute_result",
          "data": {
            "text/plain": [
              "ESTABLISHED_DATE\n",
              "        5130\n",
              "1855    2265\n",
              "1857    1386\n",
              "1856    1200\n",
              "1860    1137\n",
              "1868    1054\n",
              "1880    1045\n",
              "1859    1038\n",
              "1858    1002\n",
              "1870     993\n",
              "Name: count, dtype: int64"
            ],
            "text/html": [
              "<div>\n",
              "<style scoped>\n",
              "    .dataframe tbody tr th:only-of-type {\n",
              "        vertical-align: middle;\n",
              "    }\n",
              "\n",
              "    .dataframe tbody tr th {\n",
              "        vertical-align: top;\n",
              "    }\n",
              "\n",
              "    .dataframe thead th {\n",
              "        text-align: right;\n",
              "    }\n",
              "</style>\n",
              "<table border=\"1\" class=\"dataframe\">\n",
              "  <thead>\n",
              "    <tr style=\"text-align: right;\">\n",
              "      <th></th>\n",
              "      <th>count</th>\n",
              "    </tr>\n",
              "    <tr>\n",
              "      <th>ESTABLISHED_DATE</th>\n",
              "      <th></th>\n",
              "    </tr>\n",
              "  </thead>\n",
              "  <tbody>\n",
              "    <tr>\n",
              "      <th></th>\n",
              "      <td>5130</td>\n",
              "    </tr>\n",
              "    <tr>\n",
              "      <th>1855</th>\n",
              "      <td>2265</td>\n",
              "    </tr>\n",
              "    <tr>\n",
              "      <th>1857</th>\n",
              "      <td>1386</td>\n",
              "    </tr>\n",
              "    <tr>\n",
              "      <th>1856</th>\n",
              "      <td>1200</td>\n",
              "    </tr>\n",
              "    <tr>\n",
              "      <th>1860</th>\n",
              "      <td>1137</td>\n",
              "    </tr>\n",
              "    <tr>\n",
              "      <th>1868</th>\n",
              "      <td>1054</td>\n",
              "    </tr>\n",
              "    <tr>\n",
              "      <th>1880</th>\n",
              "      <td>1045</td>\n",
              "    </tr>\n",
              "    <tr>\n",
              "      <th>1859</th>\n",
              "      <td>1038</td>\n",
              "    </tr>\n",
              "    <tr>\n",
              "      <th>1858</th>\n",
              "      <td>1002</td>\n",
              "    </tr>\n",
              "    <tr>\n",
              "      <th>1870</th>\n",
              "      <td>993</td>\n",
              "    </tr>\n",
              "  </tbody>\n",
              "</table>\n",
              "</div><br><label><b>dtype:</b> int64</label>"
            ]
          },
          "metadata": {},
          "execution_count": 27
        }
      ]
    },
    {
      "cell_type": "markdown",
      "source": [
        "#### Searching with regular expressions\n",
        "\n",
        "What to do? How can we convert these messy data to something we can work with?\n",
        "\n",
        "We can extract the year using regular expressions.\n",
        "This is a technique to create complex queries. We define a pattern that we want to find in our text data. In this case, we want to find all the years between 1700-1999.\n",
        "\n",
        "Therefore, we look for numbers consisting of four digits:\n",
        "- starting with 1\n",
        "- followed by a 7,8 or 9\n",
        "- and finishing with any combination of two digits"
      ],
      "metadata": {
        "id": "XlxweMd0FlWj"
      }
    },
    {
      "cell_type": "code",
      "source": [
        "# import the regular expression library\n",
        "import re\n",
        "# create the year matching pattern\n",
        "year_pattern = re.compile(r'\\b1[789][0-9]{2}\\b')"
      ],
      "metadata": {
        "id": "g3qfaX6_YnDX"
      },
      "execution_count": null,
      "outputs": []
    },
    {
      "cell_type": "markdown",
      "source": [
        "Let's evaluate the regular expression pattern on an example string\n",
        "- Question 1: change the `test_string` below and test it yourself;\n",
        "- Question 2: can/should you change the regular expression?"
      ],
      "metadata": {
        "id": "e0jPobnDFeSN"
      }
    },
    {
      "cell_type": "code",
      "source": [
        "# create a string to test the regex\n",
        "test_string = '1960 1543 0323 1789 187e 18982 1892'\n",
        "# apply regex to string\n",
        "year_pattern.findall(test_string)"
      ],
      "metadata": {
        "id": "qD-Hy6kGTbag",
        "colab": {
          "base_uri": "https://localhost:8080/"
        },
        "outputId": "d2c0a334-69a4-4c6f-be82-c0d06b2184ae"
      },
      "execution_count": null,
      "outputs": [
        {
          "output_type": "execute_result",
          "data": {
            "text/plain": [
              "['1960', '1789', '1892']"
            ]
          },
          "metadata": {},
          "execution_count": 3
        }
      ]
    },
    {
      "cell_type": "markdown",
      "source": [
        "Now, we can apply this regex to all the values in the ESTABLISHED_DATE column and extract the year from the date string.\n",
        "\n",
        "However, there are a few problems (which are very common when working with cultural heritage datasets).\n",
        "- some rows do not have a value for these columns -> **missing data**\n",
        "- some rows contain multiple years -> **irregular data**\n",
        "\n",
        "Solutions?\n",
        "- if the cell is **empty**, we take the value in the YEAR column\n",
        "- if the cell contains multiple years, we focus on the first year mentioned\n",
        "\n",
        "Please note: Both of the above steps are **choices** that must be explained and motivated!"
      ],
      "metadata": {
        "id": "xYhxvS5wGULd"
      }
    },
    {
      "cell_type": "code",
      "source": [
        "# apply the regex to the ESTABLISHED_DATE data column and save result in the ESTABLISHED_YEAR column\n",
        "df['ESTABLISHED_YEAR'] = df['ESTABLISHED_DATE'].apply(lambda x: year_pattern.findall(x))\n",
        "# if no date has been found\n",
        "# - take either the first year\n",
        "# - or the value in the YEAR column\n",
        "# convert the numbers to integers\n",
        "df['ESTABLISHED_YEAR'] = df.apply(lambda x: int(x['ESTABLISHED_YEAR'][0]) if len(x['ESTABLISHED_YEAR']) > 0 else x['YEAR'], axis=1)"
      ],
      "metadata": {
        "id": "VvyBh419QwvZ"
      },
      "execution_count": null,
      "outputs": []
    },
    {
      "cell_type": "code",
      "source": [
        "# inspect the result of this operation\n",
        "df['ESTABLISHED_YEAR'].unique()"
      ],
      "metadata": {
        "id": "Dm5JKJmeaaso",
        "colab": {
          "base_uri": "https://localhost:8080/"
        },
        "outputId": "dc9e7591-7b95-4a2a-b2fd-8938c2c9e47d"
      },
      "execution_count": null,
      "outputs": [
        {
          "output_type": "execute_result",
          "data": {
            "text/plain": [
              "array([1837, 1842, 1844, 1849, 1806, 1836, 1748, 1744, 1718, 1717, 1790,\n",
              "       1792, 1853, 1833, 1838, 1798, 1708, 1800, 1832, 1831, 1863, 1846,\n",
              "       1856, 1877, 1845, 1816, 1820, 1830, 1789, 1769, 1772, 1834, 1828,\n",
              "       1827, 1764, 1754, 1891, 1893, 1894, 1810, 1751, 1753, 1758, 1733,\n",
              "       1841, 1840, 1821, 1711, 1725, 1721, 1720, 1714, 1819, 1795, 1705,\n",
              "       1847, 1851, 1857, 1858, 1860, 1861, 1862, 1864, 1865, 1866, 1867,\n",
              "       1868, 1869, 1870, 1871, 1872, 1873, 1874, 1875, 1878, 1879, 1880,\n",
              "       1881, 1882, 1883, 1884, 1885, 1886, 1888, 1889, 1890, 1895, 1896,\n",
              "       1898, 1899, 1900, 1902, 1903, 1905, 1907, 1908, 1910, 1912, 1914,\n",
              "       1915, 1920, 1822, 1812, 1709, 1747, 1803, 1808, 1835, 1809, 1843,\n",
              "       1848, 1801, 1802, 1782, 1783, 1817, 1797, 1811, 1829, 1826, 1737,\n",
              "       1773, 1824, 1766, 1779, 1839, 1825, 1778, 1776, 1767, 1815, 1850,\n",
              "       1887, 1852, 1855, 1854, 1876, 1799, 1745, 1807, 1739, 1713, 1774,\n",
              "       1859, 1730, 1786, 1823, 1818, 1722, 1794, 1723, 1796, 1756, 1775,\n",
              "       1731, 1750, 1788, 1729, 1814, 1770, 1761, 1741, 1716, 1710, 1763,\n",
              "       1768, 1732, 1791, 1757, 1760, 1804, 1787, 1935, 1897, 1742, 1780,\n",
              "       1735, 1976, 1746, 1736, 1765, 1892, 1793, 1805, 1759, 1901, 1990,\n",
              "       1781, 1904, 1906, 1813, 1909, 1738, 1911, 1913, 1700, 1726, 1993,\n",
              "       1918, 1956, 1919, 1916, 1719, 1917])"
            ]
          },
          "metadata": {},
          "execution_count": 29
        }
      ]
    },
    {
      "cell_type": "markdown",
      "source": [
        "Now we can compute how old a newspaper is in a given year by subtracting ESTABLISHED_YEAR from YEAR. We save this in a new column with the name **SENIORITY**."
      ],
      "metadata": {
        "id": "hZNlC5kQJLp8"
      }
    },
    {
      "cell_type": "code",
      "source": [
        "# save the difference between YEAR and ESTABLISHED_YEAR in the SENIORITY column\n",
        "df['SENIORITY'] = df.apply(lambda x: int(x['YEAR']) - int(x['ESTABLISHED_YEAR']), axis=1)"
      ],
      "metadata": {
        "id": "l1z7ff0UkaSK"
      },
      "execution_count": null,
      "outputs": []
    },
    {
      "cell_type": "code",
      "source": [
        "# apply mean to get the average age\n",
        "df['SENIORITY'].mean()"
      ],
      "metadata": {
        "id": "ghm06nSjmgos",
        "colab": {
          "base_uri": "https://localhost:8080/"
        },
        "outputId": "bf239013-7856-4b5d-d474-2217598e21de"
      },
      "execution_count": null,
      "outputs": [
        {
          "output_type": "execute_result",
          "data": {
            "text/plain": [
              "27.681963019964016"
            ]
          },
          "metadata": {},
          "execution_count": 31
        }
      ]
    },
    {
      "cell_type": "code",
      "source": [
        "# longest run observed during our period\n",
        "df['SENIORITY'].max()"
      ],
      "metadata": {
        "id": "WU4gqszsJm_t",
        "colab": {
          "base_uri": "https://localhost:8080/"
        },
        "outputId": "134fad19-6822-488b-d850-4c2d658d00fd"
      },
      "execution_count": null,
      "outputs": [
        {
          "output_type": "execute_result",
          "data": {
            "text/plain": [
              "209"
            ]
          },
          "metadata": {},
          "execution_count": 32
        }
      ]
    },
    {
      "cell_type": "markdown",
      "source": [
        "Now we can compute for each year the average SENIORITY of newspaper titles, and plot the result"
      ],
      "metadata": {
        "id": "y1REpvCeJwqq"
      }
    },
    {
      "cell_type": "code",
      "source": [
        "# groupby by year and compute the mean for the seniority column\n",
        "df.groupby(['YEAR'])['SENIORITY'].mean().plot()"
      ],
      "metadata": {
        "id": "K2FiOTrKp5YT",
        "colab": {
          "base_uri": "https://localhost:8080/",
          "height": 467
        },
        "outputId": "1734ef84-8a8a-40f1-a4e7-00aa8d1edcd2"
      },
      "execution_count": null,
      "outputs": [
        {
          "output_type": "execute_result",
          "data": {
            "text/plain": [
              "<Axes: xlabel='YEAR'>"
            ]
          },
          "metadata": {},
          "execution_count": 33
        },
        {
          "output_type": "display_data",
          "data": {
            "text/plain": [
              "<Figure size 640x480 with 1 Axes>"
            ],
            "image/png": "[encoded data removed]"
          },
          "metadata": {}
        }
      ]
    },
    {
      "cell_type": "markdown",
      "source": [
        "To make plotting prettier and easier, we can use the seaborn library."
      ],
      "metadata": {
        "id": "QUrI-y29J9Wb"
      }
    },
    {
      "cell_type": "code",
      "source": [
        "import seaborn as sns\n",
        "sns.set()\n",
        "sns.lineplot(x='YEAR',y='SENIORITY', data=df)"
      ],
      "metadata": {
        "id": "vS8OhGrHnCVl",
        "colab": {
          "base_uri": "https://localhost:8080/",
          "height": 476
        },
        "outputId": "8af62ce6-7b45-4d67-f64d-9a71d93dbd07"
      },
      "execution_count": null,
      "outputs": [
        {
          "output_type": "execute_result",
          "data": {
            "text/plain": [
              "<Axes: xlabel='YEAR', ylabel='SENIORITY'>"
            ]
          },
          "metadata": {},
          "execution_count": 34
        },
        {
          "output_type": "display_data",
          "data": {
            "text/plain": [
              "<Figure size 640x480 with 1 Axes>"
            ],
            "image/png": "[encoded data removed]"
          },
          "metadata": {}
        }
      ]
    },
    {
      "cell_type": "markdown",
      "source": [
        "Let's inspect how seniority relates to the political orientation of a newspaper."
      ],
      "metadata": {
        "id": "EQ2i0HKfKHoB"
      }
    },
    {
      "cell_type": "code",
      "source": [
        "# subset data to row containing a specific set of political labels\n",
        "data = df[df['POLITICS'].isin(['liberal', 'conservative','independent','neutral'])]\n",
        "# make a lineplot\n",
        "sns.lineplot(x='YEAR', # values for the x-axis\n",
        "             y='SENIORITY', # values for the y-axis\n",
        "             hue='POLITICS', # split data by values in this cell\n",
        "             hue_order=['conservative', 'liberal','independent','neutral'], # the order of the colors/distinctions\n",
        "             data=data # use this data\n",
        "             )"
      ],
      "metadata": {
        "id": "8d_qs2nYkn9Q",
        "colab": {
          "base_uri": "https://localhost:8080/",
          "height": 476
        },
        "outputId": "3d181f99-4678-4bbd-e3d8-46412fe3e2db"
      },
      "execution_count": null,
      "outputs": [
        {
          "output_type": "execute_result",
          "data": {
            "text/plain": [
              "<Axes: xlabel='YEAR', ylabel='SENIORITY'>"
            ]
          },
          "metadata": {},
          "execution_count": 35
        },
        {
          "output_type": "display_data",
          "data": {
            "text/plain": [
              "<Figure size 640x480 with 1 Axes>"
            ],
            "image/png": "[encoded data removed]"
          },
          "metadata": {}
        }
      ]
    },
    {
      "cell_type": "markdown",
      "source": [
        "Lastly, let's analyse and visualise how the seniority of newspaper titles differs by place. We will need to complete a few more processing steps to visualize this. Again, don't worry if Python is new to you, run the code and look at the outputs!\n",
        "\n",
        "After running the code, you can download the file it produces ('by_place.csv') and explore it with a visualisation tool such as [kepler.gl](https://kepler.gl/)."
      ],
      "metadata": {
        "id": "bgmCcBvMMclG"
      }
    },
    {
      "cell_type": "code",
      "source": [
        "# remove rows without coordinates\n",
        "df = df[df['PLACE_PUB_COORD'] != '(nan, nan)']\n",
        "# group by place name and coordinates\n",
        "by_place = df.groupby(['PLACE_PUB','PLACE_PUB_COORD']).agg({'SENIORITY':'mean', 'ID': 'count'}).reset_index()\n",
        "# convert the coordinates from string to a tuple\n",
        "by_place['PLACE_PUB_COORD'] = by_place['PLACE_PUB_COORD'].apply(eval)\n",
        "# save coordinates in different columns\n",
        "by_place['point_latitude'] = by_place.PLACE_PUB_COORD.apply(lambda x: x[0])\n",
        "by_place['point_longitude'] = by_place.PLACE_PUB_COORD.apply(lambda x: x[1])\n",
        "# remove the original column\n",
        "by_place.drop('PLACE_PUB_COORD', axis=1, inplace=True)\n",
        "# rename ID columns to COUNT\n",
        "by_place.rename(columns={'ID':'COUNT'}, inplace=True)\n",
        "# only keep places with more than 10 observation\n",
        "by_place = by_place[by_place.COUNT > 10]\n",
        "# save the result in csv file\n",
        "by_place.to_csv('by_place.csv')\n",
        "# now download the file and load it into kepler"
      ],
      "metadata": {
        "id": "uGi3TvGfr1yl"
      },
      "execution_count": null,
      "outputs": []
    },
    {
      "cell_type": "code",
      "source": [
        "by_place"
      ],
      "metadata": {
        "id": "b573Jf2qsl3r",
        "colab": {
          "base_uri": "https://localhost:8080/",
          "height": 424
        },
        "outputId": "d6769e39-4cd4-4c8a-e856-51385b21722f"
      },
      "execution_count": null,
      "outputs": [
        {
          "output_type": "execute_result",
          "data": {
            "text/plain": [
              "        PLACE_PUB  SENIORITY  COUNT  point_latitude  point_longitude\n",
              "1        aberdare  20.183673     98       51.713056        -3.445000\n",
              "2        aberdeen  39.910941    393       57.150000        -2.100000\n",
              "4     abergavenny  18.500000     38       51.833056        -3.017222\n",
              "5        abergele  25.980000     50       53.280000        -3.580000\n",
              "6     abertillery  13.769231     26       51.730000        -3.130000\n",
              "...           ...        ...    ...             ...              ...\n",
              "1268      wycombe  19.156250     64       51.638500        -0.807900\n",
              "1269    wymondham   8.615385     13       52.570000         1.116000\n",
              "1270     yarmouth  19.380597    134       52.633333         1.750000\n",
              "1272       yeovil  86.270833     96       50.945200        -2.637000\n",
              "1274         york  48.540541    148       53.950000        -1.083333\n",
              "\n",
              "[877 rows x 5 columns]"
            ],
            "text/html": [
              "\n",
              "  <div id=\"df-6bf152f0-271d-4443-8048-2e479553cefa\" class=\"colab-df-container\">\n",
              "    <div>\n",
              "<style scoped>\n",
              "    .dataframe tbody tr th:only-of-type {\n",
              "        vertical-align: middle;\n",
              "    }\n",
              "\n",
              "    .dataframe tbody tr th {\n",
              "        vertical-align: top;\n",
              "    }\n",
              "\n",
              "    .dataframe thead th {\n",
              "        text-align: right;\n",
              "    }\n",
              "</style>\n",
              "<table border=\"1\" class=\"dataframe\">\n",
              "  <thead>\n",
              "    <tr style=\"text-align: right;\">\n",
              "      <th></th>\n",
              "      <th>PLACE_PUB</th>\n",
              "      <th>SENIORITY</th>\n",
              "      <th>COUNT</th>\n",
              "      <th>point_latitude</th>\n",
              "      <th>point_longitude</th>\n",
              "    </tr>\n",
              "  </thead>\n",
              "  <tbody>\n",
              "    <tr>\n",
              "      <th>1</th>\n",
              "      <td>aberdare</td>\n",
              "      <td>20.183673</td>\n",
              "      <td>98</td>\n",
              "      <td>51.713056</td>\n",
              "      <td>-3.445000</td>\n",
              "    </tr>\n",
              "    <tr>\n",
              "      <th>2</th>\n",
              "      <td>aberdeen</td>\n",
              "      <td>39.910941</td>\n",
              "      <td>393</td>\n",
              "      <td>57.150000</td>\n",
              "      <td>-2.100000</td>\n",
              "    </tr>\n",
              "    <tr>\n",
              "      <th>4</th>\n",
              "      <td>abergavenny</td>\n",
              "      <td>18.500000</td>\n",
              "      <td>38</td>\n",
              "      <td>51.833056</td>\n",
              "      <td>-3.017222</td>\n",
              "    </tr>\n",
              "    <tr>\n",
              "      <th>5</th>\n",
              "      <td>abergele</td>\n",
              "      <td>25.980000</td>\n",
              "      <td>50</td>\n",
              "      <td>53.280000</td>\n",
              "      <td>-3.580000</td>\n",
              "    </tr>\n",
              "    <tr>\n",
              "      <th>6</th>\n",
              "      <td>abertillery</td>\n",
              "      <td>13.769231</td>\n",
              "      <td>26</td>\n",
              "      <td>51.730000</td>\n",
              "      <td>-3.130000</td>\n",
              "    </tr>\n",
              "    <tr>\n",
              "      <th>...</th>\n",
              "      <td>...</td>\n",
              "      <td>...</td>\n",
              "      <td>...</td>\n",
              "      <td>...</td>\n",
              "      <td>...</td>\n",
              "    </tr>\n",
              "    <tr>\n",
              "      <th>1268</th>\n",
              "      <td>wycombe</td>\n",
              "      <td>19.156250</td>\n",
              "      <td>64</td>\n",
              "      <td>51.638500</td>\n",
              "      <td>-0.807900</td>\n",
              "    </tr>\n",
              "    <tr>\n",
              "      <th>1269</th>\n",
              "      <td>wymondham</td>\n",
              "      <td>8.615385</td>\n",
              "      <td>13</td>\n",
              "      <td>52.570000</td>\n",
              "      <td>1.116000</td>\n",
              "    </tr>\n",
              "    <tr>\n",
              "      <th>1270</th>\n",
              "      <td>yarmouth</td>\n",
              "      <td>19.380597</td>\n",
              "      <td>134</td>\n",
              "      <td>52.633333</td>\n",
              "      <td>1.750000</td>\n",
              "    </tr>\n",
              "    <tr>\n",
              "      <th>1272</th>\n",
              "      <td>yeovil</td>\n",
              "      <td>86.270833</td>\n",
              "      <td>96</td>\n",
              "      <td>50.945200</td>\n",
              "      <td>-2.637000</td>\n",
              "    </tr>\n",
              "    <tr>\n",
              "      <th>1274</th>\n",
              "      <td>york</td>\n",
              "      <td>48.540541</td>\n",
              "      <td>148</td>\n",
              "      <td>53.950000</td>\n",
              "      <td>-1.083333</td>\n",
              "    </tr>\n",
              "  </tbody>\n",
              "</table>\n",
              "<p>877 rows × 5 columns</p>\n",
              "</div>\n",
              "    <div class=\"colab-df-buttons\">\n",
              "\n",
              "  <div class=\"colab-df-container\">\n",
              "    <button class=\"colab-df-convert\" onclick=\"convertToInteractive('df-6bf152f0-271d-4443-8048-2e479553cefa')\"\n",
              "            title=\"Convert this dataframe to an interactive table.\"\n",
              "            style=\"display:none;\">\n",
              "\n",
              "  <svg xmlns=\"http://www.w3.org/2000/svg\" height=\"24px\" viewBox=\"0 -960 960 960\">\n",
              "    <path d=\"M120-120v-720h720v720H120Zm60-500h600v-160H180v160Zm220 220h160v-160H400v160Zm0 220h160v-160H400v160ZM180-400h160v-160H180v160Zm440 0h160v-160H620v160ZM180-180h160v-160H180v160Zm440 0h160v-160H620v160Z\"/>\n",
              "  </svg>\n",
              "    </button>\n",
              "\n",
              "  <style>\n",
              "    .colab-df-container {\n",
              "      display:flex;\n",
              "      gap: 12px;\n",
              "    }\n",
              "\n",
              "    .colab-df-convert {\n",
              "      background-color: #E8F0FE;\n",
              "      border: none;\n",
              "      border-radius: 50%;\n",
              "      cursor: pointer;\n",
              "      display: none;\n",
              "      fill: #1967D2;\n",
              "      height: 32px;\n",
              "      padding: 0 0 0 0;\n",
              "      width: 32px;\n",
              "    }\n",
              "\n",
              "    .colab-df-convert:hover {\n",
              "      background-color: #E2EBFA;\n",
              "      box-shadow: 0px 1px 2px rgba(60, 64, 67, 0.3), 0px 1px 3px 1px rgba(60, 64, 67, 0.15);\n",
              "      fill: #174EA6;\n",
              "    }\n",
              "\n",
              "    .colab-df-buttons div {\n",
              "      margin-bottom: 4px;\n",
              "    }\n",
              "\n",
              "    [theme=dark] .colab-df-convert {\n",
              "      background-color: #3B4455;\n",
              "      fill: #D2E3FC;\n",
              "    }\n",
              "\n",
              "    [theme=dark] .colab-df-convert:hover {\n",
              "      background-color: #434B5C;\n",
              "      box-shadow: 0px 1px 3px 1px rgba(0, 0, 0, 0.15);\n",
              "      filter: drop-shadow(0px 1px 2px rgba(0, 0, 0, 0.3));\n",
              "      fill: #FFFFFF;\n",
              "    }\n",
              "  </style>\n",
              "\n",
              "    <script>\n",
              "      const buttonEl =\n",
              "        document.querySelector('#df-6bf152f0-271d-4443-8048-2e479553cefa button.colab-df-convert');\n",
              "      buttonEl.style.display =\n",
              "        google.colab.kernel.accessAllowed ? 'block' : 'none';\n",
              "\n",
              "      async function convertToInteractive(key) {\n",
              "        const element = document.querySelector('#df-6bf152f0-271d-4443-8048-2e479553cefa');\n",
              "        const dataTable =\n",
              "          await google.colab.kernel.invokeFunction('convertToInteractive',\n",
              "                                                    [key], {});\n",
              "        if (!dataTable) return;\n",
              "\n",
              "        const docLinkHtml = 'Like what you see? Visit the ' +\n",
              "          '<a target=\"_blank\" href=https://colab.research.google.com/notebooks/data_table.ipynb>data table notebook</a>'\n",
              "          + ' to learn more about interactive tables.';\n",
              "        element.innerHTML = '';\n",
              "        dataTable['output_type'] = 'display_data';\n",
              "        await google.colab.output.renderOutput(dataTable, element);\n",
              "        const docLink = document.createElement('div');\n",
              "        docLink.innerHTML = docLinkHtml;\n",
              "        element.appendChild(docLink);\n",
              "      }\n",
              "    </script>\n",
              "  </div>\n",
              "\n",
              "\n",
              "<div id=\"df-3ed543af-e7f7-416c-8ccc-e37ea2c3986d\">\n",
              "  <button class=\"colab-df-quickchart\" onclick=\"quickchart('df-3ed543af-e7f7-416c-8ccc-e37ea2c3986d')\"\n",
              "            title=\"Suggest charts\"\n",
              "            style=\"display:none;\">\n",
              "\n",
              "<svg xmlns=\"http://www.w3.org/2000/svg\" height=\"24px\"viewBox=\"0 0 24 24\"\n",
              "     width=\"24px\">\n",
              "    <g>\n",
              "        <path d=\"M19 3H5c-1.1 0-2 .9-2 2v14c0 1.1.9 2 2 2h14c1.1 0 2-.9 2-2V5c0-1.1-.9-2-2-2zM9 17H7v-7h2v7zm4 0h-2V7h2v10zm4 0h-2v-4h2v4z\"/>\n",
              "    </g>\n",
              "</svg>\n",
              "  </button>\n",
              "\n",
              "<style>\n",
              "  .colab-df-quickchart {\n",
              "      --bg-color: #E8F0FE;\n",
              "      --fill-color: #1967D2;\n",
              "      --hover-bg-color: #E2EBFA;\n",
              "      --hover-fill-color: #174EA6;\n",
              "      --disabled-fill-color: #AAA;\n",
              "      --disabled-bg-color: #DDD;\n",
              "  }\n",
              "\n",
              "  [theme=dark] .colab-df-quickchart {\n",
              "      --bg-color: #3B4455;\n",
              "      --fill-color: #D2E3FC;\n",
              "      --hover-bg-color: #434B5C;\n",
              "      --hover-fill-color: #FFFFFF;\n",
              "      --disabled-bg-color: #3B4455;\n",
              "      --disabled-fill-color: #666;\n",
              "  }\n",
              "\n",
              "  .colab-df-quickchart {\n",
              "    background-color: var(--bg-color);\n",
              "    border: none;\n",
              "    border-radius: 50%;\n",
              "    cursor: pointer;\n",
              "    display: none;\n",
              "    fill: var(--fill-color);\n",
              "    height: 32px;\n",
              "    padding: 0;\n",
              "    width: 32px;\n",
              "  }\n",
              "\n",
              "  .colab-df-quickchart:hover {\n",
              "    background-color: var(--hover-bg-color);\n",
              "    box-shadow: 0 1px 2px rgba(60, 64, 67, 0.3), 0 1px 3px 1px rgba(60, 64, 67, 0.15);\n",
              "    fill: var(--button-hover-fill-color);\n",
              "  }\n",
              "\n",
              "  .colab-df-quickchart-complete:disabled,\n",
              "  .colab-df-quickchart-complete:disabled:hover {\n",
              "    background-color: var(--disabled-bg-color);\n",
              "    fill: var(--disabled-fill-color);\n",
              "    box-shadow: none;\n",
              "  }\n",
              "\n",
              "  .colab-df-spinner {\n",
              "    border: 2px solid var(--fill-color);\n",
              "    border-color: transparent;\n",
              "    border-bottom-color: var(--fill-color);\n",
              "    animation:\n",
              "      spin 1s steps(1) infinite;\n",
              "  }\n",
              "\n",
              "  @keyframes spin {\n",
              "    0% {\n",
              "      border-color: transparent;\n",
              "      border-bottom-color: var(--fill-color);\n",
              "      border-left-color: var(--fill-color);\n",
              "    }\n",
              "    20% {\n",
              "      border-color: transparent;\n",
              "      border-left-color: var(--fill-color);\n",
              "      border-top-color: var(--fill-color);\n",
              "    }\n",
              "    30% {\n",
              "      border-color: transparent;\n",
              "      border-left-color: var(--fill-color);\n",
              "      border-top-color: var(--fill-color);\n",
              "      border-right-color: var(--fill-color);\n",
              "    }\n",
              "    40% {\n",
              "      border-color: transparent;\n",
              "      border-right-color: var(--fill-color);\n",
              "      border-top-color: var(--fill-color);\n",
              "    }\n",
              "    60% {\n",
              "      border-color: transparent;\n",
              "      border-right-color: var(--fill-color);\n",
              "    }\n",
              "    80% {\n",
              "      border-color: transparent;\n",
              "      border-right-color: var(--fill-color);\n",
              "      border-bottom-color: var(--fill-color);\n",
              "    }\n",
              "    90% {\n",
              "      border-color: transparent;\n",
              "      border-bottom-color: var(--fill-color);\n",
              "    }\n",
              "  }\n",
              "</style>\n",
              "\n",
              "  <script>\n",
              "    async function quickchart(key) {\n",
              "      const quickchartButtonEl =\n",
              "        document.querySelector('#' + key + ' button');\n",
              "      quickchartButtonEl.disabled = true;  // To prevent multiple clicks.\n",
              "      quickchartButtonEl.classList.add('colab-df-spinner');\n",
              "      try {\n",
              "        const charts = await google.colab.kernel.invokeFunction(\n",
              "            'suggestCharts', [key], {});\n",
              "      } catch (error) {\n",
              "        console.error('Error during call to suggestCharts:', error);\n",
              "      }\n",
              "      quickchartButtonEl.classList.remove('colab-df-spinner');\n",
              "      quickchartButtonEl.classList.add('colab-df-quickchart-complete');\n",
              "    }\n",
              "    (() => {\n",
              "      let quickchartButtonEl =\n",
              "        document.querySelector('#df-3ed543af-e7f7-416c-8ccc-e37ea2c3986d button');\n",
              "      quickchartButtonEl.style.display =\n",
              "        google.colab.kernel.accessAllowed ? 'block' : 'none';\n",
              "    })();\n",
              "  </script>\n",
              "</div>\n",
              "\n",
              "  <div id=\"id_2da787eb-4513-4fd4-9f83-499f88d86cc4\">\n",
              "    <style>\n",
              "      .colab-df-generate {\n",
              "        background-color: #E8F0FE;\n",
              "        border: none;\n",
              "        border-radius: 50%;\n",
              "        cursor: pointer;\n",
              "        display: none;\n",
              "        fill: #1967D2;\n",
              "        height: 32px;\n",
              "        padding: 0 0 0 0;\n",
              "        width: 32px;\n",
              "      }\n",
              "\n",
              "      .colab-df-generate:hover {\n",
              "        background-color: #E2EBFA;\n",
              "        box-shadow: 0px 1px 2px rgba(60, 64, 67, 0.3), 0px 1px 3px 1px rgba(60, 64, 67, 0.15);\n",
              "        fill: #174EA6;\n",
              "      }\n",
              "\n",
              "      [theme=dark] .colab-df-generate {\n",
              "        background-color: #3B4455;\n",
              "        fill: #D2E3FC;\n",
              "      }\n",
              "\n",
              "      [theme=dark] .colab-df-generate:hover {\n",
              "        background-color: #434B5C;\n",
              "        box-shadow: 0px 1px 3px 1px rgba(0, 0, 0, 0.15);\n",
              "        filter: drop-shadow(0px 1px 2px rgba(0, 0, 0, 0.3));\n",
              "        fill: #FFFFFF;\n",
              "      }\n",
              "    </style>\n",
              "    <button class=\"colab-df-generate\" onclick=\"generateWithVariable('by_place')\"\n",
              "            title=\"Generate code using this dataframe.\"\n",
              "            style=\"display:none;\">\n",
              "\n",
              "  <svg xmlns=\"http://www.w3.org/2000/svg\" height=\"24px\"viewBox=\"0 0 24 24\"\n",
              "       width=\"24px\">\n",
              "    <path d=\"M7,19H8.4L18.45,9,17,7.55,7,17.6ZM5,21V16.75L18.45,3.32a2,2,0,0,1,2.83,0l1.4,1.43a1.91,1.91,0,0,1,.58,1.4,1.91,1.91,0,0,1-.58,1.4L9.25,21ZM18.45,9,17,7.55Zm-12,3A5.31,5.31,0,0,0,4.9,8.1,5.31,5.31,0,0,0,1,6.5,5.31,5.31,0,0,0,4.9,4.9,5.31,5.31,0,0,0,6.5,1,5.31,5.31,0,0,0,8.1,4.9,5.31,5.31,0,0,0,12,6.5,5.46,5.46,0,0,0,6.5,12Z\"/>\n",
              "  </svg>\n",
              "    </button>\n",
              "    <script>\n",
              "      (() => {\n",
              "      const buttonEl =\n",
              "        document.querySelector('#id_2da787eb-4513-4fd4-9f83-499f88d86cc4 button.colab-df-generate');\n",
              "      buttonEl.style.display =\n",
              "        google.colab.kernel.accessAllowed ? 'block' : 'none';\n",
              "\n",
              "      buttonEl.onclick = () => {\n",
              "        google.colab.notebook.generateWithVariable('by_place');\n",
              "      }\n",
              "      })();\n",
              "    </script>\n",
              "  </div>\n",
              "\n",
              "    </div>\n",
              "  </div>\n"
            ],
            "application/vnd.google.colaboratory.intrinsic+json": {
              "type": "dataframe",
              "variable_name": "by_place",
              "summary": "{\n  \"name\": \"by_place\",\n  \"rows\": 877,\n  \"fields\": [\n    {\n      \"column\": \"PLACE_PUB\",\n      \"properties\": {\n        \"dtype\": \"string\",\n        \"num_unique_values\": 868,\n        \"samples\": [\n          \"huntingdon\",\n          \"bathgate\",\n          \"lyme regis\"\n        ],\n        \"semantic_type\": \"\",\n        \"description\": \"\"\n      }\n    },\n    {\n      \"column\": \"SENIORITY\",\n      \"properties\": {\n        \"dtype\": \"number\",\n        \"std\": 12.63653767042945,\n        \"min\": 0.0,\n        \"max\": 86.27083333333333,\n        \"num_unique_values\": 849,\n        \"samples\": [\n          22.015873015873016,\n          16.48148148148148,\n          11.806451612903226\n        ],\n        \"semantic_type\": \"\",\n        \"description\": \"\"\n      }\n    },\n    {\n      \"column\": \"COUNT\",\n      \"properties\": {\n        \"dtype\": \"number\",\n        \"std\": 583,\n        \"min\": 11,\n        \"max\": 17104,\n        \"num_unique_values\": 218,\n        \"samples\": [\n          88,\n          343,\n          109\n        ],\n        \"semantic_type\": \"\",\n        \"description\": \"\"\n      }\n    },\n    {\n      \"column\": \"point_latitude\",\n      \"properties\": {\n        \"dtype\": \"number\",\n        \"std\": 1.725598044067996,\n        \"min\": 49.21,\n        \"max\": 60.154167,\n        \"num_unique_values\": 836,\n        \"samples\": [\n          51.237644,\n          51.60475,\n          51.657\n        ],\n        \"semantic_type\": \"\",\n        \"description\": \"\"\n      }\n    },\n    {\n      \"column\": \"point_longitude\",\n      \"properties\": {\n        \"dtype\": \"number\",\n        \"std\": 2.1196658407756845,\n        \"min\": -9.6962,\n        \"max\": 1.75,\n        \"num_unique_values\": 845,\n        \"samples\": [\n          -2.963186,\n          -1.3002,\n          -3.480189\n        ],\n        \"semantic_type\": \"\",\n        \"description\": \"\"\n      }\n    }\n  ]\n}"
            }
          },
          "metadata": {},
          "execution_count": 37
        }
      ]
    },
    {
      "cell_type": "markdown",
      "source": [
        "### Case Study 2: Women in the press\n",
        "\n",
        "Let's explore a different question, and study the press directories through a gendered lens.\n",
        "- To what extent are women present?\n",
        "- How does this change over time?"
      ],
      "metadata": {
        "id": "ixL0XOGJQwRz"
      }
    },
    {
      "cell_type": "code",
      "source": [
        "# load the dataframe\n",
        "df = pd.read_csv('https://bl.iro.bl.uk/downloads/da65047c-4d62-4ab7-946f-8e61e5f6f331?locale=en', index_col=0)"
      ],
      "metadata": {
        "id": "abjeZcu9jZMu"
      },
      "execution_count": null,
      "outputs": []
    },
    {
      "cell_type": "code",
      "source": [
        "# replace not a number nan with empty spaces\n",
        "df.fillna('', inplace=True)"
      ],
      "metadata": {
        "id": "Fi6T791BQ6qn"
      },
      "execution_count": null,
      "outputs": []
    },
    {
      "cell_type": "code",
      "source": [
        "# show three random rows\n",
        "df.sample(3)"
      ],
      "metadata": {
        "id": "Iz87jbhdQ0OF",
        "colab": {
          "base_uri": "https://localhost:8080/",
          "height": 372
        },
        "outputId": "d6a41cac-5485-45d8-e2cb-9c1e51cc7fdb"
      },
      "execution_count": null,
      "outputs": [
        {
          "output_type": "execute_result",
          "data": {
            "text/plain": [
              "                  ID    CHAIN_ID  YEAR                         TITLE   PRICE  \\\n",
              "85302   MPD_1847_483  CID_007221  1847  BELFAST GENERAL ADVERTISER .  Gratis   \n",
              "78986  MPD_1882_1309  CID_005144  1882            STOCKTON JOURNAL .      1d   \n",
              "83547  MPD_1877_1151  CID_006482  1877           WANTAGE CHRONICLE .      1d   \n",
              "\n",
              "           POLITICS ESTABLISHED_DATE PUBLISED_DATE          PERSONS  \\\n",
              "85302       neutral             1842      Saturday  Hugh MK endrick   \n",
              "78986  conservative             1880      Saturday    W. T. Seymour   \n",
              "83547   independent             1875      Saturday                    \n",
              "\n",
              "             ORGANIZATIONS PLACE_PUB PLACE_PUB_WIKI     PLACE_PUB_COORD  \\\n",
              "85302                        belfast         Q10686  (54.596389, -5.93)   \n",
              "78986                       stockton        Q989418      (54.57, -1.32)   \n",
              "83547  J . Belcher and Son   wantage        Q953957    (51.589, -1.427)   \n",
              "\n",
              "                                         PLACES  \\\n",
              "85302            Belfast<SEP>6 , Wareing Street   \n",
              "78986    Stockton<SEP>South Stockton<SEP>Norton   \n",
              "83547  Wantage<SEP>Vale of White Horse<SEP>Vale   \n",
              "\n",
              "                                             PLACES_TRES  \\\n",
              "85302  [{'mention': 'Belfast', 'pos': 29, 'sent_idx':...   \n",
              "78986  [{'mention': 'Stockton', 'pos': 29, 'sent_idx'...   \n",
              "83547  [{'mention': 'Vale of White Horse', 'pos': 38,...   \n",
              "\n",
              "                                                    TEXT  \n",
              "85302  BELFAST GENERAL ADVERTISER . Saturday , Gratis...  \n",
              "78986  STOCKTON JOURNAL . Saturday , 1d . Conservativ...  \n",
              "83547  WANTAGE CHRONICLE . Saturday , 1d . Independen...  "
            ],
            "text/html": [
              "\n",
              "  <div id=\"df-06a6909f-7e4a-41fc-9669-a8ea5c097e1e\" class=\"colab-df-container\">\n",
              "    <div>\n",
              "<style scoped>\n",
              "    .dataframe tbody tr th:only-of-type {\n",
              "        vertical-align: middle;\n",
              "    }\n",
              "\n",
              "    .dataframe tbody tr th {\n",
              "        vertical-align: top;\n",
              "    }\n",
              "\n",
              "    .dataframe thead th {\n",
              "        text-align: right;\n",
              "    }\n",
              "</style>\n",
              "<table border=\"1\" class=\"dataframe\">\n",
              "  <thead>\n",
              "    <tr style=\"text-align: right;\">\n",
              "      <th></th>\n",
              "      <th>ID</th>\n",
              "      <th>CHAIN_ID</th>\n",
              "      <th>YEAR</th>\n",
              "      <th>TITLE</th>\n",
              "      <th>PRICE</th>\n",
              "      <th>POLITICS</th>\n",
              "      <th>ESTABLISHED_DATE</th>\n",
              "      <th>PUBLISED_DATE</th>\n",
              "      <th>PERSONS</th>\n",
              "      <th>ORGANIZATIONS</th>\n",
              "      <th>PLACE_PUB</th>\n",
              "      <th>PLACE_PUB_WIKI</th>\n",
              "      <th>PLACE_PUB_COORD</th>\n",
              "      <th>PLACES</th>\n",
              "      <th>PLACES_TRES</th>\n",
              "      <th>TEXT</th>\n",
              "    </tr>\n",
              "  </thead>\n",
              "  <tbody>\n",
              "    <tr>\n",
              "      <th>85302</th>\n",
              "      <td>MPD_1847_483</td>\n",
              "      <td>CID_007221</td>\n",
              "      <td>1847</td>\n",
              "      <td>BELFAST GENERAL ADVERTISER .</td>\n",
              "      <td>Gratis</td>\n",
              "      <td>neutral</td>\n",
              "      <td>1842</td>\n",
              "      <td>Saturday</td>\n",
              "      <td>Hugh MK endrick</td>\n",
              "      <td></td>\n",
              "      <td>belfast</td>\n",
              "      <td>Q10686</td>\n",
              "      <td>(54.596389, -5.93)</td>\n",
              "      <td>Belfast&lt;SEP&gt;6 , Wareing Street</td>\n",
              "      <td>[{'mention': 'Belfast', 'pos': 29, 'sent_idx':...</td>\n",
              "      <td>BELFAST GENERAL ADVERTISER . Saturday , Gratis...</td>\n",
              "    </tr>\n",
              "    <tr>\n",
              "      <th>78986</th>\n",
              "      <td>MPD_1882_1309</td>\n",
              "      <td>CID_005144</td>\n",
              "      <td>1882</td>\n",
              "      <td>STOCKTON JOURNAL .</td>\n",
              "      <td>1d</td>\n",
              "      <td>conservative</td>\n",
              "      <td>1880</td>\n",
              "      <td>Saturday</td>\n",
              "      <td>W. T. Seymour</td>\n",
              "      <td></td>\n",
              "      <td>stockton</td>\n",
              "      <td>Q989418</td>\n",
              "      <td>(54.57, -1.32)</td>\n",
              "      <td>Stockton&lt;SEP&gt;South Stockton&lt;SEP&gt;Norton</td>\n",
              "      <td>[{'mention': 'Stockton', 'pos': 29, 'sent_idx'...</td>\n",
              "      <td>STOCKTON JOURNAL . Saturday , 1d . Conservativ...</td>\n",
              "    </tr>\n",
              "    <tr>\n",
              "      <th>83547</th>\n",
              "      <td>MPD_1877_1151</td>\n",
              "      <td>CID_006482</td>\n",
              "      <td>1877</td>\n",
              "      <td>WANTAGE CHRONICLE .</td>\n",
              "      <td>1d</td>\n",
              "      <td>independent</td>\n",
              "      <td>1875</td>\n",
              "      <td>Saturday</td>\n",
              "      <td></td>\n",
              "      <td>J . Belcher and Son</td>\n",
              "      <td>wantage</td>\n",
              "      <td>Q953957</td>\n",
              "      <td>(51.589, -1.427)</td>\n",
              "      <td>Wantage&lt;SEP&gt;Vale of White Horse&lt;SEP&gt;Vale</td>\n",
              "      <td>[{'mention': 'Vale of White Horse', 'pos': 38,...</td>\n",
              "      <td>WANTAGE CHRONICLE . Saturday , 1d . Independen...</td>\n",
              "    </tr>\n",
              "  </tbody>\n",
              "</table>\n",
              "</div>\n",
              "    <div class=\"colab-df-buttons\">\n",
              "\n",
              "  <div class=\"colab-df-container\">\n",
              "    <button class=\"colab-df-convert\" onclick=\"convertToInteractive('df-06a6909f-7e4a-41fc-9669-a8ea5c097e1e')\"\n",
              "            title=\"Convert this dataframe to an interactive table.\"\n",
              "            style=\"display:none;\">\n",
              "\n",
              "  <svg xmlns=\"http://www.w3.org/2000/svg\" height=\"24px\" viewBox=\"0 -960 960 960\">\n",
              "    <path d=\"M120-120v-720h720v720H120Zm60-500h600v-160H180v160Zm220 220h160v-160H400v160Zm0 220h160v-160H400v160ZM180-400h160v-160H180v160Zm440 0h160v-160H620v160ZM180-180h160v-160H180v160Zm440 0h160v-160H620v160Z\"/>\n",
              "  </svg>\n",
              "    </button>\n",
              "\n",
              "  <style>\n",
              "    .colab-df-container {\n",
              "      display:flex;\n",
              "      gap: 12px;\n",
              "    }\n",
              "\n",
              "    .colab-df-convert {\n",
              "      background-color: #E8F0FE;\n",
              "      border: none;\n",
              "      border-radius: 50%;\n",
              "      cursor: pointer;\n",
              "      display: none;\n",
              "      fill: #1967D2;\n",
              "      height: 32px;\n",
              "      padding: 0 0 0 0;\n",
              "      width: 32px;\n",
              "    }\n",
              "\n",
              "    .colab-df-convert:hover {\n",
              "      background-color: #E2EBFA;\n",
              "      box-shadow: 0px 1px 2px rgba(60, 64, 67, 0.3), 0px 1px 3px 1px rgba(60, 64, 67, 0.15);\n",
              "      fill: #174EA6;\n",
              "    }\n",
              "\n",
              "    .colab-df-buttons div {\n",
              "      margin-bottom: 4px;\n",
              "    }\n",
              "\n",
              "    [theme=dark] .colab-df-convert {\n",
              "      background-color: #3B4455;\n",
              "      fill: #D2E3FC;\n",
              "    }\n",
              "\n",
              "    [theme=dark] .colab-df-convert:hover {\n",
              "      background-color: #434B5C;\n",
              "      box-shadow: 0px 1px 3px 1px rgba(0, 0, 0, 0.15);\n",
              "      filter: drop-shadow(0px 1px 2px rgba(0, 0, 0, 0.3));\n",
              "      fill: #FFFFFF;\n",
              "    }\n",
              "  </style>\n",
              "\n",
              "    <script>\n",
              "      const buttonEl =\n",
              "        document.querySelector('#df-06a6909f-7e4a-41fc-9669-a8ea5c097e1e button.colab-df-convert');\n",
              "      buttonEl.style.display =\n",
              "        google.colab.kernel.accessAllowed ? 'block' : 'none';\n",
              "\n",
              "      async function convertToInteractive(key) {\n",
              "        const element = document.querySelector('#df-06a6909f-7e4a-41fc-9669-a8ea5c097e1e');\n",
              "        const dataTable =\n",
              "          await google.colab.kernel.invokeFunction('convertToInteractive',\n",
              "                                                    [key], {});\n",
              "        if (!dataTable) return;\n",
              "\n",
              "        const docLinkHtml = 'Like what you see? Visit the ' +\n",
              "          '<a target=\"_blank\" href=https://colab.research.google.com/notebooks/data_table.ipynb>data table notebook</a>'\n",
              "          + ' to learn more about interactive tables.';\n",
              "        element.innerHTML = '';\n",
              "        dataTable['output_type'] = 'display_data';\n",
              "        await google.colab.output.renderOutput(dataTable, element);\n",
              "        const docLink = document.createElement('div');\n",
              "        docLink.innerHTML = docLinkHtml;\n",
              "        element.appendChild(docLink);\n",
              "      }\n",
              "    </script>\n",
              "  </div>\n",
              "\n",
              "\n",
              "<div id=\"df-5fa9bf01-a94c-4044-9d26-75db259955bb\">\n",
              "  <button class=\"colab-df-quickchart\" onclick=\"quickchart('df-5fa9bf01-a94c-4044-9d26-75db259955bb')\"\n",
              "            title=\"Suggest charts\"\n",
              "            style=\"display:none;\">\n",
              "\n",
              "<svg xmlns=\"http://www.w3.org/2000/svg\" height=\"24px\"viewBox=\"0 0 24 24\"\n",
              "     width=\"24px\">\n",
              "    <g>\n",
              "        <path d=\"M19 3H5c-1.1 0-2 .9-2 2v14c0 1.1.9 2 2 2h14c1.1 0 2-.9 2-2V5c0-1.1-.9-2-2-2zM9 17H7v-7h2v7zm4 0h-2V7h2v10zm4 0h-2v-4h2v4z\"/>\n",
              "    </g>\n",
              "</svg>\n",
              "  </button>\n",
              "\n",
              "<style>\n",
              "  .colab-df-quickchart {\n",
              "      --bg-color: #E8F0FE;\n",
              "      --fill-color: #1967D2;\n",
              "      --hover-bg-color: #E2EBFA;\n",
              "      --hover-fill-color: #174EA6;\n",
              "      --disabled-fill-color: #AAA;\n",
              "      --disabled-bg-color: #DDD;\n",
              "  }\n",
              "\n",
              "  [theme=dark] .colab-df-quickchart {\n",
              "      --bg-color: #3B4455;\n",
              "      --fill-color: #D2E3FC;\n",
              "      --hover-bg-color: #434B5C;\n",
              "      --hover-fill-color: #FFFFFF;\n",
              "      --disabled-bg-color: #3B4455;\n",
              "      --disabled-fill-color: #666;\n",
              "  }\n",
              "\n",
              "  .colab-df-quickchart {\n",
              "    background-color: var(--bg-color);\n",
              "    border: none;\n",
              "    border-radius: 50%;\n",
              "    cursor: pointer;\n",
              "    display: none;\n",
              "    fill: var(--fill-color);\n",
              "    height: 32px;\n",
              "    padding: 0;\n",
              "    width: 32px;\n",
              "  }\n",
              "\n",
              "  .colab-df-quickchart:hover {\n",
              "    background-color: var(--hover-bg-color);\n",
              "    box-shadow: 0 1px 2px rgba(60, 64, 67, 0.3), 0 1px 3px 1px rgba(60, 64, 67, 0.15);\n",
              "    fill: var(--button-hover-fill-color);\n",
              "  }\n",
              "\n",
              "  .colab-df-quickchart-complete:disabled,\n",
              "  .colab-df-quickchart-complete:disabled:hover {\n",
              "    background-color: var(--disabled-bg-color);\n",
              "    fill: var(--disabled-fill-color);\n",
              "    box-shadow: none;\n",
              "  }\n",
              "\n",
              "  .colab-df-spinner {\n",
              "    border: 2px solid var(--fill-color);\n",
              "    border-color: transparent;\n",
              "    border-bottom-color: var(--fill-color);\n",
              "    animation:\n",
              "      spin 1s steps(1) infinite;\n",
              "  }\n",
              "\n",
              "  @keyframes spin {\n",
              "    0% {\n",
              "      border-color: transparent;\n",
              "      border-bottom-color: var(--fill-color);\n",
              "      border-left-color: var(--fill-color);\n",
              "    }\n",
              "    20% {\n",
              "      border-color: transparent;\n",
              "      border-left-color: var(--fill-color);\n",
              "      border-top-color: var(--fill-color);\n",
              "    }\n",
              "    30% {\n",
              "      border-color: transparent;\n",
              "      border-left-color: var(--fill-color);\n",
              "      border-top-color: var(--fill-color);\n",
              "      border-right-color: var(--fill-color);\n",
              "    }\n",
              "    40% {\n",
              "      border-color: transparent;\n",
              "      border-right-color: var(--fill-color);\n",
              "      border-top-color: var(--fill-color);\n",
              "    }\n",
              "    60% {\n",
              "      border-color: transparent;\n",
              "      border-right-color: var(--fill-color);\n",
              "    }\n",
              "    80% {\n",
              "      border-color: transparent;\n",
              "      border-right-color: var(--fill-color);\n",
              "      border-bottom-color: var(--fill-color);\n",
              "    }\n",
              "    90% {\n",
              "      border-color: transparent;\n",
              "      border-bottom-color: var(--fill-color);\n",
              "    }\n",
              "  }\n",
              "</style>\n",
              "\n",
              "  <script>\n",
              "    async function quickchart(key) {\n",
              "      const quickchartButtonEl =\n",
              "        document.querySelector('#' + key + ' button');\n",
              "      quickchartButtonEl.disabled = true;  // To prevent multiple clicks.\n",
              "      quickchartButtonEl.classList.add('colab-df-spinner');\n",
              "      try {\n",
              "        const charts = await google.colab.kernel.invokeFunction(\n",
              "            'suggestCharts', [key], {});\n",
              "      } catch (error) {\n",
              "        console.error('Error during call to suggestCharts:', error);\n",
              "      }\n",
              "      quickchartButtonEl.classList.remove('colab-df-spinner');\n",
              "      quickchartButtonEl.classList.add('colab-df-quickchart-complete');\n",
              "    }\n",
              "    (() => {\n",
              "      let quickchartButtonEl =\n",
              "        document.querySelector('#df-5fa9bf01-a94c-4044-9d26-75db259955bb button');\n",
              "      quickchartButtonEl.style.display =\n",
              "        google.colab.kernel.accessAllowed ? 'block' : 'none';\n",
              "    })();\n",
              "  </script>\n",
              "</div>\n",
              "\n",
              "    </div>\n",
              "  </div>\n"
            ],
            "application/vnd.google.colaboratory.intrinsic+json": {
              "type": "dataframe",
              "repr_error": "0"
            }
          },
          "metadata": {},
          "execution_count": 40
        }
      ]
    },
    {
      "cell_type": "code",
      "source": [
        "# inspect the values in the PERSONS columns\n",
        "df['PERSONS'].unique()"
      ],
      "metadata": {
        "id": "1bZdRpRXQU3A",
        "colab": {
          "base_uri": "https://localhost:8080/"
        },
        "outputId": "0c07de94-3117-4043-c98f-711636b91b68"
      },
      "execution_count": null,
      "outputs": [
        {
          "output_type": "execute_result",
          "data": {
            "text/plain": [
              "array(['Henry Shaw', 'Robert Shaw', 'Robert Shaw Bond', ...,\n",
              "       'C. E. Coward', 'T. W. Rowbottom', 'Wm. McDougall'], dtype=object)"
            ]
          },
          "metadata": {},
          "execution_count": 41
        }
      ]
    },
    {
      "cell_type": "code",
      "source": [
        "# how many different names are there?\n",
        "len(df['PERSONS'].unique())"
      ],
      "metadata": {
        "id": "amhpprDMzXrA",
        "colab": {
          "base_uri": "https://localhost:8080/"
        },
        "outputId": "a166fa1a-723e-4544-fc80-38db377391a3"
      },
      "execution_count": null,
      "outputs": [
        {
          "output_type": "execute_result",
          "data": {
            "text/plain": [
              "9724"
            ]
          },
          "metadata": {},
          "execution_count": 42
        }
      ]
    },
    {
      "cell_type": "code",
      "source": [
        "# what are the most frequent names\n",
        "# does it contain women?\n",
        "df['PERSONS'].value_counts()[:5]"
      ],
      "metadata": {
        "id": "ZkV995_ezgJY",
        "colab": {
          "base_uri": "https://localhost:8080/",
          "height": 272
        },
        "outputId": "91002918-9211-4edf-b99d-b6ac42e70314"
      },
      "execution_count": null,
      "outputs": [
        {
          "output_type": "execute_result",
          "data": {
            "text/plain": [
              "PERSONS\n",
              "                  37412\n",
              "W. E. Baxter        197\n",
              "Henry Crossley      180\n",
              "Horace Cox          149\n",
              "Robert Ackrill      136\n",
              "Name: count, dtype: int64"
            ],
            "text/html": [
              "<div>\n",
              "<style scoped>\n",
              "    .dataframe tbody tr th:only-of-type {\n",
              "        vertical-align: middle;\n",
              "    }\n",
              "\n",
              "    .dataframe tbody tr th {\n",
              "        vertical-align: top;\n",
              "    }\n",
              "\n",
              "    .dataframe thead th {\n",
              "        text-align: right;\n",
              "    }\n",
              "</style>\n",
              "<table border=\"1\" class=\"dataframe\">\n",
              "  <thead>\n",
              "    <tr style=\"text-align: right;\">\n",
              "      <th></th>\n",
              "      <th>count</th>\n",
              "    </tr>\n",
              "    <tr>\n",
              "      <th>PERSONS</th>\n",
              "      <th></th>\n",
              "    </tr>\n",
              "  </thead>\n",
              "  <tbody>\n",
              "    <tr>\n",
              "      <th></th>\n",
              "      <td>37412</td>\n",
              "    </tr>\n",
              "    <tr>\n",
              "      <th>W. E. Baxter</th>\n",
              "      <td>197</td>\n",
              "    </tr>\n",
              "    <tr>\n",
              "      <th>Henry Crossley</th>\n",
              "      <td>180</td>\n",
              "    </tr>\n",
              "    <tr>\n",
              "      <th>Horace Cox</th>\n",
              "      <td>149</td>\n",
              "    </tr>\n",
              "    <tr>\n",
              "      <th>Robert Ackrill</th>\n",
              "      <td>136</td>\n",
              "    </tr>\n",
              "  </tbody>\n",
              "</table>\n",
              "</div><br><label><b>dtype:</b> int64</label>"
            ]
          },
          "metadata": {},
          "execution_count": 43
        }
      ]
    },
    {
      "cell_type": "markdown",
      "source": [
        "#### Processing names"
      ],
      "metadata": {
        "id": "2t4Vmj-b0g04"
      }
    },
    {
      "cell_type": "code",
      "source": [
        "# get all the misses (i.e. PERSONS starting with miss)\n",
        "[p for p in df['PERSONS'].unique() if p.lower().startswith('miss')]"
      ],
      "metadata": {
        "id": "f1EUD6A1ROaB",
        "colab": {
          "base_uri": "https://localhost:8080/"
        },
        "outputId": "d509c24c-9c29-4004-8969-d086777716fe"
      },
      "execution_count": null,
      "outputs": [
        {
          "output_type": "execute_result",
          "data": {
            "text/plain": [
              "['Miss Gore Kelly',\n",
              " 'Miss Braddon<SEP>George Sharman',\n",
              " 'Miss Dora Russell<SEP>George Sharman',\n",
              " 'Miss Braddon<SEP>Walter Besant<SEP>H.',\n",
              " 'Miss Batchellor',\n",
              " 'Miss  Braddon',\n",
              " 'Miss Braddon , Adeline Sergeant , W . Clark Russell , William Westalll<SEP>Mary Tillotson<SEP>William Brimelow',\n",
              " 'Miss Braddon<SEP>Wilkie Collins<SEP>F. W. Robinson',\n",
              " 'Miss Braddon , F . W . Robinson , J . utton',\n",
              " 'Miss Braddon',\n",
              " 'Miss Marryat',\n",
              " 'Miss Dora Russell<SEP>G. Sharman']"
            ]
          },
          "metadata": {},
          "execution_count": 44
        }
      ]
    },
    {
      "cell_type": "code",
      "source": [
        "# split the PERSONS entry by <SEP> and then by white space\n",
        "persons = [i.split() for p in df['PERSONS'].unique() for i in p.split('<SEP>')]"
      ],
      "metadata": {
        "id": "Syk7y1oeRjrQ"
      },
      "execution_count": null,
      "outputs": []
    },
    {
      "cell_type": "code",
      "source": [
        "# first five persons\n",
        "persons[:5]"
      ],
      "metadata": {
        "id": "xEJk2_u-RlEA",
        "colab": {
          "base_uri": "https://localhost:8080/"
        },
        "outputId": "f1ec8ebb-c87b-4c9b-de9f-de8687a2ba43"
      },
      "execution_count": null,
      "outputs": [
        {
          "output_type": "execute_result",
          "data": {
            "text/plain": [
              "[['Henry', 'Shaw'],\n",
              " ['Robert', 'Shaw'],\n",
              " ['Robert', 'Shaw', 'Bond'],\n",
              " ['Richard', 'Shaw', 'Bond'],\n",
              " ['R.', 'S.', 'Bond']]"
            ]
          },
          "metadata": {},
          "execution_count": 46
        }
      ]
    },
    {
      "cell_type": "code",
      "source": [
        "# split the names out and print the first names\n",
        "first_person = persons[0]\n",
        "print(first_person)\n",
        "first_name = first_person[0]\n",
        "print(first_name)"
      ],
      "metadata": {
        "id": "jyATLWlX0tcy",
        "colab": {
          "base_uri": "https://localhost:8080/"
        },
        "outputId": "6d7884ad-478b-4fcb-c61b-6344e001ac86"
      },
      "execution_count": null,
      "outputs": [
        {
          "output_type": "stream",
          "name": "stdout",
          "text": [
            "['Henry', 'Shaw']\n",
            "Henry\n"
          ]
        }
      ]
    },
    {
      "cell_type": "code",
      "source": [
        "# to process the names we\n",
        "# - get the first element of the split names\n",
        "# - get the lowercased version of the first name\n",
        "# - strip any white spaces around the lowercased first name\n",
        "first_names_unique = set([p[0].lower().strip() for p in persons if p])\n",
        "# this reduces the number of names a lot!\n",
        "len(first_names_unique)"
      ],
      "metadata": {
        "id": "k9HKXigDSAc1",
        "colab": {
          "base_uri": "https://localhost:8080/"
        },
        "outputId": "af0da78a-5b6a-4b82-82e0-24b0525b2ccc"
      },
      "execution_count": null,
      "outputs": [
        {
          "output_type": "execute_result",
          "data": {
            "text/plain": [
              "922"
            ]
          },
          "metadata": {},
          "execution_count": 48
        }
      ]
    },
    {
      "cell_type": "code",
      "source": [
        "# We went through the first_names_unique manually and selected\n",
        "# names and titles that might refer to women...\n",
        "# then constructed a regex pattern that will match any name/title\n",
        "female_first_name = ['sarah', 'mary', 'rebecca', 'mrs',  'miss', 'mary', 'maryanne', 'margaret',  'marie', 'louisa', 'honoria',\n",
        "'helen', 'hannah', 'florence', 'evelyn', 'esther', 'ellizabeth', 'elizabeth', 'eliza', 'dora', 'catherine',\n",
        "'annie', 'anne', 'anna', 'ann', 'alice', 'alicia']\n",
        "regex_pattern = '|'.join([fr\"\\b{n}\\b\" for n in female_first_name])\n",
        "print(regex_pattern)"
      ],
      "metadata": {
        "id": "oVL-qTm9XYJ_",
        "colab": {
          "base_uri": "https://localhost:8080/"
        },
        "outputId": "772b4577-ebdb-4db4-a85a-8792f7d7f7d4"
      },
      "execution_count": null,
      "outputs": [
        {
          "output_type": "stream",
          "name": "stdout",
          "text": [
            "\\bsarah\\b|\\bmary\\b|\\brebecca\\b|\\bmrs\\b|\\bmiss\\b|\\bmary\\b|\\bmaryanne\\b|\\bmargaret\\b|\\bmarie\\b|\\blouisa\\b|\\bhonoria\\b|\\bhelen\\b|\\bhannah\\b|\\bflorence\\b|\\bevelyn\\b|\\besther\\b|\\bellizabeth\\b|\\belizabeth\\b|\\beliza\\b|\\bdora\\b|\\bcatherine\\b|\\bannie\\b|\\banne\\b|\\banna\\b|\\bann\\b|\\balice\\b|\\balicia\\b\n"
          ]
        }
      ]
    },
    {
      "cell_type": "code",
      "source": [
        "# we apply the regex pattern to the PERSONS column\n",
        "# for rows with a female name we have it return True, otherwise False\n",
        "# we make it look a bit fancy using a tqdm progress bar\n",
        "from tqdm import tqdm\n",
        "tqdm.pandas()\n",
        "pattern = re.compile(regex_pattern)\n",
        "df['has_female_name'] = df['PERSONS'].progress_apply(lambda x: bool(pattern.search(x.lower())))"
      ],
      "metadata": {
        "id": "KvPhHltsaJaT",
        "colab": {
          "base_uri": "https://localhost:8080/"
        },
        "outputId": "2f829f6b-4558-49ae-c1b7-44a7ae0fc705"
      },
      "execution_count": null,
      "outputs": [
        {
          "output_type": "stream",
          "name": "stderr",
          "text": [
            "100%|██████████| 92266/92266 [00:00<00:00, 989690.26it/s]\n"
          ]
        }
      ]
    },
    {
      "cell_type": "code",
      "source": [
        "# the number of rows with female names\n",
        "df['has_female_name'].sum()"
      ],
      "metadata": {
        "id": "lHtEWLmraqN4",
        "colab": {
          "base_uri": "https://localhost:8080/"
        },
        "outputId": "be604fa2-e98c-4268-bcad-96912f86550e"
      },
      "execution_count": null,
      "outputs": [
        {
          "output_type": "execute_result",
          "data": {
            "text/plain": [
              "779"
            ]
          },
          "metadata": {},
          "execution_count": 52
        }
      ]
    },
    {
      "cell_type": "code",
      "source": [
        "# the percentage of rows with female names\n",
        "round((df['has_female_name'].sum() / len(df))*100,2)"
      ],
      "metadata": {
        "id": "yA-NUOG-2A6o",
        "colab": {
          "base_uri": "https://localhost:8080/"
        },
        "outputId": "3eeab740-ae92-4f43-c06b-037d77e91199"
      },
      "execution_count": null,
      "outputs": [
        {
          "output_type": "execute_result",
          "data": {
            "text/plain": [
              "0.84"
            ]
          },
          "metadata": {},
          "execution_count": 53
        }
      ]
    },
    {
      "cell_type": "code",
      "source": [
        "# we can zoom in on these rows\n",
        "df[df['has_female_name'] == True]"
      ],
      "metadata": {
        "id": "-3STC2v_agpr",
        "colab": {
          "base_uri": "https://localhost:8080/",
          "height": 1000
        },
        "outputId": "e1f949c7-ecaf-48fc-dc9d-c61e4abd6bf2"
      },
      "execution_count": null,
      "outputs": [
        {
          "output_type": "execute_result",
          "data": {
            "text/plain": [
              "                  ID    CHAIN_ID  YEAR  \\\n",
              "287     MPD_1878_500  CID_000006  1878   \n",
              "288     MPD_1879_479  CID_000006  1879   \n",
              "289     MPD_1880_548  CID_000006  1880   \n",
              "290     MPD_1881_574  CID_000006  1881   \n",
              "291     MPD_1882_583  CID_000006  1882   \n",
              "...              ...         ...   ...   \n",
              "89895  MPD_1914_1738  CID_900701  1914   \n",
              "89896  MPD_1915_1758  CID_900701  1915   \n",
              "90999   MPD_1875_776              1875   \n",
              "91241  MPD_1883_1809              1883   \n",
              "91797     MPD_1905_2              1905   \n",
              "\n",
              "                                            TITLE PRICE      POLITICS  \\\n",
              "287                             KENTISH GAZETTE .    3d  conservative   \n",
              "288                             KENTISH GAZETTE .    3d  conservative   \n",
              "289                             KENTISH GAZETTE .    2d  conservative   \n",
              "290                             KENTISH GAZETTE .    2d  conservative   \n",
              "291                             KENTISH GAZETTE .    2d  conservative   \n",
              "...                                           ...   ...           ...   \n",
              "89895                EVENING NORTH WILTS HERALD .   ½ d   independent   \n",
              "89896                EVENING NORTH WILTS HERALD .   ½ d   independent   \n",
              "90999                      LEIGH WEEKLY JOURNAL .    1d                 \n",
              "91241                          ROSCOMMON HERALD ,    4d       liberal   \n",
              "91797  TILLOTSONS ' NEWSPAPER LITERATURE BUREAU .                       \n",
              "\n",
              "      ESTABLISHED_DATE PUBLISED_DATE  \\\n",
              "287               1717       Tuesday   \n",
              "288               1717       Tuesday   \n",
              "289               1717       Tuesday   \n",
              "290               1717       Tuesday   \n",
              "291               1717       Tuesday   \n",
              "...                ...           ...   \n",
              "89895             1861        Diaily   \n",
              "89896             1861         Daily   \n",
              "90999                     ISSaturday   \n",
              "91241            18393      Saturday   \n",
              "91797                                  \n",
              "\n",
              "                                                 PERSONS  \\\n",
              "287                                            Mary Ward   \n",
              "288                                            Mary Ward   \n",
              "289                                            Mary Ward   \n",
              "290                                            Mary Ward   \n",
              "291                                            Mary Ward   \n",
              "...                                                  ...   \n",
              "89895                                   MrS. Annie Piper   \n",
              "89896                                   MrS. Annie Piper   \n",
              "90999                                   Florence Marryat   \n",
              "91241                                   Honoria J. Tully   \n",
              "91797  Thomas Hardy<SEP>Hall Caine<SEP>Marie Corelli<...   \n",
              "\n",
              "                   ORGANIZATIONS   PLACE_PUB PLACE_PUB_WIKI  \\\n",
              "287                               canterbury         Q29303   \n",
              "288                               canterbury         Q29303   \n",
              "289                               canterbury         Q29303   \n",
              "290                               canterbury         Q29303   \n",
              "291                               canterbury         Q29303   \n",
              "...                          ...         ...            ...   \n",
              "89895                                swindon        Q200942   \n",
              "89896                                swindon        Q200942   \n",
              "90999            Tillotson & Son       leigh       Q2588021   \n",
              "91241                                belfast         Q10686   \n",
              "91797  Tillotson & Son ( Lim . )      london            Q84   \n",
              "\n",
              "              PLACE_PUB_COORD  \\\n",
              "287       (51.278333, 1.0775)   \n",
              "288       (51.278333, 1.0775)   \n",
              "289       (51.278333, 1.0775)   \n",
              "290       (51.278333, 1.0775)   \n",
              "291       (51.278333, 1.0775)   \n",
              "...                       ...   \n",
              "89895  (51.558333, -1.781111)   \n",
              "89896  (51.558333, -1.781111)   \n",
              "90999       (53.4975, -2.515)   \n",
              "91241      (54.596389, -5.93)   \n",
              "91797    (51.507222, -0.1275)   \n",
              "\n",
              "                                                  PLACES  \\\n",
              "287    East Kent<SEP>West Kent<SEP>Surrey<SEP>Sussex<...   \n",
              "288    East Kent<SEP>West Kent<SEP>Surrey<SEP>Sussex<...   \n",
              "289    East Kent<SEP>West Kent<SEP>Surrey<SEP>Sussex<...   \n",
              "290    East Kent<SEP>West Kent<SEP>urrey<SEP>Sussex<S...   \n",
              "291    East Kent<SEP>West Kent<SEP>Surrey<SEP>Sussex<...   \n",
              "...                                                  ...   \n",
              "89895  North Wilts<SEP>East Gloucestershire<SEP>West ...   \n",
              "89896  North Wilts<SEP>East Gloucestershire<SEP>West ...   \n",
              "90999                              South West Lancashire   \n",
              "91241           Roscommon<SEP>Leitrim<SEP>Sligo<SEP>Mayo   \n",
              "91797   .<SEP>Le Queux<SEP>Ouida<SEP>Eden Philpotts<S...   \n",
              "\n",
              "                                             PLACES_TRES  \\\n",
              "287    [{'mention': 'East Kent', 'pos': 29, 'sent_idx...   \n",
              "288    [{'mention': 'East Kent', 'pos': 29, 'sent_idx...   \n",
              "289    [{'mention': 'East Kent', 'pos': 29, 'sent_idx...   \n",
              "290    [{'mention': 'East Kent', 'pos': 29, 'sent_idx...   \n",
              "291    [{'mention': 'East Kent', 'pos': 29, 'sent_idx...   \n",
              "...                                                  ...   \n",
              "89895  [{'mention': 'North Wilts', 'pos': 29, 'sent_i...   \n",
              "89896  [{'mention': 'North Wilts', 'pos': 29, 'sent_i...   \n",
              "90999  [{'mention': 'South West Lancashire', 'pos': 2...   \n",
              "91241  [{'mention': 'Roscommon', 'pos': 29, 'sent_idx...   \n",
              "91797  [{'mention': 'Eden Philpotts', 'pos': 49, 'sen...   \n",
              "\n",
              "                                                    TEXT  has_female_name  \n",
              "287    KENTISH GAZETTE . Tuesday , 3d . Conservative ...             True  \n",
              "288    KENTISH GAZETTE . Tuesday , 3d . Conservative ...             True  \n",
              "289    KENTISH GAZETTE . Tuesday , 2d . Conservatiyve...             True  \n",
              "290    KENTISH GAZETTE . Tuesday , 2d . — Conservativ...             True  \n",
              "291    KENTISH GAZETTE . Tuesday , 2d . Conservative ...             True  \n",
              "...                                                  ...              ...  \n",
              "89895  HEVENING NORTH WILTS HERALD . Diaily , ½ d . I...             True  \n",
              "89896  EVENING NORTH WILTS HERALD . Daily , ½ d . Ind...             True  \n",
              "90999  LEIGH WEEKLY JOURNAL . ( Also published ISSatu...             True  \n",
              "91241  ROSCOMMON HERALD , Saturday , 4d . Liberal . —...             True  \n",
              "91797  TILLOTSONS ' NEWSPAPER LITERATURE BUREAU . Est...             True  \n",
              "\n",
              "[779 rows x 17 columns]"
            ],
            "text/html": [
              "\n",
              "  <div id=\"df-725f283f-207b-42ed-8064-ea7cd0c7cb64\" class=\"colab-df-container\">\n",
              "    <div>\n",
              "<style scoped>\n",
              "    .dataframe tbody tr th:only-of-type {\n",
              "        vertical-align: middle;\n",
              "    }\n",
              "\n",
              "    .dataframe tbody tr th {\n",
              "        vertical-align: top;\n",
              "    }\n",
              "\n",
              "    .dataframe thead th {\n",
              "        text-align: right;\n",
              "    }\n",
              "</style>\n",
              "<table border=\"1\" class=\"dataframe\">\n",
              "  <thead>\n",
              "    <tr style=\"text-align: right;\">\n",
              "      <th></th>\n",
              "      <th>ID</th>\n",
              "      <th>CHAIN_ID</th>\n",
              "      <th>YEAR</th>\n",
              "      <th>TITLE</th>\n",
              "      <th>PRICE</th>\n",
              "      <th>POLITICS</th>\n",
              "      <th>ESTABLISHED_DATE</th>\n",
              "      <th>PUBLISED_DATE</th>\n",
              "      <th>PERSONS</th>\n",
              "      <th>ORGANIZATIONS</th>\n",
              "      <th>PLACE_PUB</th>\n",
              "      <th>PLACE_PUB_WIKI</th>\n",
              "      <th>PLACE_PUB_COORD</th>\n",
              "      <th>PLACES</th>\n",
              "      <th>PLACES_TRES</th>\n",
              "      <th>TEXT</th>\n",
              "      <th>has_female_name</th>\n",
              "    </tr>\n",
              "  </thead>\n",
              "  <tbody>\n",
              "    <tr>\n",
              "      <th>287</th>\n",
              "      <td>MPD_1878_500</td>\n",
              "      <td>CID_000006</td>\n",
              "      <td>1878</td>\n",
              "      <td>KENTISH GAZETTE .</td>\n",
              "      <td>3d</td>\n",
              "      <td>conservative</td>\n",
              "      <td>1717</td>\n",
              "      <td>Tuesday</td>\n",
              "      <td>Mary Ward</td>\n",
              "      <td></td>\n",
              "      <td>canterbury</td>\n",
              "      <td>Q29303</td>\n",
              "      <td>(51.278333, 1.0775)</td>\n",
              "      <td>East Kent&lt;SEP&gt;West Kent&lt;SEP&gt;Surrey&lt;SEP&gt;Sussex&lt;...</td>\n",
              "      <td>[{'mention': 'East Kent', 'pos': 29, 'sent_idx...</td>\n",
              "      <td>KENTISH GAZETTE . Tuesday , 3d . Conservative ...</td>\n",
              "      <td>True</td>\n",
              "    </tr>\n",
              "    <tr>\n",
              "      <th>288</th>\n",
              "      <td>MPD_1879_479</td>\n",
              "      <td>CID_000006</td>\n",
              "      <td>1879</td>\n",
              "      <td>KENTISH GAZETTE .</td>\n",
              "      <td>3d</td>\n",
              "      <td>conservative</td>\n",
              "      <td>1717</td>\n",
              "      <td>Tuesday</td>\n",
              "      <td>Mary Ward</td>\n",
              "      <td></td>\n",
              "      <td>canterbury</td>\n",
              "      <td>Q29303</td>\n",
              "      <td>(51.278333, 1.0775)</td>\n",
              "      <td>East Kent&lt;SEP&gt;West Kent&lt;SEP&gt;Surrey&lt;SEP&gt;Sussex&lt;...</td>\n",
              "      <td>[{'mention': 'East Kent', 'pos': 29, 'sent_idx...</td>\n",
              "      <td>KENTISH GAZETTE . Tuesday , 3d . Conservative ...</td>\n",
              "      <td>True</td>\n",
              "    </tr>\n",
              "    <tr>\n",
              "      <th>289</th>\n",
              "      <td>MPD_1880_548</td>\n",
              "      <td>CID_000006</td>\n",
              "      <td>1880</td>\n",
              "      <td>KENTISH GAZETTE .</td>\n",
              "      <td>2d</td>\n",
              "      <td>conservative</td>\n",
              "      <td>1717</td>\n",
              "      <td>Tuesday</td>\n",
              "      <td>Mary Ward</td>\n",
              "      <td></td>\n",
              "      <td>canterbury</td>\n",
              "      <td>Q29303</td>\n",
              "      <td>(51.278333, 1.0775)</td>\n",
              "      <td>East Kent&lt;SEP&gt;West Kent&lt;SEP&gt;Surrey&lt;SEP&gt;Sussex&lt;...</td>\n",
              "      <td>[{'mention': 'East Kent', 'pos': 29, 'sent_idx...</td>\n",
              "      <td>KENTISH GAZETTE . Tuesday , 2d . Conservatiyve...</td>\n",
              "      <td>True</td>\n",
              "    </tr>\n",
              "    <tr>\n",
              "      <th>290</th>\n",
              "      <td>MPD_1881_574</td>\n",
              "      <td>CID_000006</td>\n",
              "      <td>1881</td>\n",
              "      <td>KENTISH GAZETTE .</td>\n",
              "      <td>2d</td>\n",
              "      <td>conservative</td>\n",
              "      <td>1717</td>\n",
              "      <td>Tuesday</td>\n",
              "      <td>Mary Ward</td>\n",
              "      <td></td>\n",
              "      <td>canterbury</td>\n",
              "      <td>Q29303</td>\n",
              "      <td>(51.278333, 1.0775)</td>\n",
              "      <td>East Kent&lt;SEP&gt;West Kent&lt;SEP&gt;urrey&lt;SEP&gt;Sussex&lt;S...</td>\n",
              "      <td>[{'mention': 'East Kent', 'pos': 29, 'sent_idx...</td>\n",
              "      <td>KENTISH GAZETTE . Tuesday , 2d . — Conservativ...</td>\n",
              "      <td>True</td>\n",
              "    </tr>\n",
              "    <tr>\n",
              "      <th>291</th>\n",
              "      <td>MPD_1882_583</td>\n",
              "      <td>CID_000006</td>\n",
              "      <td>1882</td>\n",
              "      <td>KENTISH GAZETTE .</td>\n",
              "      <td>2d</td>\n",
              "      <td>conservative</td>\n",
              "      <td>1717</td>\n",
              "      <td>Tuesday</td>\n",
              "      <td>Mary Ward</td>\n",
              "      <td></td>\n",
              "      <td>canterbury</td>\n",
              "      <td>Q29303</td>\n",
              "      <td>(51.278333, 1.0775)</td>\n",
              "      <td>East Kent&lt;SEP&gt;West Kent&lt;SEP&gt;Surrey&lt;SEP&gt;Sussex&lt;...</td>\n",
              "      <td>[{'mention': 'East Kent', 'pos': 29, 'sent_idx...</td>\n",
              "      <td>KENTISH GAZETTE . Tuesday , 2d . Conservative ...</td>\n",
              "      <td>True</td>\n",
              "    </tr>\n",
              "    <tr>\n",
              "      <th>...</th>\n",
              "      <td>...</td>\n",
              "      <td>...</td>\n",
              "      <td>...</td>\n",
              "      <td>...</td>\n",
              "      <td>...</td>\n",
              "      <td>...</td>\n",
              "      <td>...</td>\n",
              "      <td>...</td>\n",
              "      <td>...</td>\n",
              "      <td>...</td>\n",
              "      <td>...</td>\n",
              "      <td>...</td>\n",
              "      <td>...</td>\n",
              "      <td>...</td>\n",
              "      <td>...</td>\n",
              "      <td>...</td>\n",
              "      <td>...</td>\n",
              "    </tr>\n",
              "    <tr>\n",
              "      <th>89895</th>\n",
              "      <td>MPD_1914_1738</td>\n",
              "      <td>CID_900701</td>\n",
              "      <td>1914</td>\n",
              "      <td>EVENING NORTH WILTS HERALD .</td>\n",
              "      <td>½ d</td>\n",
              "      <td>independent</td>\n",
              "      <td>1861</td>\n",
              "      <td>Diaily</td>\n",
              "      <td>MrS. Annie Piper</td>\n",
              "      <td></td>\n",
              "      <td>swindon</td>\n",
              "      <td>Q200942</td>\n",
              "      <td>(51.558333, -1.781111)</td>\n",
              "      <td>North Wilts&lt;SEP&gt;East Gloucestershire&lt;SEP&gt;West ...</td>\n",
              "      <td>[{'mention': 'North Wilts', 'pos': 29, 'sent_i...</td>\n",
              "      <td>HEVENING NORTH WILTS HERALD . Diaily , ½ d . I...</td>\n",
              "      <td>True</td>\n",
              "    </tr>\n",
              "    <tr>\n",
              "      <th>89896</th>\n",
              "      <td>MPD_1915_1758</td>\n",
              "      <td>CID_900701</td>\n",
              "      <td>1915</td>\n",
              "      <td>EVENING NORTH WILTS HERALD .</td>\n",
              "      <td>½ d</td>\n",
              "      <td>independent</td>\n",
              "      <td>1861</td>\n",
              "      <td>Daily</td>\n",
              "      <td>MrS. Annie Piper</td>\n",
              "      <td></td>\n",
              "      <td>swindon</td>\n",
              "      <td>Q200942</td>\n",
              "      <td>(51.558333, -1.781111)</td>\n",
              "      <td>North Wilts&lt;SEP&gt;East Gloucestershire&lt;SEP&gt;West ...</td>\n",
              "      <td>[{'mention': 'North Wilts', 'pos': 29, 'sent_i...</td>\n",
              "      <td>EVENING NORTH WILTS HERALD . Daily , ½ d . Ind...</td>\n",
              "      <td>True</td>\n",
              "    </tr>\n",
              "    <tr>\n",
              "      <th>90999</th>\n",
              "      <td>MPD_1875_776</td>\n",
              "      <td></td>\n",
              "      <td>1875</td>\n",
              "      <td>LEIGH WEEKLY JOURNAL .</td>\n",
              "      <td>1d</td>\n",
              "      <td></td>\n",
              "      <td></td>\n",
              "      <td>ISSaturday</td>\n",
              "      <td>Florence Marryat</td>\n",
              "      <td>Tillotson &amp; Son</td>\n",
              "      <td>leigh</td>\n",
              "      <td>Q2588021</td>\n",
              "      <td>(53.4975, -2.515)</td>\n",
              "      <td>South West Lancashire</td>\n",
              "      <td>[{'mention': 'South West Lancashire', 'pos': 2...</td>\n",
              "      <td>LEIGH WEEKLY JOURNAL . ( Also published ISSatu...</td>\n",
              "      <td>True</td>\n",
              "    </tr>\n",
              "    <tr>\n",
              "      <th>91241</th>\n",
              "      <td>MPD_1883_1809</td>\n",
              "      <td></td>\n",
              "      <td>1883</td>\n",
              "      <td>ROSCOMMON HERALD ,</td>\n",
              "      <td>4d</td>\n",
              "      <td>liberal</td>\n",
              "      <td>18393</td>\n",
              "      <td>Saturday</td>\n",
              "      <td>Honoria J. Tully</td>\n",
              "      <td></td>\n",
              "      <td>belfast</td>\n",
              "      <td>Q10686</td>\n",
              "      <td>(54.596389, -5.93)</td>\n",
              "      <td>Roscommon&lt;SEP&gt;Leitrim&lt;SEP&gt;Sligo&lt;SEP&gt;Mayo</td>\n",
              "      <td>[{'mention': 'Roscommon', 'pos': 29, 'sent_idx...</td>\n",
              "      <td>ROSCOMMON HERALD , Saturday , 4d . Liberal . —...</td>\n",
              "      <td>True</td>\n",
              "    </tr>\n",
              "    <tr>\n",
              "      <th>91797</th>\n",
              "      <td>MPD_1905_2</td>\n",
              "      <td></td>\n",
              "      <td>1905</td>\n",
              "      <td>TILLOTSONS ' NEWSPAPER LITERATURE BUREAU .</td>\n",
              "      <td></td>\n",
              "      <td></td>\n",
              "      <td></td>\n",
              "      <td></td>\n",
              "      <td>Thomas Hardy&lt;SEP&gt;Hall Caine&lt;SEP&gt;Marie Corelli&lt;...</td>\n",
              "      <td>Tillotson &amp; Son ( Lim . )</td>\n",
              "      <td>london</td>\n",
              "      <td>Q84</td>\n",
              "      <td>(51.507222, -0.1275)</td>\n",
              "      <td>.&lt;SEP&gt;Le Queux&lt;SEP&gt;Ouida&lt;SEP&gt;Eden Philpotts&lt;S...</td>\n",
              "      <td>[{'mention': 'Eden Philpotts', 'pos': 49, 'sen...</td>\n",
              "      <td>TILLOTSONS ' NEWSPAPER LITERATURE BUREAU . Est...</td>\n",
              "      <td>True</td>\n",
              "    </tr>\n",
              "  </tbody>\n",
              "</table>\n",
              "<p>779 rows × 17 columns</p>\n",
              "</div>\n",
              "    <div class=\"colab-df-buttons\">\n",
              "\n",
              "  <div class=\"colab-df-container\">\n",
              "    <button class=\"colab-df-convert\" onclick=\"convertToInteractive('df-725f283f-207b-42ed-8064-ea7cd0c7cb64')\"\n",
              "            title=\"Convert this dataframe to an interactive table.\"\n",
              "            style=\"display:none;\">\n",
              "\n",
              "  <svg xmlns=\"http://www.w3.org/2000/svg\" height=\"24px\" viewBox=\"0 -960 960 960\">\n",
              "    <path d=\"M120-120v-720h720v720H120Zm60-500h600v-160H180v160Zm220 220h160v-160H400v160Zm0 220h160v-160H400v160ZM180-400h160v-160H180v160Zm440 0h160v-160H620v160ZM180-180h160v-160H180v160Zm440 0h160v-160H620v160Z\"/>\n",
              "  </svg>\n",
              "    </button>\n",
              "\n",
              "  <style>\n",
              "    .colab-df-container {\n",
              "      display:flex;\n",
              "      gap: 12px;\n",
              "    }\n",
              "\n",
              "    .colab-df-convert {\n",
              "      background-color: #E8F0FE;\n",
              "      border: none;\n",
              "      border-radius: 50%;\n",
              "      cursor: pointer;\n",
              "      display: none;\n",
              "      fill: #1967D2;\n",
              "      height: 32px;\n",
              "      padding: 0 0 0 0;\n",
              "      width: 32px;\n",
              "    }\n",
              "\n",
              "    .colab-df-convert:hover {\n",
              "      background-color: #E2EBFA;\n",
              "      box-shadow: 0px 1px 2px rgba(60, 64, 67, 0.3), 0px 1px 3px 1px rgba(60, 64, 67, 0.15);\n",
              "      fill: #174EA6;\n",
              "    }\n",
              "\n",
              "    .colab-df-buttons div {\n",
              "      margin-bottom: 4px;\n",
              "    }\n",
              "\n",
              "    [theme=dark] .colab-df-convert {\n",
              "      background-color: #3B4455;\n",
              "      fill: #D2E3FC;\n",
              "    }\n",
              "\n",
              "    [theme=dark] .colab-df-convert:hover {\n",
              "      background-color: #434B5C;\n",
              "      box-shadow: 0px 1px 3px 1px rgba(0, 0, 0, 0.15);\n",
              "      filter: drop-shadow(0px 1px 2px rgba(0, 0, 0, 0.3));\n",
              "      fill: #FFFFFF;\n",
              "    }\n",
              "  </style>\n",
              "\n",
              "    <script>\n",
              "      const buttonEl =\n",
              "        document.querySelector('#df-725f283f-207b-42ed-8064-ea7cd0c7cb64 button.colab-df-convert');\n",
              "      buttonEl.style.display =\n",
              "        google.colab.kernel.accessAllowed ? 'block' : 'none';\n",
              "\n",
              "      async function convertToInteractive(key) {\n",
              "        const element = document.querySelector('#df-725f283f-207b-42ed-8064-ea7cd0c7cb64');\n",
              "        const dataTable =\n",
              "          await google.colab.kernel.invokeFunction('convertToInteractive',\n",
              "                                                    [key], {});\n",
              "        if (!dataTable) return;\n",
              "\n",
              "        const docLinkHtml = 'Like what you see? Visit the ' +\n",
              "          '<a target=\"_blank\" href=https://colab.research.google.com/notebooks/data_table.ipynb>data table notebook</a>'\n",
              "          + ' to learn more about interactive tables.';\n",
              "        element.innerHTML = '';\n",
              "        dataTable['output_type'] = 'display_data';\n",
              "        await google.colab.output.renderOutput(dataTable, element);\n",
              "        const docLink = document.createElement('div');\n",
              "        docLink.innerHTML = docLinkHtml;\n",
              "        element.appendChild(docLink);\n",
              "      }\n",
              "    </script>\n",
              "  </div>\n",
              "\n",
              "\n",
              "<div id=\"df-b63a8b10-18de-4ef2-b3ed-b03f6bd2aabf\">\n",
              "  <button class=\"colab-df-quickchart\" onclick=\"quickchart('df-b63a8b10-18de-4ef2-b3ed-b03f6bd2aabf')\"\n",
              "            title=\"Suggest charts\"\n",
              "            style=\"display:none;\">\n",
              "\n",
              "<svg xmlns=\"http://www.w3.org/2000/svg\" height=\"24px\"viewBox=\"0 0 24 24\"\n",
              "     width=\"24px\">\n",
              "    <g>\n",
              "        <path d=\"M19 3H5c-1.1 0-2 .9-2 2v14c0 1.1.9 2 2 2h14c1.1 0 2-.9 2-2V5c0-1.1-.9-2-2-2zM9 17H7v-7h2v7zm4 0h-2V7h2v10zm4 0h-2v-4h2v4z\"/>\n",
              "    </g>\n",
              "</svg>\n",
              "  </button>\n",
              "\n",
              "<style>\n",
              "  .colab-df-quickchart {\n",
              "      --bg-color: #E8F0FE;\n",
              "      --fill-color: #1967D2;\n",
              "      --hover-bg-color: #E2EBFA;\n",
              "      --hover-fill-color: #174EA6;\n",
              "      --disabled-fill-color: #AAA;\n",
              "      --disabled-bg-color: #DDD;\n",
              "  }\n",
              "\n",
              "  [theme=dark] .colab-df-quickchart {\n",
              "      --bg-color: #3B4455;\n",
              "      --fill-color: #D2E3FC;\n",
              "      --hover-bg-color: #434B5C;\n",
              "      --hover-fill-color: #FFFFFF;\n",
              "      --disabled-bg-color: #3B4455;\n",
              "      --disabled-fill-color: #666;\n",
              "  }\n",
              "\n",
              "  .colab-df-quickchart {\n",
              "    background-color: var(--bg-color);\n",
              "    border: none;\n",
              "    border-radius: 50%;\n",
              "    cursor: pointer;\n",
              "    display: none;\n",
              "    fill: var(--fill-color);\n",
              "    height: 32px;\n",
              "    padding: 0;\n",
              "    width: 32px;\n",
              "  }\n",
              "\n",
              "  .colab-df-quickchart:hover {\n",
              "    background-color: var(--hover-bg-color);\n",
              "    box-shadow: 0 1px 2px rgba(60, 64, 67, 0.3), 0 1px 3px 1px rgba(60, 64, 67, 0.15);\n",
              "    fill: var(--button-hover-fill-color);\n",
              "  }\n",
              "\n",
              "  .colab-df-quickchart-complete:disabled,\n",
              "  .colab-df-quickchart-complete:disabled:hover {\n",
              "    background-color: var(--disabled-bg-color);\n",
              "    fill: var(--disabled-fill-color);\n",
              "    box-shadow: none;\n",
              "  }\n",
              "\n",
              "  .colab-df-spinner {\n",
              "    border: 2px solid var(--fill-color);\n",
              "    border-color: transparent;\n",
              "    border-bottom-color: var(--fill-color);\n",
              "    animation:\n",
              "      spin 1s steps(1) infinite;\n",
              "  }\n",
              "\n",
              "  @keyframes spin {\n",
              "    0% {\n",
              "      border-color: transparent;\n",
              "      border-bottom-color: var(--fill-color);\n",
              "      border-left-color: var(--fill-color);\n",
              "    }\n",
              "    20% {\n",
              "      border-color: transparent;\n",
              "      border-left-color: var(--fill-color);\n",
              "      border-top-color: var(--fill-color);\n",
              "    }\n",
              "    30% {\n",
              "      border-color: transparent;\n",
              "      border-left-color: var(--fill-color);\n",
              "      border-top-color: var(--fill-color);\n",
              "      border-right-color: var(--fill-color);\n",
              "    }\n",
              "    40% {\n",
              "      border-color: transparent;\n",
              "      border-right-color: var(--fill-color);\n",
              "      border-top-color: var(--fill-color);\n",
              "    }\n",
              "    60% {\n",
              "      border-color: transparent;\n",
              "      border-right-color: var(--fill-color);\n",
              "    }\n",
              "    80% {\n",
              "      border-color: transparent;\n",
              "      border-right-color: var(--fill-color);\n",
              "      border-bottom-color: var(--fill-color);\n",
              "    }\n",
              "    90% {\n",
              "      border-color: transparent;\n",
              "      border-bottom-color: var(--fill-color);\n",
              "    }\n",
              "  }\n",
              "</style>\n",
              "\n",
              "  <script>\n",
              "    async function quickchart(key) {\n",
              "      const quickchartButtonEl =\n",
              "        document.querySelector('#' + key + ' button');\n",
              "      quickchartButtonEl.disabled = true;  // To prevent multiple clicks.\n",
              "      quickchartButtonEl.classList.add('colab-df-spinner');\n",
              "      try {\n",
              "        const charts = await google.colab.kernel.invokeFunction(\n",
              "            'suggestCharts', [key], {});\n",
              "      } catch (error) {\n",
              "        console.error('Error during call to suggestCharts:', error);\n",
              "      }\n",
              "      quickchartButtonEl.classList.remove('colab-df-spinner');\n",
              "      quickchartButtonEl.classList.add('colab-df-quickchart-complete');\n",
              "    }\n",
              "    (() => {\n",
              "      let quickchartButtonEl =\n",
              "        document.querySelector('#df-b63a8b10-18de-4ef2-b3ed-b03f6bd2aabf button');\n",
              "      quickchartButtonEl.style.display =\n",
              "        google.colab.kernel.accessAllowed ? 'block' : 'none';\n",
              "    })();\n",
              "  </script>\n",
              "</div>\n",
              "\n",
              "    </div>\n",
              "  </div>\n"
            ],
            "application/vnd.google.colaboratory.intrinsic+json": {
              "type": "dataframe",
              "summary": "{\n  \"name\": \"df[df['has_female_name'] == True]\",\n  \"rows\": 779,\n  \"fields\": [\n    {\n      \"column\": \"ID\",\n      \"properties\": {\n        \"dtype\": \"string\",\n        \"num_unique_values\": 779,\n        \"samples\": [\n          \"MPD_1863_1155\",\n          \"MPD_1920_1110\",\n          \"MPD_1863_566\"\n        ],\n        \"semantic_type\": \"\",\n        \"description\": \"\"\n      }\n    },\n    {\n      \"column\": \"CHAIN_ID\",\n      \"properties\": {\n        \"dtype\": \"category\",\n        \"num_unique_values\": 114,\n        \"samples\": [\n          \"CID_002327\",\n          \"CID_000060\",\n          \"CID_000710\"\n        ],\n        \"semantic_type\": \"\",\n        \"description\": \"\"\n      }\n    },\n    {\n      \"column\": \"YEAR\",\n      \"properties\": {\n        \"dtype\": \"number\",\n        \"std\": 15,\n        \"min\": 1846,\n        \"max\": 1920,\n        \"num_unique_values\": 53,\n        \"samples\": [\n          1914,\n          1858,\n          1896\n        ],\n        \"semantic_type\": \"\",\n        \"description\": \"\"\n      }\n    },\n    {\n      \"column\": \"TITLE\",\n      \"properties\": {\n        \"dtype\": \"category\",\n        \"num_unique_values\": 129,\n        \"samples\": [\n          \"ROSCOMMON JOURNAL .\",\n          \"IPSWICH JOURNAL .\",\n          \"LIVERPOOL MERCURY .\"\n        ],\n        \"semantic_type\": \"\",\n        \"description\": \"\"\n      }\n    },\n    {\n      \"column\": \"PRICE\",\n      \"properties\": {\n        \"dtype\": \"category\",\n        \"num_unique_values\": 25,\n        \"samples\": [\n          \"2 \\u00bd d\",\n          \"5d<SEP>6d\",\n          \"3d\"\n        ],\n        \"semantic_type\": \"\",\n        \"description\": \"\"\n      }\n    },\n    {\n      \"column\": \"POLITICS\",\n      \"properties\": {\n        \"dtype\": \"category\",\n        \"num_unique_values\": 13,\n        \"samples\": [\n          \"constitutional\",\n          \"liberal<SEP>conservative\",\n          \"conservative\"\n        ],\n        \"semantic_type\": \"\",\n        \"description\": \"\"\n      }\n    },\n    {\n      \"column\": \"ESTABLISHED_DATE\",\n      \"properties\": {\n        \"dtype\": \"category\",\n        \"num_unique_values\": 98,\n        \"samples\": [\n          \"February 14 , 1846\",\n          \"1768\",\n          \"January , 1859\"\n        ],\n        \"semantic_type\": \"\",\n        \"description\": \"\"\n      }\n    },\n    {\n      \"column\": \"PUBLISED_DATE\",\n      \"properties\": {\n        \"dtype\": \"category\",\n        \"num_unique_values\": 66,\n        \"samples\": [\n          \"Ciiday\",\n          \"Gaazctte<SEP>Friday<SEP>evening\",\n          \"Tuesday\"\n        ],\n        \"semantic_type\": \"\",\n        \"description\": \"\"\n      }\n    },\n    {\n      \"column\": \"PERSONS\",\n      \"properties\": {\n        \"dtype\": \"category\",\n        \"num_unique_values\": 217,\n        \"samples\": [\n          \"Walter Besant , G. R . Sims , G. M. Fenn , Dora Russell<SEP>Mary Tillotson & William Brimelow\",\n          \"Miss Dora Russell<SEP>G. Sharman\",\n          \"Miss  Braddon\"\n        ],\n        \"semantic_type\": \"\",\n        \"description\": \"\"\n      }\n    },\n    {\n      \"column\": \"ORGANIZATIONS\",\n      \"properties\": {\n        \"dtype\": \"category\",\n        \"num_unique_values\": 58,\n        \"samples\": [\n          \"\",\n          \"Tillotson & Son\",\n          \"Tillotson & Son ( Ltd . )\"\n        ],\n        \"semantic_type\": \"\",\n        \"description\": \"\"\n      }\n    },\n    {\n      \"column\": \"PLACE_PUB\",\n      \"properties\": {\n        \"dtype\": \"category\",\n        \"num_unique_values\": 93,\n        \"samples\": [\n          \"chatteris\",\n          \"drogheda\",\n          \"bath\"\n        ],\n        \"semantic_type\": \"\",\n        \"description\": \"\"\n      }\n    },\n    {\n      \"column\": \"PLACE_PUB_WIKI\",\n      \"properties\": {\n        \"dtype\": \"category\",\n        \"num_unique_values\": 92,\n        \"samples\": [\n          \"Q2636013\",\n          \"Q207223\",\n          \"Q22889\"\n        ],\n        \"semantic_type\": \"\",\n        \"description\": \"\"\n      }\n    },\n    {\n      \"column\": \"PLACE_PUB_COORD\",\n      \"properties\": {\n        \"dtype\": \"category\",\n        \"num_unique_values\": 93,\n        \"samples\": [\n          \"(52.456, 0.055)\",\n          \"(53.713889, -6.350278)\",\n          \"(51.381389, -2.358611)\"\n        ],\n        \"semantic_type\": \"\",\n        \"description\": \"\"\n      }\n    },\n    {\n      \"column\": \"PLACES\",\n      \"properties\": {\n        \"dtype\": \"category\",\n        \"num_unique_values\": 370,\n        \"samples\": [\n          \"Farnworth<SEP>Kearsley<SEP>Little Lever<SEP>Outwood<SEP>Radeliffe<SEP>Little Hulton<SEP>Swinton<SEP>Pendlebury<SEP>Ringley<SEP>Walk - den<SEP>Sindsley<SEP>Bolton<SEP>Darcy Lever<SEP>Great Lever<SEP>Clifton<SEP>Worsley<SEP>Mrs .<SEP>Wilkie Collins\",\n          \"Derry<SEP>Donegal<SEP>Tyrone<SEP>Fermanagh\",\n          \"Carmarthen<SEP>Liandilo<SEP>Lilan - dovery<SEP>Llanelly<SEP>Haverfordwest<SEP>Pembroke<SEP>Tenby<SEP>Milford<SEP>Swansea<SEP>Cardigan<SEP>Aberystwith<SEP>South Wales\"\n        ],\n        \"semantic_type\": \"\",\n        \"description\": \"\"\n      }\n    },\n    {\n      \"column\": \"PLACES_TRES\",\n      \"properties\": {\n        \"dtype\": \"category\",\n        \"num_unique_values\": 363,\n        \"samples\": [\n          \"[{'mention': 'Carlow', 'pos': 29, 'sent_idx': 0, 'end_pos': 35, 'tag': 'LOC', 'prediction': 'Q211703', 'ed_score': 0.005, 'latlon': [52.8306, -6.9317], 'wkdt_class': 'Q3957'}, {'mention': 'Kildare', 'pos': 37, 'sent_idx': 0, 'end_pos': 44, 'tag': 'LOC', 'prediction': 'Q917865', 'ed_score': 0.005, 'latlon': [53.156859, -6.909027], 'wkdt_class': 'Q3957'}, {'mention': 'Wicklow', 'pos': 46, 'sent_idx': 0, 'end_pos': 53, 'tag': 'LOC', 'prediction': 'Q652101', 'ed_score': 0.005, 'latlon': [52.9779, -6.033], 'wkdt_class': 'Q486972'}, {'mention': \\\"Queen ' s County\\\", 'pos': 55, 'sent_idx': 0, 'end_pos': 70, 'tag': 'LOC', 'prediction': 'Q55299', 'ed_score': 0.006, 'latlon': [53.0, -7.4], 'wkdt_class': 'Q179872'}, {'mention': 'Kilkenny', 'pos': 72, 'sent_idx': 0, 'end_pos': 80, 'tag': 'LOC', 'prediction': 'Q109092', 'ed_score': 0.006, 'latlon': [52.6477, -7.2561], 'wkdt_class': 'Q3957'}]\",\n          \"[{'mention': 'Derry', 'pos': 29, 'sent_idx': 0, 'end_pos': 34, 'tag': 'LOC', 'prediction': 'Q163584', 'ed_score': 0.005, 'latlon': [54.991667, -7.341667], 'wkdt_class': 'Q515'}, {'mention': 'Donegal', 'pos': 36, 'sent_idx': 0, 'end_pos': 43, 'tag': 'LOC', 'prediction': 'Q179424', 'ed_score': 0.006, 'latlon': [54.917, -8.0], 'wkdt_class': 'Q179872'}, {'mention': 'Tyrone', 'pos': 45, 'sent_idx': 0, 'end_pos': 51, 'tag': 'LOC', 'prediction': 'Q192229', 'ed_score': 0.006, 'latlon': [54.61, -7.16], 'wkdt_class': 'Q67376938'}, {'mention': 'Fermanagh', 'pos': 53, 'sent_idx': 0, 'end_pos': 62, 'tag': 'LOC', 'prediction': 'Q190678', 'ed_score': 0.004, 'latlon': [54.35, -7.63], 'wkdt_class': 'Q67376938'}]\",\n          \"[{'mention': 'Carmarthen', 'pos': 29, 'sent_idx': 0, 'end_pos': 39, 'tag': 'LOC', 'prediction': 'Q835835', 'ed_score': 0.006, 'latlon': [51.856944, -4.316389], 'wkdt_class': 'Q2630741'}, {'mention': 'Liandilo', 'pos': 41, 'sent_idx': 0, 'end_pos': 49, 'tag': 'LOC', 'prediction': 'Q2204179', 'ed_score': 0.002, 'latlon': [51.8841, -3.99918], 'wkdt_class': 'Q3957'}, {'mention': 'Lilan - dovery', 'pos': 51, 'sent_idx': 0, 'end_pos': 65, 'tag': 'LOC', 'prediction': 'NIL', 'ed_score': 0.0, 'latlon': None, 'wkdt_class': None}, {'mention': 'Llanelly', 'pos': 67, 'sent_idx': 0, 'end_pos': 75, 'tag': 'LOC', 'prediction': 'Q6661307', 'ed_score': 0.005, 'latlon': [51.8265, -3.11579], 'wkdt_class': 'Q5084'}, {'mention': 'Haverfordwest', 'pos': 77, 'sent_idx': 0, 'end_pos': 90, 'tag': 'LOC', 'prediction': 'Q990103', 'ed_score': 0.006, 'latlon': [51.801111, -4.969444], 'wkdt_class': 'Q2630741'}, {'mention': 'Pembroke', 'pos': 92, 'sent_idx': 0, 'end_pos': 100, 'tag': 'LOC', 'prediction': 'Q1762242', 'ed_score': 0.003, 'latlon': [51.676039, -4.9158], 'wkdt_class': 'Q3957'}, {'mention': 'Tenby', 'pos': 102, 'sent_idx': 0, 'end_pos': 107, 'tag': 'LOC', 'prediction': 'Q558878', 'ed_score': 0.006, 'latlon': [51.671389, -4.699444], 'wkdt_class': 'Q3957'}, {'mention': 'Milford', 'pos': 109, 'sent_idx': 0, 'end_pos': 116, 'tag': 'LOC', 'prediction': 'Q755798', 'ed_score': 0.003, 'latlon': [41.224167, -73.059722], 'wkdt_class': 'Q1093829'}, {'mention': 'Swansea', 'pos': 118, 'sent_idx': 0, 'end_pos': 125, 'tag': 'LOC', 'prediction': 'Q23051', 'ed_score': 0.005, 'latlon': [51.616667, -3.95], 'wkdt_class': 'Q515'}, {'mention': 'Cardigan', 'pos': 127, 'sent_idx': 0, 'end_pos': 135, 'tag': 'LOC', 'prediction': 'Q779813', 'ed_score': 0.005, 'latlon': [52.084169, -4.657919], 'wkdt_class': 'Q3957'}, {'mention': 'Aberystwith', 'pos': 137, 'sent_idx': 0, 'end_pos': 148, 'tag': 'LOC', 'prediction': 'Q213154', 'ed_score': 0.007, 'latlon': [52.416667, -4.066667], 'wkdt_class': 'Q2630741'}, {'mention': 'South Wales', 'pos': 150, 'sent_idx': 0, 'end_pos': 161, 'tag': 'LOC', 'prediction': 'Q1286223', 'ed_score': 0.004, 'latlon': [51.6833, -3.38333], 'wkdt_class': 'Q82794'}]\"\n        ],\n        \"semantic_type\": \"\",\n        \"description\": \"\"\n      }\n    },\n    {\n      \"column\": \"TEXT\",\n      \"properties\": {\n        \"dtype\": \"string\",\n        \"num_unique_values\": 750,\n        \"samples\": [\n          \"MIDLAND TRIBUNE . Saturday , 1d . Nartional . \\u2014 Established 1881 . Circulates in King 's and Queen 's counties , and in counties Tipperary , Galway and Clare . Is thoroughly National in tone , and aims to be the reflex and exponent of popular feeling throughout a widespread district in the Midland counties of Ireland . Proprietress \\u2014 Mrs . Margaret Powell . ( Advt . , p . 556 .\",\n          \"NATIONALIST AND LEINSTER TIMES . Saturday , 2d . Nartional . \\u2014 Established September , 1883 . Circulates in the counties of Carlow , Kildare , Wicklow , Queen 's County , and Kilkenny . It contains full reports of all District and County Council meetings , Poor Law , Asylums and Infirmary Boards , political and social meetings , agricultural and general . Proprietor \\u2014 Mrus . A . F . Conlan . ( Inthe Province of Leinster and\",\n          \"HAMPSHIRE TELEGRAPH . Saturday , 5d . and 6d . Liberal . \\u2014 Established October 14 , 1799 . Circurates largely through Portsmouth , Portsea , and Gosport ; all the Isle of Wight , Southampton , Winches - ter , Lymington , Romsey , Guildford , Godalming , Pet - worth , Midhurst , Petersfield , Chichester , Arundel , Ems - worth , Havant , and all the circuit for 40 miles . Advocates the interests of agriculture , commerce , and naval matters ; ; is attached to the Church of England , but decidedly against Puseyism ; liberal towards dissenters , as well as towards the Papal Church , so far as Ireland is concerned . \\u2014 This journal has a high and well-established character for its shipping intelligence , which is always full and correct ; its general news is accuratley given . Proprietor ( acting ) \\u2014 Alicia Harrison . ( Ad . , p . 108 .\"\n        ],\n        \"semantic_type\": \"\",\n        \"description\": \"\"\n      }\n    },\n    {\n      \"column\": \"has_female_name\",\n      \"properties\": {\n        \"dtype\": \"boolean\",\n        \"num_unique_values\": 1,\n        \"samples\": [\n          true\n        ],\n        \"semantic_type\": \"\",\n        \"description\": \"\"\n      }\n    }\n  ]\n}"
            }
          },
          "metadata": {},
          "execution_count": 54
        }
      ]
    },
    {
      "cell_type": "code",
      "source": [
        "# zoom in on the actual text to get more information\n",
        "# on the role of women in the press\n",
        "# change the idx to a number smaller than 779\n",
        "idx = 1\n",
        "df.loc[df['has_female_name'] == True].iloc[idx]['TEXT']"
      ],
      "metadata": {
        "id": "8bhC1k5S2ZUi",
        "colab": {
          "base_uri": "https://localhost:8080/",
          "height": 89
        },
        "outputId": "e84cd3c2-ffa4-4d1a-b1a2-d28cba708155"
      },
      "execution_count": null,
      "outputs": [
        {
          "output_type": "execute_result",
          "data": {
            "text/plain": [
              "'KENTISH GAZETTE . Tuesday , 3d . Conservative . — Established 1717 . Circulates through East Kent , and portions of West Kent , Surrey , Sussex , and Middlesex . Advocates the agricultural interest chiefly . Is attached to the Church of England , and the friend of religious toleration . It gives full reports of all local matters , in addition to foreign and general intelligence , the London markets , & c . Proprietress — Mary Ward .'"
            ],
            "application/vnd.google.colaboratory.intrinsic+json": {
              "type": "string"
            }
          },
          "metadata": {},
          "execution_count": 56
        }
      ]
    },
    {
      "cell_type": "code",
      "source": [
        "# what are the titles\n",
        "df[df['has_female_name'] == True]['TITLE'].unique()"
      ],
      "metadata": {
        "id": "LjeyGW0BbEdI",
        "colab": {
          "base_uri": "https://localhost:8080/"
        },
        "outputId": "3ed663d5-b4b9-4cfd-b323-24cd621c0dab"
      },
      "execution_count": null,
      "outputs": [
        {
          "output_type": "execute_result",
          "data": {
            "text/plain": [
              "array(['KENTISH GAZETTE .', 'ESSEX STANDARD . ', 'ESSEX STANDARD .',\n",
              "       'ESSEX STANDARD AND EASTERN COUNTIES ADVERTISER .',\n",
              "       'ESSEX STANDARD , WEST SUFFOLK GAZETTE , AND EASTERN COUNTIES ADVERTISER .',\n",
              "       'LINCOLN , RUTLAND , AND STAMFORD MERCURY .',\n",
              "       'CAERMARTHEN JOURNAL .', 'THE JOURNAL .', 'BELFAST NEWS LETTER .',\n",
              "       'LIMERICK CHRONICLE .', 'LONDONDERRY SENTINEL .',\n",
              "       'NENAGH GUARDIAN .', 'CARLOW SENTINEL .', 'KILKENNY JOURNAL .',\n",
              "       'SLIGO CHAMPION .', 'WELLS JOURNAL .', 'HAMPSHIRE TELEGRAPH .',\n",
              "       'HAMPSHIRE TELEGRAPH AND SUSSEX CHRONICLE .', 'WEST BRITON .',\n",
              "       'LIVERPOOL MERCURY .', 'EAST OF FIFE RECORD .', 'ANGLO-CELT .',\n",
              "       'KENT COAST TIMES .', 'COAST TIMES .', 'BERWICK ADVERTISER .',\n",
              "       'CHESTER CHRONICLE .', 'DERBYSHIRE COURIER .',\n",
              "       'STIRLING JOURNAL AND ADVERTISER .', 'DROGHEDA ARGUS .',\n",
              "       'BOLTON EVENING NEWS .',\n",
              "       '\" MAN OF ROSS , \" FOREST OF DEAN , AND WEST OF ENGLAND ADVERTISER .',\n",
              "       'ECCLES ADVERTISER .', 'MORPETH HERALD .',\n",
              "       'STAR OF GWENT AND SOUTH WALES TIMES .', 'DERBYSHIRE TIMES .',\n",
              "       'WEST SURREY TIMES .', 'ISLE OF WIGHT OBSERVER .',\n",
              "       'BIDEFORD WEEKLY GAZETTE .', 'FALMOUTH PACKET .',\n",
              "       'GATESHEAD OBSERVER .', 'IPSWICH JOURNAL .', 'LIVERPOOL ALBION .',\n",
              "       'NEWTOWNARDS CHRONICLE .', \"EXETER FLYING POST ( TREWMAN'S ) .\",\n",
              "       'NORTH WILTS HERALD .', 'KINGTON GAZETTE .',\n",
              "       'BALLINROBE CHRONICLE .', 'CHATTERIS ADVERTISER .',\n",
              "       'WHITTLESEA REPORTER .', 'KELSO CHRONICLE .',\n",
              "       'NOTTINGHAMSHIRE GUARDIAN .',\n",
              "       'HARWICH AND DOVERCOURT FREE PRESS .', 'SLEAFORD JOURNAL .',\n",
              "       'ROTHERHAM AND MASBOROUGH ADVERTISER .',\n",
              "       'ISLE OF WIGHT CHRONICLE .', 'ROSCOMMON JOURNAL .',\n",
              "       'WHITEHAVEN HERALD .', 'NATIONALIST AND LEINSTER TIMES .',\n",
              "       'HUNTINGDON ADVERTISER .', 'BRISTOL MIRROR .',\n",
              "       'TRALEE CHRONICLE .', 'ROSCOMMON HERALD .', 'REPORTER .',\n",
              "       'EVENING STAR OF GWENT AND SOUTH WALES TIMES .',\n",
              "       'CONSETT GUARDIAN .', 'CARLOW POST .', 'BATH HERALD .',\n",
              "       'BRIGHTON SOCIETY .', 'BRIGHTON GUARDIAN .',\n",
              "       'CARDIGAN ADVERTISER .', 'CARDIGAN AND TIVY SIDE ADVERTISER .',\n",
              "       'DOVER TELEGRAPH .', 'NEWCASTLE GUARDIAN .', 'SHEFFIELD TIMES .',\n",
              "       'PRESCOT REPORTER .',\n",
              "       \"PRESCOT REPORTER AND ST . HELEN'S GENERAL ADVERTISER .\",\n",
              "       'STRATFORD-UPON-AVON HERALD .', 'CLARE FREEMAN .',\n",
              "       'PORTADOWN AND LURGAN NEWS .',\n",
              "       'PORTADOWN AND LURGAN NEWS , AND COUNTY ARMAGH ADVERTISER .',\n",
              "       'NORTHAMPTON MERCURY .', 'MIDLAND SPORTING NEWS .',\n",
              "       'MIDLAND TRIBUNE .', 'NORWOOD REVIEWS CRYSTAL PALACE REPORTER .',\n",
              "       'CHELTENHAM JOURNAL .', 'CASTLEBAR TELEGRAPH .',\n",
              "       'SHEFFIELD DAILY TIMES .', 'LISKEARD GAZETTE .',\n",
              "       'WESTERN HERALD .', 'FORFAR HERALD .', 'FORFAR REVIEW .',\n",
              "       'STRABANE CHRONICLE , AND TYRONE AND DONEGAL ADVERTISER .',\n",
              "       'PENDLEBURY AND SWINTON JOURNAL .', 'LEDBURY REPORTER .',\n",
              "       'SLIGO JOURNAL .', 'ECCLES AND PATRICROFT JOURNAL .',\n",
              "       'LEIGH JOURNAL AND TIMES .', 'BOLTON WEEKLY JOURNAL .',\n",
              "       'BOLTON WEEKLY JOURNAL . ', 'BOLTON WEEKLY JOURNAL AND GUARDIAN .',\n",
              "       'NEWRY REPORTER . DOWN , ARMAGH , AND LOUTH TIMES .',\n",
              "       'BRIDGEWATER TIMES .', 'SURREY MAIL AND HORSHAM STAR .',\n",
              "       'CHERTSEY MAIL .', 'GRIMSBY FREE PRESS .', 'KELSO COURIER .',\n",
              "       'TEWKESBURY MAIL .', 'FARNWORTH JOURNAL AND OBSERVER .',\n",
              "       'BRIDPORT , BEAMINSTER , AND LYNN REGIS TELEGRAM .',\n",
              "       \"POTTER'S NEWSPAPER .\", 'GUERNSEY COMET .',\n",
              "       'TYLDESLEY WEEKLY JOURNAL , LEIGH AND ATHERTON NEWS .',\n",
              "       'TYLDESLEY WEEKLY JOURNAL , LEIGH AND NATHERTON NEWS .',\n",
              "       'TYLDESLEY WEEKLY JOURNAL LEIGH AND ATHERTON NEWS .',\n",
              "       'GALWAY FREE PRESS .', 'SUTTON COLDFIELD ERDINGTON MERCURY .',\n",
              "       'FARNWORTH WEEKLY JOURNAL .',\n",
              "       'FARNWORTH WEEKLY JOURNAL & OBERVER .', 'BROMYARD NEWS .',\n",
              "       'SUTTON COLDFIELD AND ERDINGTON MERCURY .',\n",
              "       'FREE PRESS OF MONMOUTHSHIRE .',\n",
              "       'CAMBRIDGESHIRE TIMES AND MARCH GAZETTE .',\n",
              "       'BRIDGE OF ALLAN REPORTER .', '', 'WORKSOP ADVERTISER .',\n",
              "       'EVENING NORTH WILTS HERALD .', 'LEIGH WEEKLY JOURNAL .',\n",
              "       'ROSCOMMON HERALD ,', \"TILLOTSONS ' NEWSPAPER LITERATURE BUREAU .\"],\n",
              "      dtype=object)"
            ]
          },
          "metadata": {},
          "execution_count": 57
        }
      ]
    },
    {
      "cell_type": "code",
      "source": [
        "# what is the political leaning of these newspapers?\n",
        "df[df['has_female_name'] == True]['POLITICS'].value_counts(normalize=True)[:5]"
      ],
      "metadata": {
        "id": "jbmn8wZUavs7",
        "colab": {
          "base_uri": "https://localhost:8080/",
          "height": 272
        },
        "outputId": "831989f5-0a43-4f67-8c2e-8242509389ff"
      },
      "execution_count": null,
      "outputs": [
        {
          "output_type": "execute_result",
          "data": {
            "text/plain": [
              "POLITICS\n",
              "liberal         0.382542\n",
              "conservative    0.283697\n",
              "independent     0.115533\n",
              "neutral         0.105263\n",
              "national        0.035944\n",
              "Name: proportion, dtype: float64"
            ],
            "text/html": [
              "<div>\n",
              "<style scoped>\n",
              "    .dataframe tbody tr th:only-of-type {\n",
              "        vertical-align: middle;\n",
              "    }\n",
              "\n",
              "    .dataframe tbody tr th {\n",
              "        vertical-align: top;\n",
              "    }\n",
              "\n",
              "    .dataframe thead th {\n",
              "        text-align: right;\n",
              "    }\n",
              "</style>\n",
              "<table border=\"1\" class=\"dataframe\">\n",
              "  <thead>\n",
              "    <tr style=\"text-align: right;\">\n",
              "      <th></th>\n",
              "      <th>proportion</th>\n",
              "    </tr>\n",
              "    <tr>\n",
              "      <th>POLITICS</th>\n",
              "      <th></th>\n",
              "    </tr>\n",
              "  </thead>\n",
              "  <tbody>\n",
              "    <tr>\n",
              "      <th>liberal</th>\n",
              "      <td>0.382542</td>\n",
              "    </tr>\n",
              "    <tr>\n",
              "      <th>conservative</th>\n",
              "      <td>0.283697</td>\n",
              "    </tr>\n",
              "    <tr>\n",
              "      <th>independent</th>\n",
              "      <td>0.115533</td>\n",
              "    </tr>\n",
              "    <tr>\n",
              "      <th>neutral</th>\n",
              "      <td>0.105263</td>\n",
              "    </tr>\n",
              "    <tr>\n",
              "      <th>national</th>\n",
              "      <td>0.035944</td>\n",
              "    </tr>\n",
              "  </tbody>\n",
              "</table>\n",
              "</div><br><label><b>dtype:</b> float64</label>"
            ]
          },
          "metadata": {},
          "execution_count": 58
        }
      ]
    },
    {
      "cell_type": "code",
      "source": [
        "# how does this compare the newspaper landscape?\n",
        "df['POLITICS'].value_counts(normalize=True)[:5]"
      ],
      "metadata": {
        "id": "mib3d6f1ajiB",
        "colab": {
          "base_uri": "https://localhost:8080/",
          "height": 272
        },
        "outputId": "9c18cc6f-1c2d-45f0-a994-27a7ae566723"
      },
      "execution_count": null,
      "outputs": [
        {
          "output_type": "execute_result",
          "data": {
            "text/plain": [
              "POLITICS\n",
              "liberal         0.236750\n",
              "independent     0.189170\n",
              "neutral         0.186483\n",
              "conservative    0.149578\n",
              "                0.142382\n",
              "Name: proportion, dtype: float64"
            ],
            "text/html": [
              "<div>\n",
              "<style scoped>\n",
              "    .dataframe tbody tr th:only-of-type {\n",
              "        vertical-align: middle;\n",
              "    }\n",
              "\n",
              "    .dataframe tbody tr th {\n",
              "        vertical-align: top;\n",
              "    }\n",
              "\n",
              "    .dataframe thead th {\n",
              "        text-align: right;\n",
              "    }\n",
              "</style>\n",
              "<table border=\"1\" class=\"dataframe\">\n",
              "  <thead>\n",
              "    <tr style=\"text-align: right;\">\n",
              "      <th></th>\n",
              "      <th>proportion</th>\n",
              "    </tr>\n",
              "    <tr>\n",
              "      <th>POLITICS</th>\n",
              "      <th></th>\n",
              "    </tr>\n",
              "  </thead>\n",
              "  <tbody>\n",
              "    <tr>\n",
              "      <th>liberal</th>\n",
              "      <td>0.236750</td>\n",
              "    </tr>\n",
              "    <tr>\n",
              "      <th>independent</th>\n",
              "      <td>0.189170</td>\n",
              "    </tr>\n",
              "    <tr>\n",
              "      <th>neutral</th>\n",
              "      <td>0.186483</td>\n",
              "    </tr>\n",
              "    <tr>\n",
              "      <th>conservative</th>\n",
              "      <td>0.149578</td>\n",
              "    </tr>\n",
              "    <tr>\n",
              "      <th></th>\n",
              "      <td>0.142382</td>\n",
              "    </tr>\n",
              "  </tbody>\n",
              "</table>\n",
              "</div><br><label><b>dtype:</b> float64</label>"
            ]
          },
          "metadata": {},
          "execution_count": 59
        }
      ]
    },
    {
      "cell_type": "code",
      "source": [
        "# what about changes over time?\n",
        "df[df['has_female_name'] == True].groupby(['YEAR']).size().plot()"
      ],
      "metadata": {
        "id": "8oNwkiiwa5wM",
        "colab": {
          "base_uri": "https://localhost:8080/",
          "height": 476
        },
        "outputId": "703bb0e2-5a26-426a-ec59-e77a7355065d"
      },
      "execution_count": null,
      "outputs": [
        {
          "output_type": "execute_result",
          "data": {
            "text/plain": [
              "<Axes: xlabel='YEAR'>"
            ]
          },
          "metadata": {},
          "execution_count": 60
        },
        {
          "output_type": "display_data",
          "data": {
            "text/plain": [
              "<Figure size 640x480 with 1 Axes>"
            ],
            "image/png": "[encoded data removed]"
          },
          "metadata": {}
        }
      ]
    },
    {
      "cell_type": "code",
      "source": [
        "df.groupby(['YEAR'])['PERSONS'].nunique().plot()\n",
        "df.groupby(['YEAR'])['ORGANIZATIONS'].nunique().plot()"
      ],
      "metadata": {
        "id": "JGbCEmTdbeRa",
        "colab": {
          "base_uri": "https://localhost:8080/",
          "height": 476
        },
        "outputId": "9ce8f69e-9d36-4a54-85ba-cab8c134be6f"
      },
      "execution_count": null,
      "outputs": [
        {
          "output_type": "execute_result",
          "data": {
            "text/plain": [
              "<Axes: xlabel='YEAR'>"
            ]
          },
          "metadata": {},
          "execution_count": 61
        },
        {
          "output_type": "display_data",
          "data": {
            "text/plain": [
              "<Figure size 640x480 with 1 Axes>"
            ],
            "image/png": "[encoded data removed]"
          },
          "metadata": {}
        }
      ]
    },
    {
      "cell_type": "markdown",
      "source": [
        "### Case Study 3: Your Turn!\n",
        "\n",
        "What else would you like to find out?"
      ],
      "metadata": {
        "id": "KmHkWVgJt7gZ"
      }
    },
    {
      "cell_type": "code",
      "source": [
        "# let's start coding"
      ],
      "metadata": {
        "id": "yvf3E_POuHH3"
      },
      "execution_count": null,
      "outputs": []
    },
    {
      "cell_type": "markdown",
      "source": [
        "![bye](https://i.giphy.com/media/v1.Y2lkPTc5MGI3NjExbmFzOHBqaTBiYXh0bGczZ2t3a3VtanRrMWNmZ2owcTVnNGtxMXp3NSZlcD12MV9pbnRlcm5hbF9naWZfYnlfaWQmY3Q9Zw/Z5PxhW6BlWJjCkoPIQ/giphy.gif)"
      ],
      "metadata": {
        "id": "RamsYHNn3aFJ"
      }
    },
    {
      "cell_type": "markdown",
      "source": [
        "# Fin."
      ],
      "metadata": {
        "id": "-z_QjLW-cYwY"
      }
    }
  ]
}