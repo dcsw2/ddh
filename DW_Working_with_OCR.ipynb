{
  "cells": [
    {
      "cell_type": "markdown",
      "metadata": {
        "id": "view-in-github",
        "colab_type": "text"
      },
      "source": [
        "<a href=\"https://colab.research.google.com/github/dcsw2/ddh/blob/main/DW_Working_with_OCR.ipynb\" target=\"_parent\"><img src=\"https://colab.research.google.com/assets/colab-badge.svg\" alt=\"Open In Colab\"/></a>"
      ]
    },
    {
      "cell_type": "markdown",
      "metadata": {
        "id": "aK1CaD4vJ5Nj"
      },
      "source": [
        "# This is an interactive Jupyter Notebook written in Python 🐍\n",
        "## It includes example scripts and provides access to some sample newspaper data\n",
        "#### It was developed, written and adapted by Nilo Pedrazzini, Kaspar Beelen and Daniel Wilson\n",
        "---\n",
        "# Getting to know a digitized corpus: Working with OCR'd material and OCR errors\n",
        "\n"
      ]
    },
    {
      "cell_type": "markdown",
      "metadata": {
        "id": "qZmR3SHTJ5Nk"
      },
      "source": [
        "In what follows, we'll mainly use `pandas` as a data manipulation tool:"
      ]
    },
    {
      "cell_type": "code",
      "execution_count": null,
      "metadata": {
        "id": "tIFOigQJJ5Nk"
      },
      "outputs": [],
      "source": [
        "import pandas as pd\n",
        "pd.set_option('display.max_colwidth', 50)"
      ]
    },
    {
      "cell_type": "markdown",
      "metadata": {
        "id": "czesZ0R6J5Nk"
      },
      "source": [
        "Import sample of newspapers from CSV file:"
      ]
    },
    {
      "cell_type": "code",
      "execution_count": null,
      "metadata": {
        "colab": {
          "base_uri": "https://localhost:8080/",
          "height": 406
        },
        "id": "wgqF-w1RJ5Nk",
        "outputId": "9a3b3c36-ca03-4176-f910-3a944905f97c"
      },
      "outputs": [
        {
          "output_type": "stream",
          "name": "stdout",
          "text": [
            "Downloading...\n",
            "From: https://drive.google.com/uc?id=1lxapBFOTK9aKu-GgTQZ5wYsrgqpWLba7\n",
            "To: /content/subsample500mixedocr-selected_mitch.csv\n",
            "\r  0% 0.00/1.59M [00:00<?, ?B/s]\r100% 1.59M/1.59M [00:00<00:00, 41.5MB/s]\n"
          ]
        },
        {
          "output_type": "execute_result",
          "data": {
            "text/plain": [
              "     publication_code  issue_id  item_id  \\\n",
              "47               2616       220  art0049   \n",
              "6                2596       626  art0016   \n",
              "435              3065       427  art0038   \n",
              "\n",
              "                                      newspaper_title  \\\n",
              "47   The Tamworth Examiner and Working Men's Journal.   \n",
              "6                           The Cotton Factory Times.   \n",
              "435                           The Haslingden Gazette.   \n",
              "\n",
              "                                    data_provider        date  year  month  \\\n",
              "47   British Library Living with Machines Project  1875-02-20  1875      2   \n",
              "6    British Library Living with Machines Project  1903-06-26  1903      6   \n",
              "435  British Library Living with Machines Project  1907-04-27  1907      4   \n",
              "\n",
              "     day                                 location  word_count  ocrquality  \\\n",
              "47    20         Tamworth, Staffordshire, England         223      0.9644   \n",
              "6     26  Manchester, Greater Manchester, England        1991      0.9578   \n",
              "435   27          Haslingden, Lancashire, England         388      0.8002   \n",
              "\n",
              "    political_leaning_label price_label  \\\n",
              "47                      NaN         NaN   \n",
              "6                   neutral          1d   \n",
              "435            conservative          1d   \n",
              "\n",
              "                                                  text  \n",
              "47   THE SHEFFIELD  The above is a MICROSCOPE, with...  \n",
              "6    Whiffles.  CHAPTER lll.—(Continued.) A high co...  \n",
              "435  GREEN TEA.  Prom among the host of sixpenny no...  "
            ],
            "text/html": [
              "\n",
              "  <div id=\"df-aded68a7-09ea-4fa1-8234-2552b02781d0\" class=\"colab-df-container\">\n",
              "    <div>\n",
              "<style scoped>\n",
              "    .dataframe tbody tr th:only-of-type {\n",
              "        vertical-align: middle;\n",
              "    }\n",
              "\n",
              "    .dataframe tbody tr th {\n",
              "        vertical-align: top;\n",
              "    }\n",
              "\n",
              "    .dataframe thead th {\n",
              "        text-align: right;\n",
              "    }\n",
              "</style>\n",
              "<table border=\"1\" class=\"dataframe\">\n",
              "  <thead>\n",
              "    <tr style=\"text-align: right;\">\n",
              "      <th></th>\n",
              "      <th>publication_code</th>\n",
              "      <th>issue_id</th>\n",
              "      <th>item_id</th>\n",
              "      <th>newspaper_title</th>\n",
              "      <th>data_provider</th>\n",
              "      <th>date</th>\n",
              "      <th>year</th>\n",
              "      <th>month</th>\n",
              "      <th>day</th>\n",
              "      <th>location</th>\n",
              "      <th>word_count</th>\n",
              "      <th>ocrquality</th>\n",
              "      <th>political_leaning_label</th>\n",
              "      <th>price_label</th>\n",
              "      <th>text</th>\n",
              "    </tr>\n",
              "  </thead>\n",
              "  <tbody>\n",
              "    <tr>\n",
              "      <th>47</th>\n",
              "      <td>2616</td>\n",
              "      <td>220</td>\n",
              "      <td>art0049</td>\n",
              "      <td>The Tamworth Examiner and Working Men's Journal.</td>\n",
              "      <td>British Library Living with Machines Project</td>\n",
              "      <td>1875-02-20</td>\n",
              "      <td>1875</td>\n",
              "      <td>2</td>\n",
              "      <td>20</td>\n",
              "      <td>Tamworth, Staffordshire, England</td>\n",
              "      <td>223</td>\n",
              "      <td>0.9644</td>\n",
              "      <td>NaN</td>\n",
              "      <td>NaN</td>\n",
              "      <td>THE SHEFFIELD  The above is a MICROSCOPE, with...</td>\n",
              "    </tr>\n",
              "    <tr>\n",
              "      <th>6</th>\n",
              "      <td>2596</td>\n",
              "      <td>626</td>\n",
              "      <td>art0016</td>\n",
              "      <td>The Cotton Factory Times.</td>\n",
              "      <td>British Library Living with Machines Project</td>\n",
              "      <td>1903-06-26</td>\n",
              "      <td>1903</td>\n",
              "      <td>6</td>\n",
              "      <td>26</td>\n",
              "      <td>Manchester, Greater Manchester, England</td>\n",
              "      <td>1991</td>\n",
              "      <td>0.9578</td>\n",
              "      <td>neutral</td>\n",
              "      <td>1d</td>\n",
              "      <td>Whiffles.  CHAPTER lll.—(Continued.) A high co...</td>\n",
              "    </tr>\n",
              "    <tr>\n",
              "      <th>435</th>\n",
              "      <td>3065</td>\n",
              "      <td>427</td>\n",
              "      <td>art0038</td>\n",
              "      <td>The Haslingden Gazette.</td>\n",
              "      <td>British Library Living with Machines Project</td>\n",
              "      <td>1907-04-27</td>\n",
              "      <td>1907</td>\n",
              "      <td>4</td>\n",
              "      <td>27</td>\n",
              "      <td>Haslingden, Lancashire, England</td>\n",
              "      <td>388</td>\n",
              "      <td>0.8002</td>\n",
              "      <td>conservative</td>\n",
              "      <td>1d</td>\n",
              "      <td>GREEN TEA.  Prom among the host of sixpenny no...</td>\n",
              "    </tr>\n",
              "  </tbody>\n",
              "</table>\n",
              "</div>\n",
              "    <div class=\"colab-df-buttons\">\n",
              "\n",
              "  <div class=\"colab-df-container\">\n",
              "    <button class=\"colab-df-convert\" onclick=\"convertToInteractive('df-aded68a7-09ea-4fa1-8234-2552b02781d0')\"\n",
              "            title=\"Convert this dataframe to an interactive table.\"\n",
              "            style=\"display:none;\">\n",
              "\n",
              "  <svg xmlns=\"http://www.w3.org/2000/svg\" height=\"24px\" viewBox=\"0 -960 960 960\">\n",
              "    <path d=\"M120-120v-720h720v720H120Zm60-500h600v-160H180v160Zm220 220h160v-160H400v160Zm0 220h160v-160H400v160ZM180-400h160v-160H180v160Zm440 0h160v-160H620v160ZM180-180h160v-160H180v160Zm440 0h160v-160H620v160Z\"/>\n",
              "  </svg>\n",
              "    </button>\n",
              "\n",
              "  <style>\n",
              "    .colab-df-container {\n",
              "      display:flex;\n",
              "      gap: 12px;\n",
              "    }\n",
              "\n",
              "    .colab-df-convert {\n",
              "      background-color: #E8F0FE;\n",
              "      border: none;\n",
              "      border-radius: 50%;\n",
              "      cursor: pointer;\n",
              "      display: none;\n",
              "      fill: #1967D2;\n",
              "      height: 32px;\n",
              "      padding: 0 0 0 0;\n",
              "      width: 32px;\n",
              "    }\n",
              "\n",
              "    .colab-df-convert:hover {\n",
              "      background-color: #E2EBFA;\n",
              "      box-shadow: 0px 1px 2px rgba(60, 64, 67, 0.3), 0px 1px 3px 1px rgba(60, 64, 67, 0.15);\n",
              "      fill: #174EA6;\n",
              "    }\n",
              "\n",
              "    .colab-df-buttons div {\n",
              "      margin-bottom: 4px;\n",
              "    }\n",
              "\n",
              "    [theme=dark] .colab-df-convert {\n",
              "      background-color: #3B4455;\n",
              "      fill: #D2E3FC;\n",
              "    }\n",
              "\n",
              "    [theme=dark] .colab-df-convert:hover {\n",
              "      background-color: #434B5C;\n",
              "      box-shadow: 0px 1px 3px 1px rgba(0, 0, 0, 0.15);\n",
              "      filter: drop-shadow(0px 1px 2px rgba(0, 0, 0, 0.3));\n",
              "      fill: #FFFFFF;\n",
              "    }\n",
              "  </style>\n",
              "\n",
              "    <script>\n",
              "      const buttonEl =\n",
              "        document.querySelector('#df-aded68a7-09ea-4fa1-8234-2552b02781d0 button.colab-df-convert');\n",
              "      buttonEl.style.display =\n",
              "        google.colab.kernel.accessAllowed ? 'block' : 'none';\n",
              "\n",
              "      async function convertToInteractive(key) {\n",
              "        const element = document.querySelector('#df-aded68a7-09ea-4fa1-8234-2552b02781d0');\n",
              "        const dataTable =\n",
              "          await google.colab.kernel.invokeFunction('convertToInteractive',\n",
              "                                                    [key], {});\n",
              "        if (!dataTable) return;\n",
              "\n",
              "        const docLinkHtml = 'Like what you see? Visit the ' +\n",
              "          '<a target=\"_blank\" href=https://colab.research.google.com/notebooks/data_table.ipynb>data table notebook</a>'\n",
              "          + ' to learn more about interactive tables.';\n",
              "        element.innerHTML = '';\n",
              "        dataTable['output_type'] = 'display_data';\n",
              "        await google.colab.output.renderOutput(dataTable, element);\n",
              "        const docLink = document.createElement('div');\n",
              "        docLink.innerHTML = docLinkHtml;\n",
              "        element.appendChild(docLink);\n",
              "      }\n",
              "    </script>\n",
              "  </div>\n",
              "\n",
              "\n",
              "<div id=\"df-7cf37fdc-0bb3-410c-9c47-a443bd0aa1e1\">\n",
              "  <button class=\"colab-df-quickchart\" onclick=\"quickchart('df-7cf37fdc-0bb3-410c-9c47-a443bd0aa1e1')\"\n",
              "            title=\"Suggest charts\"\n",
              "            style=\"display:none;\">\n",
              "\n",
              "<svg xmlns=\"http://www.w3.org/2000/svg\" height=\"24px\"viewBox=\"0 0 24 24\"\n",
              "     width=\"24px\">\n",
              "    <g>\n",
              "        <path d=\"M19 3H5c-1.1 0-2 .9-2 2v14c0 1.1.9 2 2 2h14c1.1 0 2-.9 2-2V5c0-1.1-.9-2-2-2zM9 17H7v-7h2v7zm4 0h-2V7h2v10zm4 0h-2v-4h2v4z\"/>\n",
              "    </g>\n",
              "</svg>\n",
              "  </button>\n",
              "\n",
              "<style>\n",
              "  .colab-df-quickchart {\n",
              "      --bg-color: #E8F0FE;\n",
              "      --fill-color: #1967D2;\n",
              "      --hover-bg-color: #E2EBFA;\n",
              "      --hover-fill-color: #174EA6;\n",
              "      --disabled-fill-color: #AAA;\n",
              "      --disabled-bg-color: #DDD;\n",
              "  }\n",
              "\n",
              "  [theme=dark] .colab-df-quickchart {\n",
              "      --bg-color: #3B4455;\n",
              "      --fill-color: #D2E3FC;\n",
              "      --hover-bg-color: #434B5C;\n",
              "      --hover-fill-color: #FFFFFF;\n",
              "      --disabled-bg-color: #3B4455;\n",
              "      --disabled-fill-color: #666;\n",
              "  }\n",
              "\n",
              "  .colab-df-quickchart {\n",
              "    background-color: var(--bg-color);\n",
              "    border: none;\n",
              "    border-radius: 50%;\n",
              "    cursor: pointer;\n",
              "    display: none;\n",
              "    fill: var(--fill-color);\n",
              "    height: 32px;\n",
              "    padding: 0;\n",
              "    width: 32px;\n",
              "  }\n",
              "\n",
              "  .colab-df-quickchart:hover {\n",
              "    background-color: var(--hover-bg-color);\n",
              "    box-shadow: 0 1px 2px rgba(60, 64, 67, 0.3), 0 1px 3px 1px rgba(60, 64, 67, 0.15);\n",
              "    fill: var(--button-hover-fill-color);\n",
              "  }\n",
              "\n",
              "  .colab-df-quickchart-complete:disabled,\n",
              "  .colab-df-quickchart-complete:disabled:hover {\n",
              "    background-color: var(--disabled-bg-color);\n",
              "    fill: var(--disabled-fill-color);\n",
              "    box-shadow: none;\n",
              "  }\n",
              "\n",
              "  .colab-df-spinner {\n",
              "    border: 2px solid var(--fill-color);\n",
              "    border-color: transparent;\n",
              "    border-bottom-color: var(--fill-color);\n",
              "    animation:\n",
              "      spin 1s steps(1) infinite;\n",
              "  }\n",
              "\n",
              "  @keyframes spin {\n",
              "    0% {\n",
              "      border-color: transparent;\n",
              "      border-bottom-color: var(--fill-color);\n",
              "      border-left-color: var(--fill-color);\n",
              "    }\n",
              "    20% {\n",
              "      border-color: transparent;\n",
              "      border-left-color: var(--fill-color);\n",
              "      border-top-color: var(--fill-color);\n",
              "    }\n",
              "    30% {\n",
              "      border-color: transparent;\n",
              "      border-left-color: var(--fill-color);\n",
              "      border-top-color: var(--fill-color);\n",
              "      border-right-color: var(--fill-color);\n",
              "    }\n",
              "    40% {\n",
              "      border-color: transparent;\n",
              "      border-right-color: var(--fill-color);\n",
              "      border-top-color: var(--fill-color);\n",
              "    }\n",
              "    60% {\n",
              "      border-color: transparent;\n",
              "      border-right-color: var(--fill-color);\n",
              "    }\n",
              "    80% {\n",
              "      border-color: transparent;\n",
              "      border-right-color: var(--fill-color);\n",
              "      border-bottom-color: var(--fill-color);\n",
              "    }\n",
              "    90% {\n",
              "      border-color: transparent;\n",
              "      border-bottom-color: var(--fill-color);\n",
              "    }\n",
              "  }\n",
              "</style>\n",
              "\n",
              "  <script>\n",
              "    async function quickchart(key) {\n",
              "      const quickchartButtonEl =\n",
              "        document.querySelector('#' + key + ' button');\n",
              "      quickchartButtonEl.disabled = true;  // To prevent multiple clicks.\n",
              "      quickchartButtonEl.classList.add('colab-df-spinner');\n",
              "      try {\n",
              "        const charts = await google.colab.kernel.invokeFunction(\n",
              "            'suggestCharts', [key], {});\n",
              "      } catch (error) {\n",
              "        console.error('Error during call to suggestCharts:', error);\n",
              "      }\n",
              "      quickchartButtonEl.classList.remove('colab-df-spinner');\n",
              "      quickchartButtonEl.classList.add('colab-df-quickchart-complete');\n",
              "    }\n",
              "    (() => {\n",
              "      let quickchartButtonEl =\n",
              "        document.querySelector('#df-7cf37fdc-0bb3-410c-9c47-a443bd0aa1e1 button');\n",
              "      quickchartButtonEl.style.display =\n",
              "        google.colab.kernel.accessAllowed ? 'block' : 'none';\n",
              "    })();\n",
              "  </script>\n",
              "</div>\n",
              "\n",
              "    </div>\n",
              "  </div>\n"
            ],
            "application/vnd.google.colaboratory.intrinsic+json": {
              "type": "dataframe",
              "repr_error": "0"
            }
          },
          "metadata": {},
          "execution_count": 2
        }
      ],
      "source": [
        "!gdown 'https://drive.google.com/uc?id=1lxapBFOTK9aKu-GgTQZ5wYsrgqpWLba7'\n",
        "df = pd.read_csv('/content/subsample500mixedocr-selected_mitch.csv')\n",
        "df.sample(3)"
      ]
    },
    {
      "cell_type": "markdown",
      "metadata": {
        "id": "_fcWmZOyJ5Nn"
      },
      "source": [
        "### 'Word' counts"
      ]
    },
    {
      "cell_type": "markdown",
      "metadata": {
        "id": "q9bDak38J5Nn"
      },
      "source": [
        "⏭️ Check the size of the dataset. Generally, one way of giving an idea of this is in terms of **number of words**.\n",
        "\n",
        "A crude way to check the total number of \"words\" is by splitting all the text at any whitespace character (spaces (`\\s`), newlines (`\\n`), and tabs (`\\t`)) and counting how many units we got as a result.\n",
        "\n",
        "Note: because of huge differences in OCR quality from text to text, this method will often not be precise."
      ]
    },
    {
      "cell_type": "code",
      "execution_count": null,
      "metadata": {
        "colab": {
          "base_uri": "https://localhost:8080/"
        },
        "id": "WW3_jEfpJ5Nn",
        "outputId": "d3a4bb53-f7e4-4d5d-9d7b-a3a8980b6784"
      },
      "outputs": [
        {
          "output_type": "stream",
          "name": "stdout",
          "text": [
            "Total Word Count: 257684\n"
          ]
        }
      ],
      "source": [
        "# Calculate total word count from text column\n",
        "# split() means 'split at any whitepoint character'.\n",
        "# You could specify a whitespace instead, e.g. '\\s', which would exclude tabs and newlines.\n",
        "total_word_count = df['text'].apply(lambda x: len(str(x).split())).sum()\n",
        "print(f\"Total Word Count: {total_word_count}\")"
      ]
    },
    {
      "cell_type": "markdown",
      "metadata": {
        "id": "3JKKxilZJ5Nn"
      },
      "source": [
        "⏭️ We can add a column to our text sample, detailing how many words each 'item' (i.e. roughly 'article') has.\n",
        "\n",
        "> ⚠️ **Note**: a word count is included in the newspaper matadata for our collections, but this gives you more control if you want to add a rule of your choosing, e.g. if you know of regularities in OCR errors and want to keep those into account."
      ]
    },
    {
      "cell_type": "code",
      "execution_count": null,
      "metadata": {
        "id": "PO5st1G4J5Nn"
      },
      "outputs": [],
      "source": [
        "df['word_count'] = [len(x.split(' ')) for x in df['text'].astype(str)]"
      ]
    },
    {
      "cell_type": "markdown",
      "metadata": {
        "id": "tSwRk83KJ5Nn"
      },
      "source": [
        "This way we can check how many words each title, for example, has represented in our dataset, or check the title with the highest number of words:"
      ]
    },
    {
      "cell_type": "code",
      "execution_count": null,
      "metadata": {
        "colab": {
          "base_uri": "https://localhost:8080/",
          "height": 423
        },
        "id": "LOBa_FMaJ5Nn",
        "outputId": "61107e19-6e48-43c0-a3e9-61bbfd76f8b5"
      },
      "outputs": [
        {
          "output_type": "execute_result",
          "data": {
            "text/plain": [
              "                                      newspaper_title  total_words\n",
              "33  The Birkenhead News and Wirral General Adverti...        31818\n",
              "38                          The Cotton Factory Times.        19868\n",
              "72                                   Widnes Examiner.        14131\n",
              "41  The Dorset County Express and Agricultural Gaz...        11888\n",
              "8   Bridport, Beaminster, and Lyme Regis Telegram ...        11274\n",
              "..                                                ...          ...\n",
              "55  The Pontypridd District Herald and Rhondda Val...          110\n",
              "40  The Dewsbury Chronicle, and West Riding Advert...           82\n",
              "44                                 The Halifax Comet.           30\n",
              "10         Brighouse Gazette and Local Railway Guide.           27\n",
              "2                                 Barnsley Telephone.            2\n",
              "\n",
              "[73 rows x 2 columns]"
            ],
            "text/html": [
              "\n",
              "  <div id=\"df-27fda091-9753-4f7a-ae7d-f6f2dc75e3c4\" class=\"colab-df-container\">\n",
              "    <div>\n",
              "<style scoped>\n",
              "    .dataframe tbody tr th:only-of-type {\n",
              "        vertical-align: middle;\n",
              "    }\n",
              "\n",
              "    .dataframe tbody tr th {\n",
              "        vertical-align: top;\n",
              "    }\n",
              "\n",
              "    .dataframe thead th {\n",
              "        text-align: right;\n",
              "    }\n",
              "</style>\n",
              "<table border=\"1\" class=\"dataframe\">\n",
              "  <thead>\n",
              "    <tr style=\"text-align: right;\">\n",
              "      <th></th>\n",
              "      <th>newspaper_title</th>\n",
              "      <th>total_words</th>\n",
              "    </tr>\n",
              "  </thead>\n",
              "  <tbody>\n",
              "    <tr>\n",
              "      <th>33</th>\n",
              "      <td>The Birkenhead News and Wirral General Adverti...</td>\n",
              "      <td>31818</td>\n",
              "    </tr>\n",
              "    <tr>\n",
              "      <th>38</th>\n",
              "      <td>The Cotton Factory Times.</td>\n",
              "      <td>19868</td>\n",
              "    </tr>\n",
              "    <tr>\n",
              "      <th>72</th>\n",
              "      <td>Widnes Examiner.</td>\n",
              "      <td>14131</td>\n",
              "    </tr>\n",
              "    <tr>\n",
              "      <th>41</th>\n",
              "      <td>The Dorset County Express and Agricultural Gaz...</td>\n",
              "      <td>11888</td>\n",
              "    </tr>\n",
              "    <tr>\n",
              "      <th>8</th>\n",
              "      <td>Bridport, Beaminster, and Lyme Regis Telegram ...</td>\n",
              "      <td>11274</td>\n",
              "    </tr>\n",
              "    <tr>\n",
              "      <th>...</th>\n",
              "      <td>...</td>\n",
              "      <td>...</td>\n",
              "    </tr>\n",
              "    <tr>\n",
              "      <th>55</th>\n",
              "      <td>The Pontypridd District Herald and Rhondda Val...</td>\n",
              "      <td>110</td>\n",
              "    </tr>\n",
              "    <tr>\n",
              "      <th>40</th>\n",
              "      <td>The Dewsbury Chronicle, and West Riding Advert...</td>\n",
              "      <td>82</td>\n",
              "    </tr>\n",
              "    <tr>\n",
              "      <th>44</th>\n",
              "      <td>The Halifax Comet.</td>\n",
              "      <td>30</td>\n",
              "    </tr>\n",
              "    <tr>\n",
              "      <th>10</th>\n",
              "      <td>Brighouse Gazette and Local Railway Guide.</td>\n",
              "      <td>27</td>\n",
              "    </tr>\n",
              "    <tr>\n",
              "      <th>2</th>\n",
              "      <td>Barnsley Telephone.</td>\n",
              "      <td>2</td>\n",
              "    </tr>\n",
              "  </tbody>\n",
              "</table>\n",
              "<p>73 rows × 2 columns</p>\n",
              "</div>\n",
              "    <div class=\"colab-df-buttons\">\n",
              "\n",
              "  <div class=\"colab-df-container\">\n",
              "    <button class=\"colab-df-convert\" onclick=\"convertToInteractive('df-27fda091-9753-4f7a-ae7d-f6f2dc75e3c4')\"\n",
              "            title=\"Convert this dataframe to an interactive table.\"\n",
              "            style=\"display:none;\">\n",
              "\n",
              "  <svg xmlns=\"http://www.w3.org/2000/svg\" height=\"24px\" viewBox=\"0 -960 960 960\">\n",
              "    <path d=\"M120-120v-720h720v720H120Zm60-500h600v-160H180v160Zm220 220h160v-160H400v160Zm0 220h160v-160H400v160ZM180-400h160v-160H180v160Zm440 0h160v-160H620v160ZM180-180h160v-160H180v160Zm440 0h160v-160H620v160Z\"/>\n",
              "  </svg>\n",
              "    </button>\n",
              "\n",
              "  <style>\n",
              "    .colab-df-container {\n",
              "      display:flex;\n",
              "      gap: 12px;\n",
              "    }\n",
              "\n",
              "    .colab-df-convert {\n",
              "      background-color: #E8F0FE;\n",
              "      border: none;\n",
              "      border-radius: 50%;\n",
              "      cursor: pointer;\n",
              "      display: none;\n",
              "      fill: #1967D2;\n",
              "      height: 32px;\n",
              "      padding: 0 0 0 0;\n",
              "      width: 32px;\n",
              "    }\n",
              "\n",
              "    .colab-df-convert:hover {\n",
              "      background-color: #E2EBFA;\n",
              "      box-shadow: 0px 1px 2px rgba(60, 64, 67, 0.3), 0px 1px 3px 1px rgba(60, 64, 67, 0.15);\n",
              "      fill: #174EA6;\n",
              "    }\n",
              "\n",
              "    .colab-df-buttons div {\n",
              "      margin-bottom: 4px;\n",
              "    }\n",
              "\n",
              "    [theme=dark] .colab-df-convert {\n",
              "      background-color: #3B4455;\n",
              "      fill: #D2E3FC;\n",
              "    }\n",
              "\n",
              "    [theme=dark] .colab-df-convert:hover {\n",
              "      background-color: #434B5C;\n",
              "      box-shadow: 0px 1px 3px 1px rgba(0, 0, 0, 0.15);\n",
              "      filter: drop-shadow(0px 1px 2px rgba(0, 0, 0, 0.3));\n",
              "      fill: #FFFFFF;\n",
              "    }\n",
              "  </style>\n",
              "\n",
              "    <script>\n",
              "      const buttonEl =\n",
              "        document.querySelector('#df-27fda091-9753-4f7a-ae7d-f6f2dc75e3c4 button.colab-df-convert');\n",
              "      buttonEl.style.display =\n",
              "        google.colab.kernel.accessAllowed ? 'block' : 'none';\n",
              "\n",
              "      async function convertToInteractive(key) {\n",
              "        const element = document.querySelector('#df-27fda091-9753-4f7a-ae7d-f6f2dc75e3c4');\n",
              "        const dataTable =\n",
              "          await google.colab.kernel.invokeFunction('convertToInteractive',\n",
              "                                                    [key], {});\n",
              "        if (!dataTable) return;\n",
              "\n",
              "        const docLinkHtml = 'Like what you see? Visit the ' +\n",
              "          '<a target=\"_blank\" href=https://colab.research.google.com/notebooks/data_table.ipynb>data table notebook</a>'\n",
              "          + ' to learn more about interactive tables.';\n",
              "        element.innerHTML = '';\n",
              "        dataTable['output_type'] = 'display_data';\n",
              "        await google.colab.output.renderOutput(dataTable, element);\n",
              "        const docLink = document.createElement('div');\n",
              "        docLink.innerHTML = docLinkHtml;\n",
              "        element.appendChild(docLink);\n",
              "      }\n",
              "    </script>\n",
              "  </div>\n",
              "\n",
              "\n",
              "<div id=\"df-bf2a2774-2b48-437b-8e95-8c2899a2afee\">\n",
              "  <button class=\"colab-df-quickchart\" onclick=\"quickchart('df-bf2a2774-2b48-437b-8e95-8c2899a2afee')\"\n",
              "            title=\"Suggest charts\"\n",
              "            style=\"display:none;\">\n",
              "\n",
              "<svg xmlns=\"http://www.w3.org/2000/svg\" height=\"24px\"viewBox=\"0 0 24 24\"\n",
              "     width=\"24px\">\n",
              "    <g>\n",
              "        <path d=\"M19 3H5c-1.1 0-2 .9-2 2v14c0 1.1.9 2 2 2h14c1.1 0 2-.9 2-2V5c0-1.1-.9-2-2-2zM9 17H7v-7h2v7zm4 0h-2V7h2v10zm4 0h-2v-4h2v4z\"/>\n",
              "    </g>\n",
              "</svg>\n",
              "  </button>\n",
              "\n",
              "<style>\n",
              "  .colab-df-quickchart {\n",
              "      --bg-color: #E8F0FE;\n",
              "      --fill-color: #1967D2;\n",
              "      --hover-bg-color: #E2EBFA;\n",
              "      --hover-fill-color: #174EA6;\n",
              "      --disabled-fill-color: #AAA;\n",
              "      --disabled-bg-color: #DDD;\n",
              "  }\n",
              "\n",
              "  [theme=dark] .colab-df-quickchart {\n",
              "      --bg-color: #3B4455;\n",
              "      --fill-color: #D2E3FC;\n",
              "      --hover-bg-color: #434B5C;\n",
              "      --hover-fill-color: #FFFFFF;\n",
              "      --disabled-bg-color: #3B4455;\n",
              "      --disabled-fill-color: #666;\n",
              "  }\n",
              "\n",
              "  .colab-df-quickchart {\n",
              "    background-color: var(--bg-color);\n",
              "    border: none;\n",
              "    border-radius: 50%;\n",
              "    cursor: pointer;\n",
              "    display: none;\n",
              "    fill: var(--fill-color);\n",
              "    height: 32px;\n",
              "    padding: 0;\n",
              "    width: 32px;\n",
              "  }\n",
              "\n",
              "  .colab-df-quickchart:hover {\n",
              "    background-color: var(--hover-bg-color);\n",
              "    box-shadow: 0 1px 2px rgba(60, 64, 67, 0.3), 0 1px 3px 1px rgba(60, 64, 67, 0.15);\n",
              "    fill: var(--button-hover-fill-color);\n",
              "  }\n",
              "\n",
              "  .colab-df-quickchart-complete:disabled,\n",
              "  .colab-df-quickchart-complete:disabled:hover {\n",
              "    background-color: var(--disabled-bg-color);\n",
              "    fill: var(--disabled-fill-color);\n",
              "    box-shadow: none;\n",
              "  }\n",
              "\n",
              "  .colab-df-spinner {\n",
              "    border: 2px solid var(--fill-color);\n",
              "    border-color: transparent;\n",
              "    border-bottom-color: var(--fill-color);\n",
              "    animation:\n",
              "      spin 1s steps(1) infinite;\n",
              "  }\n",
              "\n",
              "  @keyframes spin {\n",
              "    0% {\n",
              "      border-color: transparent;\n",
              "      border-bottom-color: var(--fill-color);\n",
              "      border-left-color: var(--fill-color);\n",
              "    }\n",
              "    20% {\n",
              "      border-color: transparent;\n",
              "      border-left-color: var(--fill-color);\n",
              "      border-top-color: var(--fill-color);\n",
              "    }\n",
              "    30% {\n",
              "      border-color: transparent;\n",
              "      border-left-color: var(--fill-color);\n",
              "      border-top-color: var(--fill-color);\n",
              "      border-right-color: var(--fill-color);\n",
              "    }\n",
              "    40% {\n",
              "      border-color: transparent;\n",
              "      border-right-color: var(--fill-color);\n",
              "      border-top-color: var(--fill-color);\n",
              "    }\n",
              "    60% {\n",
              "      border-color: transparent;\n",
              "      border-right-color: var(--fill-color);\n",
              "    }\n",
              "    80% {\n",
              "      border-color: transparent;\n",
              "      border-right-color: var(--fill-color);\n",
              "      border-bottom-color: var(--fill-color);\n",
              "    }\n",
              "    90% {\n",
              "      border-color: transparent;\n",
              "      border-bottom-color: var(--fill-color);\n",
              "    }\n",
              "  }\n",
              "</style>\n",
              "\n",
              "  <script>\n",
              "    async function quickchart(key) {\n",
              "      const quickchartButtonEl =\n",
              "        document.querySelector('#' + key + ' button');\n",
              "      quickchartButtonEl.disabled = true;  // To prevent multiple clicks.\n",
              "      quickchartButtonEl.classList.add('colab-df-spinner');\n",
              "      try {\n",
              "        const charts = await google.colab.kernel.invokeFunction(\n",
              "            'suggestCharts', [key], {});\n",
              "      } catch (error) {\n",
              "        console.error('Error during call to suggestCharts:', error);\n",
              "      }\n",
              "      quickchartButtonEl.classList.remove('colab-df-spinner');\n",
              "      quickchartButtonEl.classList.add('colab-df-quickchart-complete');\n",
              "    }\n",
              "    (() => {\n",
              "      let quickchartButtonEl =\n",
              "        document.querySelector('#df-bf2a2774-2b48-437b-8e95-8c2899a2afee button');\n",
              "      quickchartButtonEl.style.display =\n",
              "        google.colab.kernel.accessAllowed ? 'block' : 'none';\n",
              "    })();\n",
              "  </script>\n",
              "</div>\n",
              "\n",
              "    </div>\n",
              "  </div>\n"
            ],
            "application/vnd.google.colaboratory.intrinsic+json": {
              "type": "dataframe",
              "summary": "{\n  \"name\": \"df\",\n  \"rows\": 73,\n  \"fields\": [\n    {\n      \"column\": \"newspaper_title\",\n      \"properties\": {\n        \"dtype\": \"string\",\n        \"num_unique_values\": 73,\n        \"samples\": [\n          \"Bridport, Beaminster, and Lyme Regis Telegram and Dorset, Somerset, and Devon Advertiser.\",\n          \"Beverley and East Riding Telegraph.\",\n          \"The Kenilworth Advertiser.\"\n        ],\n        \"semantic_type\": \"\",\n        \"description\": \"\"\n      }\n    },\n    {\n      \"column\": \"total_words\",\n      \"properties\": {\n        \"dtype\": \"number\",\n        \"std\": 5159,\n        \"min\": 2,\n        \"max\": 31818,\n        \"num_unique_values\": 72,\n        \"samples\": [\n          11274,\n          274,\n          5729\n        ],\n        \"semantic_type\": \"\",\n        \"description\": \"\"\n      }\n    }\n  ]\n}"
            }
          },
          "metadata": {},
          "execution_count": 18
        }
      ],
      "source": [
        "df.groupby(['newspaper_title']).agg(total_words=('word_count', 'sum')).reset_index().sort_values(by='total_words',ascending=False)"
      ]
    },
    {
      "cell_type": "markdown",
      "metadata": {
        "id": "_02qyQQBJ5Nn"
      },
      "source": [
        "⏭️ We can use the `year` to check the **temporal coverage** of the sample and visualize how many tokens each year has, regardless of title (let's use the full sample here):"
      ]
    },
    {
      "cell_type": "code",
      "source": [
        "import matplotlib.pyplot as plt\n",
        "\n",
        "# group by year and sum the word_count\n",
        "word_count_by_year = df.groupby('year')['word_count'].sum()\n",
        "\n",
        "# plot the summed word count over the years\n",
        "plt.figure(figsize=(10, 6))\n",
        "word_count_by_year.sort_index().plot(kind='bar')\n",
        "plt.title('Total Word Count per Year')\n",
        "plt.xlabel('Year')\n",
        "plt.ylabel('Total Word Count')\n",
        "plt.show()\n",
        "\n"
      ],
      "metadata": {
        "colab": {
          "base_uri": "https://localhost:8080/",
          "height": 586
        },
        "id": "sBlno-anMDOV",
        "outputId": "5c89b9d4-a366-4241-cd5b-6ab312c92100"
      },
      "execution_count": null,
      "outputs": [
        {
          "output_type": "display_data",
          "data": {
            "text/plain": [
              "<Figure size 1000x600 with 1 Axes>"
            ],
            "image/png": "[encoded data removed]"
          },
          "metadata": {}
        }
      ]
    },
    {
      "cell_type": "markdown",
      "source": [
        "We can also check how many items we have per year. *Items* are supposed to be coherent units, ideally articles, from a newspaper page (or possibly across pages, if long). We can then cross the counts of items per year with the counts of words per year."
      ],
      "metadata": {
        "id": "13kDW5drMg9a"
      }
    },
    {
      "cell_type": "code",
      "execution_count": null,
      "metadata": {
        "colab": {
          "base_uri": "https://localhost:8080/",
          "height": 586
        },
        "id": "QG5b79TrJ5No",
        "outputId": "35bcb383-0554-48dc-aaab-37de76fa12fa"
      },
      "outputs": [
        {
          "output_type": "display_data",
          "data": {
            "text/plain": [
              "<Figure size 1000x600 with 1 Axes>"
            ],
            "image/png": "[encoded data removed]"
          },
          "metadata": {}
        }
      ],
      "source": [
        "import matplotlib.pyplot as plt\n",
        "\n",
        "# plot distribution of items over the years\n",
        "plt.figure(figsize=(10, 6))\n",
        "df['year'].value_counts().sort_index().plot(kind='bar')\n",
        "plt.title('Distribution of items over the years')\n",
        "plt.xlabel('Year')\n",
        "plt.ylabel('Number of items')\n",
        "plt.show()\n"
      ]
    },
    {
      "cell_type": "markdown",
      "metadata": {
        "id": "Wnhs_q38J5No"
      },
      "source": [
        "We can not only check the first and last date covered by the data, but also get an intuitive first idea of the (im)balance in how many items, versus how many words, we have per period (year in this case).Counting the number of items per year is a _very_ rough approximation of the amount of content per year. This is because:\n",
        "1) segmentation of newspaper pages into items is far from perfect (as we'll see)\n",
        "2) even when segmentation _did_ lead to individual articles, articles can vary greatly in length."
      ]
    },
    {
      "cell_type": "markdown",
      "metadata": {
        "id": "fiWKBpcIJ5No"
      },
      "source": [
        "**🍜 Food for thought 🧠**\n",
        "> ❓ **Q**: What are some of the issues that missegmentation may cause to research using digitized newspaper texts as data source?\n",
        "\n",
        "> ❓ **Q**: Are there research scenarios in which missegmentation of newspaper pages is not a blocker?\n",
        "\n",
        "> ❓ **Q**: What workarounds can we try out to overcome some of the blockers?"
      ]
    },
    {
      "cell_type": "markdown",
      "metadata": {
        "id": "pnIh6DdmJ5No"
      },
      "source": [
        "> ✏️ **Exercise (optional)**\n",
        ">\n",
        "> Which places of publications are the most frequent in our sample for articles published in the 1850s, 1860s, and 1870s? Generate a plot."
      ]
    },
    {
      "cell_type": "markdown",
      "metadata": {
        "id": "qpVbi4vhJ5No"
      },
      "source": [
        "## A closer look at item lengths and segmentation problems"
      ]
    },
    {
      "cell_type": "markdown",
      "metadata": {
        "id": "t5wdVj0gJ5No"
      },
      "source": [
        "Segmentation into 'items'/'articles' was done automatically, so the we'll often find more than one article counted as one (i.e. one row in our dataframe), or, less frequently, only a portion of one article (i.e. article was cut short). Article length (i.e. number of words) can give us an idea of what's the distribution of wrongly segmented articles."
      ]
    },
    {
      "cell_type": "markdown",
      "metadata": {
        "id": "lOEiQOhPJ5No"
      },
      "source": [
        "Let's print some high-level stats about this:"
      ]
    },
    {
      "cell_type": "code",
      "execution_count": null,
      "metadata": {
        "colab": {
          "base_uri": "https://localhost:8080/",
          "height": 334
        },
        "id": "hxXVQU_9J5No",
        "outputId": "bd7d0b0d-7bc8-45ad-bd86-3fa3d1d44b18"
      },
      "outputs": [
        {
          "output_type": "execute_result",
          "data": {
            "text/plain": [
              "count     500.000000\n",
              "mean      522.226000\n",
              "std       864.991605\n",
              "min         1.000000\n",
              "25%        68.000000\n",
              "50%       213.500000\n",
              "75%       510.000000\n",
              "max      6055.000000\n",
              "Name: word_count, dtype: float64"
            ],
            "text/html": [
              "<div>\n",
              "<style scoped>\n",
              "    .dataframe tbody tr th:only-of-type {\n",
              "        vertical-align: middle;\n",
              "    }\n",
              "\n",
              "    .dataframe tbody tr th {\n",
              "        vertical-align: top;\n",
              "    }\n",
              "\n",
              "    .dataframe thead th {\n",
              "        text-align: right;\n",
              "    }\n",
              "</style>\n",
              "<table border=\"1\" class=\"dataframe\">\n",
              "  <thead>\n",
              "    <tr style=\"text-align: right;\">\n",
              "      <th></th>\n",
              "      <th>word_count</th>\n",
              "    </tr>\n",
              "  </thead>\n",
              "  <tbody>\n",
              "    <tr>\n",
              "      <th>count</th>\n",
              "      <td>500.000000</td>\n",
              "    </tr>\n",
              "    <tr>\n",
              "      <th>mean</th>\n",
              "      <td>522.226000</td>\n",
              "    </tr>\n",
              "    <tr>\n",
              "      <th>std</th>\n",
              "      <td>864.991605</td>\n",
              "    </tr>\n",
              "    <tr>\n",
              "      <th>min</th>\n",
              "      <td>1.000000</td>\n",
              "    </tr>\n",
              "    <tr>\n",
              "      <th>25%</th>\n",
              "      <td>68.000000</td>\n",
              "    </tr>\n",
              "    <tr>\n",
              "      <th>50%</th>\n",
              "      <td>213.500000</td>\n",
              "    </tr>\n",
              "    <tr>\n",
              "      <th>75%</th>\n",
              "      <td>510.000000</td>\n",
              "    </tr>\n",
              "    <tr>\n",
              "      <th>max</th>\n",
              "      <td>6055.000000</td>\n",
              "    </tr>\n",
              "  </tbody>\n",
              "</table>\n",
              "</div><br><label><b>dtype:</b> float64</label>"
            ]
          },
          "metadata": {},
          "execution_count": 21
        }
      ],
      "source": [
        "df['word_count'].describe()"
      ]
    },
    {
      "cell_type": "markdown",
      "metadata": {
        "id": "s_SDXYZzJ5No"
      },
      "source": [
        "And visualize it:"
      ]
    },
    {
      "cell_type": "code",
      "execution_count": null,
      "metadata": {
        "colab": {
          "base_uri": "https://localhost:8080/",
          "height": 585
        },
        "id": "It0-0EXqJ5No",
        "outputId": "521b5656-5b29-4ea2-bf1b-5a4495b7df12"
      },
      "outputs": [
        {
          "output_type": "display_data",
          "data": {
            "text/plain": [
              "<Figure size 1000x600 with 1 Axes>"
            ],
            "image/png": "[encoded data removed]"
          },
          "metadata": {}
        }
      ],
      "source": [
        "import matplotlib.pyplot as plt\n",
        "import seaborn as sns\n",
        "\n",
        "# Set max_count for consistent x-ticks\n",
        "max_count = df['word_count'].max()\n",
        "\n",
        "# Histogram\n",
        "plt.figure(figsize=(10, 6))\n",
        "sns.histplot(df['word_count'], bins=100, kde=True)\n",
        "plt.title('Distribution of word counts')\n",
        "plt.xlabel('Word count')\n",
        "plt.ylabel('Frequency')\n",
        "plt.xticks(range(0, max_count, 100), rotation=90)\n",
        "plt.show()\n"
      ]
    },
    {
      "cell_type": "markdown",
      "metadata": {
        "id": "PNZTEc00J5No"
      },
      "source": [
        "As was already clear from the second quartile (50%), or median, from the previous stats, at least half of the items have around 200 words or less. Obviously, an 'item' with 1 word will not repesent an article. Likewise, though, a 6000-word item will also very unlikely represent an article."
      ]
    },
    {
      "cell_type": "markdown",
      "metadata": {
        "id": "pddRqYPvJ5No"
      },
      "source": [
        "### Page missegmentation and identifying articles headlines"
      ]
    },
    {
      "cell_type": "markdown",
      "metadata": {
        "id": "whQzfcJpJ5No"
      },
      "source": [
        "One of the main issues in working with digitized historical newspaper is page segmentation. More often than not you'll need to work at the 'article' level, but singling out articles can be challenging. Let's look at longer items, to see what they actually contain.\n",
        "\n",
        "First, create a subset with only items with > 500 words (totally arbitrary number, but more likely to capture items containing several articles)."
      ]
    },
    {
      "cell_type": "code",
      "execution_count": null,
      "metadata": {
        "id": "_09boM8nJ5No"
      },
      "outputs": [],
      "source": [
        "long_articles_df = df[df['word_count'] > 500].reset_index(drop='index')"
      ]
    },
    {
      "cell_type": "markdown",
      "metadata": {
        "id": "opdvQ5rqJ5No"
      },
      "source": [
        "Have a look at some random 'articles' from our sample. The following specific item, for instance, has at least 3 articles in it (change the number in square brackets to see different ones):"
      ]
    },
    {
      "cell_type": "code",
      "execution_count": null,
      "metadata": {
        "colab": {
          "base_uri": "https://localhost:8080/",
          "height": 487
        },
        "id": "1a51_U90J5No",
        "outputId": "86b2eea9-4a8e-4b2e-da3c-7be10de7f3da"
      },
      "outputs": [
        {
          "output_type": "execute_result",
          "data": {
            "text/plain": [
              "'ALLEGED FORGERY .ON THE BANK  OF ENGLAND.  Arthur Reynolds Schirges a clerk, has been Cammitted for trial from the London Mansion House on a charge of forging a cheque for £2OO with intent to defraud the Bank of England. Prisoner presented at the Bank of England a cheque for £2OO, purporting to he signed by Messrs. H. Clarkson and Co., shipbrokers, Billiter-street, who keep an account there. It was discovered on inquiry that the che.que had been issued, not to Messrs. Clarkson, but to °the/ customers of the bank, Messrs. Chorley and Crawford.  THE CABINET AND THE LIBERAL UNIONISTS. Since the last Cabinet Council there has been, the Press Association says, much activity among the members of the Literal Unionists\\' Associa ion in London, and the views of the leaders, and especially of Lord Hartingtom have been ascertsim d by the Priem Minister and other members of the Cabinet. Inter-views have taken place between Lord Salisbury and Lord Ilartington and between Sir Michael Hicks-Beach and Lord Hartington at Devonshire House, at which it is understood an exchange of views took place on the subject of the questions now prominent in the political world, including that of the future government of Ireland. For the first time since the recess the Liberal Unionist leaders have conferred together. Sir Henry James had an interview with Lord Hartington at Devonshire House, after which his lordship proceeded to Spring-gardens, where a meeting of the Executive Committee of the Association was held under his lordship\\'s presidency, at which, among others, Sir Henry Jaime, Mr. A. Craig-Sellm, Mr. Hoblicuse, and Sir Rowland.Blennerhassett were preSent. Lord Hartington has abandoned his projected visit to India in order to devote himself to the interests of the Unionists, but it is expected that his lordship may pay a brief visit to the Continent.  SUPPOSED DOUBLE MURDER. \\'The inquest on two women (Sarah Mellor, aged 56, and her sister.in-law, Betty Kent, aged 56), who were found murdered at their residence, at Lytham, has been held. A man named Jas. Mellor is in charge of the police. Evidence was given to the effect that • Mellor met a policeman and asked him to accompany him to his hone°, stating that two women had hurt themrelvera On going to the house, the constable found Mellor\\'e wife lying dead on the sofa, with her head fearfully battered. Her sister.inlaw was lying dead in the back garden, her head having been frightfully injured. A blacksmith\\'s hammer, stained with blood, was found in the garden. On being charged with the murders Mellor said \"I am very sorry for what I have done. I hope you will forgive me.\" The jury returned a verdict of wilful murder against Mellor.  111.noe HANNINGTON\\'S LAST DATA.—The diary of the martyred Wahl, has been received by the Church Missionary Society. It is painfully interesting reading, sad ha a evidently been written up to the very day of his murder. We tears ills written in one 0. Lett\\'s monthly pocket diaries, and that the entries hare been made with great care, and with such regard for . economy of space that in some instances a niagn(fying glass is required for their decipherment. This memorial IS in course of transcription, and will appear in full in the\\'eliareh Missionary Society Intelliyeneer. • \\'lie connection with the vacancy in the represent.. ben of Brighton, caused by the death of Mr. Smith, M.P., the name of Dr. Tindal Roberteon, chairman of the Conservative ASSOCititiOIL is mentioned as a probable candidate. M. Eowis Honours\\' life of the late Earl of Shaftesbury is now being published by Messrs. Cassell and Co. in three volumes. '"
            ],
            "application/vnd.google.colaboratory.intrinsic+json": {
              "type": "string"
            }
          },
          "metadata": {},
          "execution_count": 6
        }
      ],
      "source": [
        "long_articles_df['text'][15]"
      ]
    },
    {
      "cell_type": "markdown",
      "metadata": {
        "id": "Ls3iNIYCJ5Np"
      },
      "source": [
        "Some long items are genuinely long articles, but several are multiple articles together. We can try and marginally improve segmentation and see what problems may arise. We'll try the _very_ crude approach of splitting text where there are longer (>=3 words, though this is completely arbitrary) substrings in all-caps (signalling, most often, a new headline). We'll use `re`gular expressions to do this.\n",
        "\n",
        "There are several tools that can help you formulate the right regex for capturing what you need. [regex101.com](https://regex101.com/) is one of them, but you can now ask ChatGPT for help too."
      ]
    },
    {
      "cell_type": "markdown",
      "metadata": {
        "id": "o-1nQKf8J5Np"
      },
      "source": [
        "Import the `re` package which allows you to search for a string matching a specific pattern via regular expressions."
      ]
    },
    {
      "cell_type": "code",
      "execution_count": null,
      "metadata": {
        "id": "0aHr3StCJ5Np"
      },
      "outputs": [],
      "source": [
        "import re"
      ]
    },
    {
      "cell_type": "markdown",
      "metadata": {
        "id": "BmQ1MwPPJ5Np"
      },
      "source": [
        "If we look closely at some items, we immediately see that more often than not articles are introduced by a headline in all-caps, ending in a full stop:"
      ]
    },
    {
      "cell_type": "code",
      "execution_count": null,
      "metadata": {
        "colab": {
          "base_uri": "https://localhost:8080/",
          "height": 554
        },
        "id": "thixnfxLJ5Np",
        "outputId": "79370751-86be-442f-e78e-072057860006"
      },
      "outputs": [
        {
          "output_type": "execute_result",
          "data": {
            "text/plain": [
              "0     THE TICHBORNE CASE.  On Tuesday, before the So...\n",
              "1     THE CLERGY AND TRADE UNIONS.  LETTER FROM REV....\n",
              "2     INDUSTRIAL REVIEW  OUR LEGISLATORS.  THE unrul...\n",
              "3     WOOLISTON.  As UNDISTAICLIC IN DIYVICULTY.—A s...\n",
              "4     THE FINE ART CO-OPERATIVE SUPPLY  ASSOCIATION,...\n",
              "5     Black and white, brown and slate, Jackson's Ha...\n",
              "6     Whiffles.  CHAPTER lll.—(Continued.) A high co...\n",
              "7     The Present Pope. FROM \" MA.P.\"  This is one o...\n",
              "8     CONSUM?TIVE CHILDREN.  SIX MILLION IN OUR COUN...\n",
              "9     SO CALM I  \"Is this Mrs. O'Cleary 7\" asked his...\n",
              "10    LEES.  ACCIDENT TO A PIECED AT SPRINOREAD. An ...\n",
              "11    GENER.A.L NEWS.  About 500 men employed at the...\n",
              "12    ROYTON.  Dissatisfaction. The cardroom tenters...\n",
              "13    SOME PHASES OF THE AMERICAN INDUSTRY.  A great...\n",
              "14      If , 1 f 1 I I I i i 1 . I # 1 i ii ,I ~. 1 SI \n",
              "Name: text, dtype: object"
            ],
            "text/html": [
              "<div>\n",
              "<style scoped>\n",
              "    .dataframe tbody tr th:only-of-type {\n",
              "        vertical-align: middle;\n",
              "    }\n",
              "\n",
              "    .dataframe tbody tr th {\n",
              "        vertical-align: top;\n",
              "    }\n",
              "\n",
              "    .dataframe thead th {\n",
              "        text-align: right;\n",
              "    }\n",
              "</style>\n",
              "<table border=\"1\" class=\"dataframe\">\n",
              "  <thead>\n",
              "    <tr style=\"text-align: right;\">\n",
              "      <th></th>\n",
              "      <th>text</th>\n",
              "    </tr>\n",
              "  </thead>\n",
              "  <tbody>\n",
              "    <tr>\n",
              "      <th>0</th>\n",
              "      <td>THE TICHBORNE CASE.  On Tuesday, before the So...</td>\n",
              "    </tr>\n",
              "    <tr>\n",
              "      <th>1</th>\n",
              "      <td>THE CLERGY AND TRADE UNIONS.  LETTER FROM REV....</td>\n",
              "    </tr>\n",
              "    <tr>\n",
              "      <th>2</th>\n",
              "      <td>INDUSTRIAL REVIEW  OUR LEGISLATORS.  THE unrul...</td>\n",
              "    </tr>\n",
              "    <tr>\n",
              "      <th>3</th>\n",
              "      <td>WOOLISTON.  As UNDISTAICLIC IN DIYVICULTY.—A s...</td>\n",
              "    </tr>\n",
              "    <tr>\n",
              "      <th>4</th>\n",
              "      <td>THE FINE ART CO-OPERATIVE SUPPLY  ASSOCIATION,...</td>\n",
              "    </tr>\n",
              "    <tr>\n",
              "      <th>5</th>\n",
              "      <td>Black and white, brown and slate, Jackson's Ha...</td>\n",
              "    </tr>\n",
              "    <tr>\n",
              "      <th>6</th>\n",
              "      <td>Whiffles.  CHAPTER lll.—(Continued.) A high co...</td>\n",
              "    </tr>\n",
              "    <tr>\n",
              "      <th>7</th>\n",
              "      <td>The Present Pope. FROM \" MA.P.\"  This is one o...</td>\n",
              "    </tr>\n",
              "    <tr>\n",
              "      <th>8</th>\n",
              "      <td>CONSUM?TIVE CHILDREN.  SIX MILLION IN OUR COUN...</td>\n",
              "    </tr>\n",
              "    <tr>\n",
              "      <th>9</th>\n",
              "      <td>SO CALM I  \"Is this Mrs. O'Cleary 7\" asked his...</td>\n",
              "    </tr>\n",
              "    <tr>\n",
              "      <th>10</th>\n",
              "      <td>LEES.  ACCIDENT TO A PIECED AT SPRINOREAD. An ...</td>\n",
              "    </tr>\n",
              "    <tr>\n",
              "      <th>11</th>\n",
              "      <td>GENER.A.L NEWS.  About 500 men employed at the...</td>\n",
              "    </tr>\n",
              "    <tr>\n",
              "      <th>12</th>\n",
              "      <td>ROYTON.  Dissatisfaction. The cardroom tenters...</td>\n",
              "    </tr>\n",
              "    <tr>\n",
              "      <th>13</th>\n",
              "      <td>SOME PHASES OF THE AMERICAN INDUSTRY.  A great...</td>\n",
              "    </tr>\n",
              "    <tr>\n",
              "      <th>14</th>\n",
              "      <td>If , 1 f 1 I I I i i 1 . I # 1 i ii ,I ~. 1 SI</td>\n",
              "    </tr>\n",
              "  </tbody>\n",
              "</table>\n",
              "</div><br><label><b>dtype:</b> object</label>"
            ]
          },
          "metadata": {},
          "execution_count": 8
        }
      ],
      "source": [
        "df['text'].head(15)"
      ]
    },
    {
      "cell_type": "markdown",
      "metadata": {
        "id": "DtUqqFfmJ5Np"
      },
      "source": [
        "We can try leveraging all-caps + full stop strings to identify potential headlines and, later, use the identified headlines to split items into its articles, if needed.\n",
        "\n",
        "More specifically, however, we want to capture sequences of uppercase letters that are possibly mixed with non-word characters (i.e. some punctuation marks and whitespace) and numeric characters."
      ]
    },
    {
      "cell_type": "code",
      "execution_count": null,
      "metadata": {
        "id": "ssYBUFa0J5Np"
      },
      "outputs": [],
      "source": [
        "def extract_full_caps_sequences(text):\n",
        "    # Regular expression to find sequences of full caps words (more than one word in a row)\n",
        "    full_caps_sequences = re.findall(r'\\b[A-Z]{3,}(?:[\\W]*[A-Z0-9])*\\b\\.', text)\n",
        "    return full_caps_sequences"
      ]
    },
    {
      "cell_type": "markdown",
      "metadata": {
        "id": "ihPJJ3klJ5Np"
      },
      "source": [
        "Let's breakdown the regex above:\n",
        "\n",
        "- `\\b`: A word boundary anchor, to match strings at the beginning of a word (i.e. following a non-word character). This avoids to capture all-caps randomly appearing after lowercase letters (e.g. as a result of OCR errors).\n",
        "- `[A-Z]{3,}`: This matches a sequence of at least three uppercase letters (A-Z). {3,} specifies that the preceding character class [A-Z] must appear at least three times but can appear more times.\n",
        "- `(?:[\\W]*[A-Z0-9])*`: non-capturing group (indicated by ?: at the start). It matches the following pattern zero or more times (as indicated by the * quantifier). Non-capturing groups are simply ways of grouping parts of a regex without meaning to only capture it separately. While `[A-Z]{3,}` ensured the string contains at least a word in uppercase (with at least 3 characters), this groups adds that it can also contain punctuation, spaces, or numbers. We did not add numbers, spaces, and punctuation directly to the previous part of the regex because otherwise it would capture _any_ long number or random punctuation/space sequences (not just those part of an all-caps string). See following two points for what's inside this group.\n",
        "- `[\\W]*`: Matches zero or more non-word characters. Non-word characters (\\W) include anything that is not a letter, digit, or underscore (_).\n",
        "- `[A-Z0-9]`: Matches a single character that is an uppercase letter (A-Z) or a digit (0-9).\n",
        "- `\\b`: Another word boundary anchor, ensuring that the pattern ends at a word boundary.\n",
        "- `\\.`: Matches a literal dot (.) character. This character must appear immediately after the word boundary.\n",
        "\n",
        "NB: This particular regex was formulated after a bit of trial and error. This is why, for example, the '3 characters' rule may seem very specific, and so does the rest of the regex, but it's what appeared to work best based on running previous versions of a regex, and running and adjusting it several times until we were relatively satisfied with the segmentation.\n",
        "In a real-world scenario, we would complicate the regex a bit further, by adding, e.g. an additional option to allow single or two-character strings at the beginning of the matches. So keep in mind that the current regex will not capture \"I\" or \"AN\" or \"A\" at the beginning of headlines."
      ]
    },
    {
      "cell_type": "markdown",
      "metadata": {
        "id": "PgWJa9ByJ5Np"
      },
      "source": [
        "Let's apply the function to the text column and save the output as a separate object:"
      ]
    },
    {
      "cell_type": "code",
      "execution_count": null,
      "metadata": {
        "colab": {
          "base_uri": "https://localhost:8080/",
          "height": 458
        },
        "id": "il_pBU9WJ5Np",
        "outputId": "a9bca213-0df4-426a-837a-20bbd7792cf9"
      },
      "outputs": [
        {
          "output_type": "execute_result",
          "data": {
            "text/plain": [
              "0                                  [THE TICHBORNE CASE.]\n",
              "1      [THE CLERGY AND TRADE UNIONS.  LETTER FROM REV...\n",
              "2                  [INDUSTRIAL REVIEW  OUR LEGISLATORS.]\n",
              "3              [WOOLISTON., UNDISTAICLIC IN DIYVICULTY.]\n",
              "4      [THE FINE ART CO-OPERATIVE SUPPLY  ASSOCIATION...\n",
              "                             ...                        \n",
              "495                                                   []\n",
              "496                                                   []\n",
              "497                                                   []\n",
              "498                         [CABER., SILVER GOLD CASES.]\n",
              "499                                                   []\n",
              "Name: text, Length: 500, dtype: object"
            ],
            "text/html": [
              "<div>\n",
              "<style scoped>\n",
              "    .dataframe tbody tr th:only-of-type {\n",
              "        vertical-align: middle;\n",
              "    }\n",
              "\n",
              "    .dataframe tbody tr th {\n",
              "        vertical-align: top;\n",
              "    }\n",
              "\n",
              "    .dataframe thead th {\n",
              "        text-align: right;\n",
              "    }\n",
              "</style>\n",
              "<table border=\"1\" class=\"dataframe\">\n",
              "  <thead>\n",
              "    <tr style=\"text-align: right;\">\n",
              "      <th></th>\n",
              "      <th>text</th>\n",
              "    </tr>\n",
              "  </thead>\n",
              "  <tbody>\n",
              "    <tr>\n",
              "      <th>0</th>\n",
              "      <td>[THE TICHBORNE CASE.]</td>\n",
              "    </tr>\n",
              "    <tr>\n",
              "      <th>1</th>\n",
              "      <td>[THE CLERGY AND TRADE UNIONS.  LETTER FROM REV...</td>\n",
              "    </tr>\n",
              "    <tr>\n",
              "      <th>2</th>\n",
              "      <td>[INDUSTRIAL REVIEW  OUR LEGISLATORS.]</td>\n",
              "    </tr>\n",
              "    <tr>\n",
              "      <th>3</th>\n",
              "      <td>[WOOLISTON., UNDISTAICLIC IN DIYVICULTY.]</td>\n",
              "    </tr>\n",
              "    <tr>\n",
              "      <th>4</th>\n",
              "      <td>[THE FINE ART CO-OPERATIVE SUPPLY  ASSOCIATION...</td>\n",
              "    </tr>\n",
              "    <tr>\n",
              "      <th>...</th>\n",
              "      <td>...</td>\n",
              "    </tr>\n",
              "    <tr>\n",
              "      <th>495</th>\n",
              "      <td>[]</td>\n",
              "    </tr>\n",
              "    <tr>\n",
              "      <th>496</th>\n",
              "      <td>[]</td>\n",
              "    </tr>\n",
              "    <tr>\n",
              "      <th>497</th>\n",
              "      <td>[]</td>\n",
              "    </tr>\n",
              "    <tr>\n",
              "      <th>498</th>\n",
              "      <td>[CABER., SILVER GOLD CASES.]</td>\n",
              "    </tr>\n",
              "    <tr>\n",
              "      <th>499</th>\n",
              "      <td>[]</td>\n",
              "    </tr>\n",
              "  </tbody>\n",
              "</table>\n",
              "<p>500 rows × 1 columns</p>\n",
              "</div><br><label><b>dtype:</b> object</label>"
            ]
          },
          "metadata": {},
          "execution_count": 28
        }
      ],
      "source": [
        "df['text'] = df['text'].astype(str)\n",
        "rough_headlines = df['text'].apply(extract_full_caps_sequences)\n",
        "rough_headlines"
      ]
    },
    {
      "cell_type": "markdown",
      "metadata": {
        "id": "99nwTvMnJ5Np"
      },
      "source": [
        "You can immediately see that this cannot but be an extremely crude approach to finding headlines, as the empty lists show. However, over a very large collection, they may still be somewhat useful for data exploration."
      ]
    },
    {
      "cell_type": "markdown",
      "metadata": {
        "id": "v8R2sKAuJ5Np"
      },
      "source": [
        "Let's check how many 'articles' might contain more than one article. We do this by 'exploding', i.e. expanding, several matched items in a single row into separate rows."
      ]
    },
    {
      "cell_type": "code",
      "execution_count": null,
      "metadata": {
        "colab": {
          "base_uri": "https://localhost:8080/",
          "height": 458
        },
        "id": "HAATB635J5Np",
        "outputId": "f1471b22-0552-4250-d924-a90e3a82f8f8"
      },
      "outputs": [
        {
          "output_type": "execute_result",
          "data": {
            "text/plain": [
              "0                                      THE TICHBORNE CASE\n",
              "1       THE CLERGY AND TRADE UNIONS  LETTER FROM REV J...\n",
              "2                                          PRICE TWOPENCE\n",
              "3                          THE LABOUR AND 0111 ER MAPRETS\n",
              "4                      INDUSTRIAL REVIEW  OUR LEGISLATORS\n",
              "                              ...                        \n",
              "1730                                       OFICI S WWI MM\n",
              "1731                                        LIEII ANDIEWS\n",
              "1732                                            POIBTLAXD\n",
              "1737                                                CABER\n",
              "1738                                    SILVER GOLD CASES\n",
              "Name: text, Length: 1616, dtype: object"
            ],
            "text/html": [
              "<div>\n",
              "<style scoped>\n",
              "    .dataframe tbody tr th:only-of-type {\n",
              "        vertical-align: middle;\n",
              "    }\n",
              "\n",
              "    .dataframe tbody tr th {\n",
              "        vertical-align: top;\n",
              "    }\n",
              "\n",
              "    .dataframe thead th {\n",
              "        text-align: right;\n",
              "    }\n",
              "</style>\n",
              "<table border=\"1\" class=\"dataframe\">\n",
              "  <thead>\n",
              "    <tr style=\"text-align: right;\">\n",
              "      <th></th>\n",
              "      <th>text</th>\n",
              "    </tr>\n",
              "  </thead>\n",
              "  <tbody>\n",
              "    <tr>\n",
              "      <th>0</th>\n",
              "      <td>THE TICHBORNE CASE</td>\n",
              "    </tr>\n",
              "    <tr>\n",
              "      <th>1</th>\n",
              "      <td>THE CLERGY AND TRADE UNIONS  LETTER FROM REV J...</td>\n",
              "    </tr>\n",
              "    <tr>\n",
              "      <th>2</th>\n",
              "      <td>PRICE TWOPENCE</td>\n",
              "    </tr>\n",
              "    <tr>\n",
              "      <th>3</th>\n",
              "      <td>THE LABOUR AND 0111 ER MAPRETS</td>\n",
              "    </tr>\n",
              "    <tr>\n",
              "      <th>4</th>\n",
              "      <td>INDUSTRIAL REVIEW  OUR LEGISLATORS</td>\n",
              "    </tr>\n",
              "    <tr>\n",
              "      <th>...</th>\n",
              "      <td>...</td>\n",
              "    </tr>\n",
              "    <tr>\n",
              "      <th>1730</th>\n",
              "      <td>OFICI S WWI MM</td>\n",
              "    </tr>\n",
              "    <tr>\n",
              "      <th>1731</th>\n",
              "      <td>LIEII ANDIEWS</td>\n",
              "    </tr>\n",
              "    <tr>\n",
              "      <th>1732</th>\n",
              "      <td>POIBTLAXD</td>\n",
              "    </tr>\n",
              "    <tr>\n",
              "      <th>1737</th>\n",
              "      <td>CABER</td>\n",
              "    </tr>\n",
              "    <tr>\n",
              "      <th>1738</th>\n",
              "      <td>SILVER GOLD CASES</td>\n",
              "    </tr>\n",
              "  </tbody>\n",
              "</table>\n",
              "<p>1616 rows × 1 columns</p>\n",
              "</div><br><label><b>dtype:</b> object</label>"
            ]
          },
          "metadata": {},
          "execution_count": 29
        }
      ],
      "source": [
        "# Explode the articles into separate rows\n",
        "rough_headlines = rough_headlines.explode('text').reset_index(drop=True).dropna()\n",
        "rough_headlines = rough_headlines.str.replace(r'[^0-9A-Z ]+', '', regex=True).str.strip()\n",
        "rough_headlines"
      ]
    },
    {
      "cell_type": "markdown",
      "metadata": {
        "id": "0xenDC14J5Np"
      },
      "source": [
        "Several of these are very likely ads, which use all-caps as a highlighting technique. For example:"
      ]
    },
    {
      "cell_type": "code",
      "execution_count": null,
      "metadata": {
        "colab": {
          "base_uri": "https://localhost:8080/",
          "height": 139
        },
        "id": "qy60tVQKJ5Np",
        "outputId": "2db125bc-9939-47d3-dec5-ea4ad5bf6db2"
      },
      "outputs": [
        {
          "output_type": "execute_result",
          "data": {
            "text/plain": [
              "'„ E S 3 8 Lunn ATCH  Is Better Value than any non-KeylessEnglish Lever ever made.  CABER.  tEE-Q.R\\'l\" E Li LEVER WATCH of BEST LONDON MAKE, with Chronometer Balance. fully Jewelled and of special strength throughout. Made in Four Sizes—Gentlemen and Youths (as illus— trated)? Working Men generally, specially large for Miners and Railway Men, and extra small tor Lathes. In Sterling Silver Crystal Glass Cages, 0 ss. In 18-carat Gold Crystal Glass Cases, iientleinans size, Zl2 12s, Lady\\'s size, £lO 10s. Guaranteed for strength, accuracy, durability, and value.  SILVER GOLD CASES. \\' , •••,\\' q• ~ , , 5 _ , ,• .... ~ A• • ,--4. e .- III? I? , ,„?.... . ____, • C‹,,,,,,9 ./%•\":,\\',\\' • .... --4*--. . \"01 • •,. • k, 4 •,..-4 / IS• ,‘.. AI ‘ , b , . : •c, 4 \\' /Ai c, \\\\ \\\\k„ 4\"• e, \\'\\'\\'%,„,;2\\'s-: -- 1-- ---\\' ,40(\\'\\'\\' VIRE\" UK \\'ER PLA\\' -INTGLIsii '"
            ],
            "application/vnd.google.colaboratory.intrinsic+json": {
              "type": "string"
            }
          },
          "metadata": {},
          "execution_count": 30
        }
      ],
      "source": [
        "(df[df['text'].str.contains('SILVER GOLD CASES', na=False)]['text'].reset_index(drop='index')[0])"
      ]
    },
    {
      "cell_type": "markdown",
      "metadata": {
        "id": "6tnpf1zDJ5Np"
      },
      "source": [
        "We can also create a separate column with the identified potential headlines:"
      ]
    },
    {
      "cell_type": "code",
      "execution_count": null,
      "metadata": {
        "id": "61At0KCsJ5Np"
      },
      "outputs": [],
      "source": [
        "df['headlines'] = df['text'].apply(extract_full_caps_sequences)"
      ]
    },
    {
      "cell_type": "markdown",
      "metadata": {
        "id": "f49mwMVpJ5Np"
      },
      "source": [
        "You can also reorganize the dataframe by placing one potential headline per row and copying the relevant metadata:"
      ]
    },
    {
      "cell_type": "code",
      "execution_count": null,
      "metadata": {
        "colab": {
          "base_uri": "https://localhost:8080/",
          "height": 573
        },
        "id": "QNsdcU66J5Np",
        "outputId": "eaabe066-64e9-42dc-b18c-db4e604cbb46"
      },
      "outputs": [
        {
          "output_type": "execute_result",
          "data": {
            "text/plain": [
              "   publication_code  issue_id  item_id  \\\n",
              "0              2249       624  art0017   \n",
              "1              2250       908  art0002   \n",
              "1              2250       908  art0002   \n",
              "1              2250       908  art0002   \n",
              "2              2250       406  art0024   \n",
              "\n",
              "                                newspaper_title  \\\n",
              "0                                 The Bee-Hive.   \n",
              "1  The Industrial Review, Social and Political.   \n",
              "1  The Industrial Review, Social and Political.   \n",
              "1  The Industrial Review, Social and Political.   \n",
              "2  The Industrial Review, Social and Political.   \n",
              "\n",
              "                                      data_provider        date  year  month  \\\n",
              "0  British Library Heritage Made Digital Newspapers  1871-06-24  1871      6   \n",
              "1  British Library Heritage Made Digital Newspapers  1877-09-08  1877      9   \n",
              "1  British Library Heritage Made Digital Newspapers  1877-09-08  1877      9   \n",
              "1  British Library Heritage Made Digital Newspapers  1877-09-08  1877      9   \n",
              "2  British Library Heritage Made Digital Newspapers  1878-04-06  1878      4   \n",
              "\n",
              "   day         location  word_count  ocrquality political_leaning_label  \\\n",
              "0   24  London, England         263      0.9098                 liberal   \n",
              "1    8  London, England        2772      0.9841                 liberal   \n",
              "1    8  London, England        2772      0.9841                 liberal   \n",
              "1    8  London, England        2772      0.9841                 liberal   \n",
              "2    6  London, England         305      0.9870                 liberal   \n",
              "\n",
              "  price_label                                               text  \\\n",
              "0          1d  THE TICHBORNE CASE.  On Tuesday, before the So...   \n",
              "1          2d  THE CLERGY AND TRADE UNIONS.  LETTER FROM REV....   \n",
              "1          2d  THE CLERGY AND TRADE UNIONS.  LETTER FROM REV....   \n",
              "1          2d  THE CLERGY AND TRADE UNIONS.  LETTER FROM REV....   \n",
              "2          2d  INDUSTRIAL REVIEW  OUR LEGISLATORS.  THE unrul...   \n",
              "\n",
              "                                           headlines  \n",
              "0                                 THE TICHBORNE CASE  \n",
              "1  THE CLERGY AND TRADE UNIONS  LETTER FROM REV J...  \n",
              "1                                     PRICE TWOPENCE  \n",
              "1                     THE LABOUR AND 0111 ER MAPRETS  \n",
              "2                 INDUSTRIAL REVIEW  OUR LEGISLATORS  "
            ],
            "text/html": [
              "\n",
              "  <div id=\"df-8c5bc159-a544-4d89-805b-5913c7d022e4\" class=\"colab-df-container\">\n",
              "    <div>\n",
              "<style scoped>\n",
              "    .dataframe tbody tr th:only-of-type {\n",
              "        vertical-align: middle;\n",
              "    }\n",
              "\n",
              "    .dataframe tbody tr th {\n",
              "        vertical-align: top;\n",
              "    }\n",
              "\n",
              "    .dataframe thead th {\n",
              "        text-align: right;\n",
              "    }\n",
              "</style>\n",
              "<table border=\"1\" class=\"dataframe\">\n",
              "  <thead>\n",
              "    <tr style=\"text-align: right;\">\n",
              "      <th></th>\n",
              "      <th>publication_code</th>\n",
              "      <th>issue_id</th>\n",
              "      <th>item_id</th>\n",
              "      <th>newspaper_title</th>\n",
              "      <th>data_provider</th>\n",
              "      <th>date</th>\n",
              "      <th>year</th>\n",
              "      <th>month</th>\n",
              "      <th>day</th>\n",
              "      <th>location</th>\n",
              "      <th>word_count</th>\n",
              "      <th>ocrquality</th>\n",
              "      <th>political_leaning_label</th>\n",
              "      <th>price_label</th>\n",
              "      <th>text</th>\n",
              "      <th>headlines</th>\n",
              "    </tr>\n",
              "  </thead>\n",
              "  <tbody>\n",
              "    <tr>\n",
              "      <th>0</th>\n",
              "      <td>2249</td>\n",
              "      <td>624</td>\n",
              "      <td>art0017</td>\n",
              "      <td>The Bee-Hive.</td>\n",
              "      <td>British Library Heritage Made Digital Newspapers</td>\n",
              "      <td>1871-06-24</td>\n",
              "      <td>1871</td>\n",
              "      <td>6</td>\n",
              "      <td>24</td>\n",
              "      <td>London, England</td>\n",
              "      <td>263</td>\n",
              "      <td>0.9098</td>\n",
              "      <td>liberal</td>\n",
              "      <td>1d</td>\n",
              "      <td>THE TICHBORNE CASE.  On Tuesday, before the So...</td>\n",
              "      <td>THE TICHBORNE CASE</td>\n",
              "    </tr>\n",
              "    <tr>\n",
              "      <th>1</th>\n",
              "      <td>2250</td>\n",
              "      <td>908</td>\n",
              "      <td>art0002</td>\n",
              "      <td>The Industrial Review, Social and Political.</td>\n",
              "      <td>British Library Heritage Made Digital Newspapers</td>\n",
              "      <td>1877-09-08</td>\n",
              "      <td>1877</td>\n",
              "      <td>9</td>\n",
              "      <td>8</td>\n",
              "      <td>London, England</td>\n",
              "      <td>2772</td>\n",
              "      <td>0.9841</td>\n",
              "      <td>liberal</td>\n",
              "      <td>2d</td>\n",
              "      <td>THE CLERGY AND TRADE UNIONS.  LETTER FROM REV....</td>\n",
              "      <td>THE CLERGY AND TRADE UNIONS  LETTER FROM REV J...</td>\n",
              "    </tr>\n",
              "    <tr>\n",
              "      <th>1</th>\n",
              "      <td>2250</td>\n",
              "      <td>908</td>\n",
              "      <td>art0002</td>\n",
              "      <td>The Industrial Review, Social and Political.</td>\n",
              "      <td>British Library Heritage Made Digital Newspapers</td>\n",
              "      <td>1877-09-08</td>\n",
              "      <td>1877</td>\n",
              "      <td>9</td>\n",
              "      <td>8</td>\n",
              "      <td>London, England</td>\n",
              "      <td>2772</td>\n",
              "      <td>0.9841</td>\n",
              "      <td>liberal</td>\n",
              "      <td>2d</td>\n",
              "      <td>THE CLERGY AND TRADE UNIONS.  LETTER FROM REV....</td>\n",
              "      <td>PRICE TWOPENCE</td>\n",
              "    </tr>\n",
              "    <tr>\n",
              "      <th>1</th>\n",
              "      <td>2250</td>\n",
              "      <td>908</td>\n",
              "      <td>art0002</td>\n",
              "      <td>The Industrial Review, Social and Political.</td>\n",
              "      <td>British Library Heritage Made Digital Newspapers</td>\n",
              "      <td>1877-09-08</td>\n",
              "      <td>1877</td>\n",
              "      <td>9</td>\n",
              "      <td>8</td>\n",
              "      <td>London, England</td>\n",
              "      <td>2772</td>\n",
              "      <td>0.9841</td>\n",
              "      <td>liberal</td>\n",
              "      <td>2d</td>\n",
              "      <td>THE CLERGY AND TRADE UNIONS.  LETTER FROM REV....</td>\n",
              "      <td>THE LABOUR AND 0111 ER MAPRETS</td>\n",
              "    </tr>\n",
              "    <tr>\n",
              "      <th>2</th>\n",
              "      <td>2250</td>\n",
              "      <td>406</td>\n",
              "      <td>art0024</td>\n",
              "      <td>The Industrial Review, Social and Political.</td>\n",
              "      <td>British Library Heritage Made Digital Newspapers</td>\n",
              "      <td>1878-04-06</td>\n",
              "      <td>1878</td>\n",
              "      <td>4</td>\n",
              "      <td>6</td>\n",
              "      <td>London, England</td>\n",
              "      <td>305</td>\n",
              "      <td>0.9870</td>\n",
              "      <td>liberal</td>\n",
              "      <td>2d</td>\n",
              "      <td>INDUSTRIAL REVIEW  OUR LEGISLATORS.  THE unrul...</td>\n",
              "      <td>INDUSTRIAL REVIEW  OUR LEGISLATORS</td>\n",
              "    </tr>\n",
              "  </tbody>\n",
              "</table>\n",
              "</div>\n",
              "    <div class=\"colab-df-buttons\">\n",
              "\n",
              "  <div class=\"colab-df-container\">\n",
              "    <button class=\"colab-df-convert\" onclick=\"convertToInteractive('df-8c5bc159-a544-4d89-805b-5913c7d022e4')\"\n",
              "            title=\"Convert this dataframe to an interactive table.\"\n",
              "            style=\"display:none;\">\n",
              "\n",
              "  <svg xmlns=\"http://www.w3.org/2000/svg\" height=\"24px\" viewBox=\"0 -960 960 960\">\n",
              "    <path d=\"M120-120v-720h720v720H120Zm60-500h600v-160H180v160Zm220 220h160v-160H400v160Zm0 220h160v-160H400v160ZM180-400h160v-160H180v160Zm440 0h160v-160H620v160ZM180-180h160v-160H180v160Zm440 0h160v-160H620v160Z\"/>\n",
              "  </svg>\n",
              "    </button>\n",
              "\n",
              "  <style>\n",
              "    .colab-df-container {\n",
              "      display:flex;\n",
              "      gap: 12px;\n",
              "    }\n",
              "\n",
              "    .colab-df-convert {\n",
              "      background-color: #E8F0FE;\n",
              "      border: none;\n",
              "      border-radius: 50%;\n",
              "      cursor: pointer;\n",
              "      display: none;\n",
              "      fill: #1967D2;\n",
              "      height: 32px;\n",
              "      padding: 0 0 0 0;\n",
              "      width: 32px;\n",
              "    }\n",
              "\n",
              "    .colab-df-convert:hover {\n",
              "      background-color: #E2EBFA;\n",
              "      box-shadow: 0px 1px 2px rgba(60, 64, 67, 0.3), 0px 1px 3px 1px rgba(60, 64, 67, 0.15);\n",
              "      fill: #174EA6;\n",
              "    }\n",
              "\n",
              "    .colab-df-buttons div {\n",
              "      margin-bottom: 4px;\n",
              "    }\n",
              "\n",
              "    [theme=dark] .colab-df-convert {\n",
              "      background-color: #3B4455;\n",
              "      fill: #D2E3FC;\n",
              "    }\n",
              "\n",
              "    [theme=dark] .colab-df-convert:hover {\n",
              "      background-color: #434B5C;\n",
              "      box-shadow: 0px 1px 3px 1px rgba(0, 0, 0, 0.15);\n",
              "      filter: drop-shadow(0px 1px 2px rgba(0, 0, 0, 0.3));\n",
              "      fill: #FFFFFF;\n",
              "    }\n",
              "  </style>\n",
              "\n",
              "    <script>\n",
              "      const buttonEl =\n",
              "        document.querySelector('#df-8c5bc159-a544-4d89-805b-5913c7d022e4 button.colab-df-convert');\n",
              "      buttonEl.style.display =\n",
              "        google.colab.kernel.accessAllowed ? 'block' : 'none';\n",
              "\n",
              "      async function convertToInteractive(key) {\n",
              "        const element = document.querySelector('#df-8c5bc159-a544-4d89-805b-5913c7d022e4');\n",
              "        const dataTable =\n",
              "          await google.colab.kernel.invokeFunction('convertToInteractive',\n",
              "                                                    [key], {});\n",
              "        if (!dataTable) return;\n",
              "\n",
              "        const docLinkHtml = 'Like what you see? Visit the ' +\n",
              "          '<a target=\"_blank\" href=https://colab.research.google.com/notebooks/data_table.ipynb>data table notebook</a>'\n",
              "          + ' to learn more about interactive tables.';\n",
              "        element.innerHTML = '';\n",
              "        dataTable['output_type'] = 'display_data';\n",
              "        await google.colab.output.renderOutput(dataTable, element);\n",
              "        const docLink = document.createElement('div');\n",
              "        docLink.innerHTML = docLinkHtml;\n",
              "        element.appendChild(docLink);\n",
              "      }\n",
              "    </script>\n",
              "  </div>\n",
              "\n",
              "\n",
              "<div id=\"df-9f0864c5-3ddd-4b53-9f4b-ac3c0e9cd1e6\">\n",
              "  <button class=\"colab-df-quickchart\" onclick=\"quickchart('df-9f0864c5-3ddd-4b53-9f4b-ac3c0e9cd1e6')\"\n",
              "            title=\"Suggest charts\"\n",
              "            style=\"display:none;\">\n",
              "\n",
              "<svg xmlns=\"http://www.w3.org/2000/svg\" height=\"24px\"viewBox=\"0 0 24 24\"\n",
              "     width=\"24px\">\n",
              "    <g>\n",
              "        <path d=\"M19 3H5c-1.1 0-2 .9-2 2v14c0 1.1.9 2 2 2h14c1.1 0 2-.9 2-2V5c0-1.1-.9-2-2-2zM9 17H7v-7h2v7zm4 0h-2V7h2v10zm4 0h-2v-4h2v4z\"/>\n",
              "    </g>\n",
              "</svg>\n",
              "  </button>\n",
              "\n",
              "<style>\n",
              "  .colab-df-quickchart {\n",
              "      --bg-color: #E8F0FE;\n",
              "      --fill-color: #1967D2;\n",
              "      --hover-bg-color: #E2EBFA;\n",
              "      --hover-fill-color: #174EA6;\n",
              "      --disabled-fill-color: #AAA;\n",
              "      --disabled-bg-color: #DDD;\n",
              "  }\n",
              "\n",
              "  [theme=dark] .colab-df-quickchart {\n",
              "      --bg-color: #3B4455;\n",
              "      --fill-color: #D2E3FC;\n",
              "      --hover-bg-color: #434B5C;\n",
              "      --hover-fill-color: #FFFFFF;\n",
              "      --disabled-bg-color: #3B4455;\n",
              "      --disabled-fill-color: #666;\n",
              "  }\n",
              "\n",
              "  .colab-df-quickchart {\n",
              "    background-color: var(--bg-color);\n",
              "    border: none;\n",
              "    border-radius: 50%;\n",
              "    cursor: pointer;\n",
              "    display: none;\n",
              "    fill: var(--fill-color);\n",
              "    height: 32px;\n",
              "    padding: 0;\n",
              "    width: 32px;\n",
              "  }\n",
              "\n",
              "  .colab-df-quickchart:hover {\n",
              "    background-color: var(--hover-bg-color);\n",
              "    box-shadow: 0 1px 2px rgba(60, 64, 67, 0.3), 0 1px 3px 1px rgba(60, 64, 67, 0.15);\n",
              "    fill: var(--button-hover-fill-color);\n",
              "  }\n",
              "\n",
              "  .colab-df-quickchart-complete:disabled,\n",
              "  .colab-df-quickchart-complete:disabled:hover {\n",
              "    background-color: var(--disabled-bg-color);\n",
              "    fill: var(--disabled-fill-color);\n",
              "    box-shadow: none;\n",
              "  }\n",
              "\n",
              "  .colab-df-spinner {\n",
              "    border: 2px solid var(--fill-color);\n",
              "    border-color: transparent;\n",
              "    border-bottom-color: var(--fill-color);\n",
              "    animation:\n",
              "      spin 1s steps(1) infinite;\n",
              "  }\n",
              "\n",
              "  @keyframes spin {\n",
              "    0% {\n",
              "      border-color: transparent;\n",
              "      border-bottom-color: var(--fill-color);\n",
              "      border-left-color: var(--fill-color);\n",
              "    }\n",
              "    20% {\n",
              "      border-color: transparent;\n",
              "      border-left-color: var(--fill-color);\n",
              "      border-top-color: var(--fill-color);\n",
              "    }\n",
              "    30% {\n",
              "      border-color: transparent;\n",
              "      border-left-color: var(--fill-color);\n",
              "      border-top-color: var(--fill-color);\n",
              "      border-right-color: var(--fill-color);\n",
              "    }\n",
              "    40% {\n",
              "      border-color: transparent;\n",
              "      border-right-color: var(--fill-color);\n",
              "      border-top-color: var(--fill-color);\n",
              "    }\n",
              "    60% {\n",
              "      border-color: transparent;\n",
              "      border-right-color: var(--fill-color);\n",
              "    }\n",
              "    80% {\n",
              "      border-color: transparent;\n",
              "      border-right-color: var(--fill-color);\n",
              "      border-bottom-color: var(--fill-color);\n",
              "    }\n",
              "    90% {\n",
              "      border-color: transparent;\n",
              "      border-bottom-color: var(--fill-color);\n",
              "    }\n",
              "  }\n",
              "</style>\n",
              "\n",
              "  <script>\n",
              "    async function quickchart(key) {\n",
              "      const quickchartButtonEl =\n",
              "        document.querySelector('#' + key + ' button');\n",
              "      quickchartButtonEl.disabled = true;  // To prevent multiple clicks.\n",
              "      quickchartButtonEl.classList.add('colab-df-spinner');\n",
              "      try {\n",
              "        const charts = await google.colab.kernel.invokeFunction(\n",
              "            'suggestCharts', [key], {});\n",
              "      } catch (error) {\n",
              "        console.error('Error during call to suggestCharts:', error);\n",
              "      }\n",
              "      quickchartButtonEl.classList.remove('colab-df-spinner');\n",
              "      quickchartButtonEl.classList.add('colab-df-quickchart-complete');\n",
              "    }\n",
              "    (() => {\n",
              "      let quickchartButtonEl =\n",
              "        document.querySelector('#df-9f0864c5-3ddd-4b53-9f4b-ac3c0e9cd1e6 button');\n",
              "      quickchartButtonEl.style.display =\n",
              "        google.colab.kernel.accessAllowed ? 'block' : 'none';\n",
              "    })();\n",
              "  </script>\n",
              "</div>\n",
              "\n",
              "    </div>\n",
              "  </div>\n"
            ],
            "application/vnd.google.colaboratory.intrinsic+json": {
              "type": "dataframe",
              "variable_name": "rough_headlines_df",
              "summary": "{\n  \"name\": \"rough_headlines_df\",\n  \"rows\": 1740,\n  \"fields\": [\n    {\n      \"column\": \"publication_code\",\n      \"properties\": {\n        \"dtype\": \"number\",\n        \"std\": 166,\n        \"min\": 2249,\n        \"max\": 3408,\n        \"num_unique_values\": 73,\n        \"samples\": [\n          2597,\n          2619,\n          2979\n        ],\n        \"semantic_type\": \"\",\n        \"description\": \"\"\n      }\n    },\n    {\n      \"column\": \"issue_id\",\n      \"properties\": {\n        \"dtype\": \"number\",\n        \"std\": 325,\n        \"min\": 101,\n        \"max\": 1230,\n        \"num_unique_values\": 269,\n        \"samples\": [\n          1123,\n          328,\n          415\n        ],\n        \"semantic_type\": \"\",\n        \"description\": \"\"\n      }\n    },\n    {\n      \"column\": \"item_id\",\n      \"properties\": {\n        \"dtype\": \"category\",\n        \"num_unique_values\": 160,\n        \"samples\": [\n          \"art0102\",\n          \"art0057\",\n          \"art0130\"\n        ],\n        \"semantic_type\": \"\",\n        \"description\": \"\"\n      }\n    },\n    {\n      \"column\": \"newspaper_title\",\n      \"properties\": {\n        \"dtype\": \"category\",\n        \"num_unique_values\": 73,\n        \"samples\": [\n          \"The Warrington Examiner.\",\n          \"Denton Examiner, Audenshaw, Hooley Hill and Dukinfield Advertiser.\",\n          \"The Northern News.\"\n        ],\n        \"semantic_type\": \"\",\n        \"description\": \"\"\n      }\n    },\n    {\n      \"column\": \"data_provider\",\n      \"properties\": {\n        \"dtype\": \"category\",\n        \"num_unique_values\": 2,\n        \"samples\": [\n          \"British Library Living with Machines Project\",\n          \"British Library Heritage Made Digital Newspapers\"\n        ],\n        \"semantic_type\": \"\",\n        \"description\": \"\"\n      }\n    },\n    {\n      \"column\": \"date\",\n      \"properties\": {\n        \"dtype\": \"object\",\n        \"num_unique_values\": 481,\n        \"samples\": [\n          \"1889-10-16\",\n          \"1916-02-05\"\n        ],\n        \"semantic_type\": \"\",\n        \"description\": \"\"\n      }\n    },\n    {\n      \"column\": \"year\",\n      \"properties\": {\n        \"dtype\": \"number\",\n        \"std\": 13,\n        \"min\": 1845,\n        \"max\": 1920,\n        \"num_unique_values\": 72,\n        \"samples\": [\n          1893,\n          1905\n        ],\n        \"semantic_type\": \"\",\n        \"description\": \"\"\n      }\n    },\n    {\n      \"column\": \"month\",\n      \"properties\": {\n        \"dtype\": \"number\",\n        \"std\": 3,\n        \"min\": 1,\n        \"max\": 12,\n        \"num_unique_values\": 12,\n        \"samples\": [\n          2,\n          5\n        ],\n        \"semantic_type\": \"\",\n        \"description\": \"\"\n      }\n    },\n    {\n      \"column\": \"day\",\n      \"properties\": {\n        \"dtype\": \"number\",\n        \"std\": 9,\n        \"min\": 1,\n        \"max\": 31,\n        \"num_unique_values\": 31,\n        \"samples\": [\n          25,\n          3\n        ],\n        \"semantic_type\": \"\",\n        \"description\": \"\"\n      }\n    },\n    {\n      \"column\": \"location\",\n      \"properties\": {\n        \"dtype\": \"category\",\n        \"num_unique_values\": 47,\n        \"samples\": [\n          \"Brighouse, West Yorkshire, England\",\n          \"Dewsbury, West Yorkshire, England\"\n        ],\n        \"semantic_type\": \"\",\n        \"description\": \"\"\n      }\n    },\n    {\n      \"column\": \"word_count\",\n      \"properties\": {\n        \"dtype\": \"number\",\n        \"std\": 2042,\n        \"min\": 1,\n        \"max\": 6055,\n        \"num_unique_values\": 348,\n        \"samples\": [\n          165,\n          85\n        ],\n        \"semantic_type\": \"\",\n        \"description\": \"\"\n      }\n    },\n    {\n      \"column\": \"ocrquality\",\n      \"properties\": {\n        \"dtype\": \"number\",\n        \"std\": 0.12579215076229067,\n        \"min\": 0.0,\n        \"max\": 1.0,\n        \"num_unique_values\": 449,\n        \"samples\": [\n          0.7861,\n          0.8926\n        ],\n        \"semantic_type\": \"\",\n        \"description\": \"\"\n      }\n    },\n    {\n      \"column\": \"political_leaning_label\",\n      \"properties\": {\n        \"dtype\": \"category\",\n        \"num_unique_values\": 8,\n        \"samples\": [\n          \"independent\",\n          \"unionist\"\n        ],\n        \"semantic_type\": \"\",\n        \"description\": \"\"\n      }\n    },\n    {\n      \"column\": \"price_label\",\n      \"properties\": {\n        \"dtype\": \"category\",\n        \"num_unique_values\": 15,\n        \"samples\": [\n          \"3 \\u00bd d<SEP>1d\",\n          \"4 \\u00bd d\"\n        ],\n        \"semantic_type\": \"\",\n        \"description\": \"\"\n      }\n    },\n    {\n      \"column\": \"text\",\n      \"properties\": {\n        \"dtype\": \"category\",\n        \"num_unique_values\": 494,\n        \"samples\": [\n          \"NORTHERN WEEKLY GAZETTE: \",\n          \"BIRTHS.  May 23, at 3, Lower Trafalgar.terrace, Swansea, the wife of raptsin W. H. Smith. of a daughter. May 25, nt 6. Cantl,--quare, Swansea. the wife of Mr. T. F. Mathews, of a daughter. May 23. at Preset,.lra. Heath, the wife of Captain Herrick Palmer. of a eon. May 19, at 14, Victoria-terrace, Heath. the wife ef Mr. H. B. Thomas, of a son.  MARRIAGES. May 22, at qt Mary's Church, Swansea (by license), Mr Robert Tucker, of London, to Miss Thomas, of th Red House. St Thomas. Swansea. May 26, at the same church, by the RAY E. B Squire, vicar, William Francis. mariner, to Mary Williams, both of Swansea. At the ,ame time and place, and by the same clergy man. David Barnett, mariner, to Ann Davies, both of 114;h\\u2014street, Swansea. At the same timeand place. Thomas Russell. mariner, to Caroline Bode, both of Bethesda-terrace. Swansea. MI 21, as the Pariah Church. Chittlehampon. by th. Re\\u2022 C. M. Drake. vicar, Mr John Mules, former, of Southmelton, to Marv. youngest d ,nghter of Mr William Rees, late of Park-stre\\u2022 t. q warms May IS, at Resolven Church, by the Rev G. Griffiths, vicrtr. Mr Llewellyn Powell. of Argoed, to Miss Ann Jtnkins. of Forchgoch farm, Raengwrach. May 18 (by license) at Taibach Chapel of Ease, by the Rev E. Phillips. curate of Montana, Mr John Courtis DIVIC.I, son of the late Mr Thomas Davies, of Westfield House, Aberavon, to Miss Marg tret Meyrck, of Tat)), ch. \"\n        ],\n        \"semantic_type\": \"\",\n        \"description\": \"\"\n      }\n    },\n    {\n      \"column\": \"headlines\",\n      \"properties\": {\n        \"dtype\": \"string\",\n        \"num_unique_values\": 1570,\n        \"samples\": [\n          \"CROSSE AND BLACK WELL PURVEYORS TO THE QUEEN SOHO SQUARE LONDON\",\n          \"OMER TIANMERIO\"\n        ],\n        \"semantic_type\": \"\",\n        \"description\": \"\"\n      }\n    }\n  ]\n}"
            }
          },
          "metadata": {},
          "execution_count": 32
        }
      ],
      "source": [
        "rough_headlines_df = df.explode('headlines')\n",
        "rough_headlines_df['headlines'] = rough_headlines_df['headlines'].str.replace(r'[^0-9A-Z ]+', '', regex=True).str.strip()\n",
        "rough_headlines_df.head(5)"
      ]
    },
    {
      "cell_type": "markdown",
      "metadata": {
        "id": "YZKV4LpMJ5Nq"
      },
      "source": [
        "And perhaps save the output for separate inspection later:"
      ]
    },
    {
      "cell_type": "code",
      "execution_count": null,
      "metadata": {
        "id": "PBPVw3IYJ5Nq"
      },
      "outputs": [],
      "source": [
        "rough_headlines_df.to_csv('headlines_df.csv',index=False)"
      ]
    },
    {
      "cell_type": "markdown",
      "metadata": {
        "id": "YlzKj4ZxJ5Nq"
      },
      "source": [
        "There is probably not much gain in trying to improve segmentation with a rule-based approach (e.g. look for all caps) across the collection, as it would be time-consuming. However, it may be necessary when constructing a smaller sample to be annotated (for whatever task, e.g. classification)."
      ]
    },
    {
      "cell_type": "markdown",
      "metadata": {
        "id": "85aCKrCPJ5Nq"
      },
      "source": [
        "Let's pretend our sample contains only items containing at least one occurrence from a specified list of keywords and that we now want to 'clean' the items as much as possible by attempting to only keep the article. One way to go about it is to apply the regex above to the `text` column, then segmenting the item into as many subitems as there are matches (i.e. potential headlines). Then we can take all the text from one headline to the last character before the beginning of the next headline as one article (obviously, this will have no effect on items for which there was no match, i.e. which probably contain only one article already)."
      ]
    },
    {
      "cell_type": "markdown",
      "metadata": {
        "id": "Ck6p5DZWJ5Nq"
      },
      "source": [
        "Let's write a function that identifies potential headlines and then considers the text running from one potential headline to the next as one article."
      ]
    },
    {
      "cell_type": "code",
      "execution_count": null,
      "metadata": {
        "id": "ndjRAyGpJ5Nq"
      },
      "outputs": [],
      "source": [
        "def segment_articles(text):\n",
        "    # Define a regular expression to identify headlines accurately\n",
        "    headline_pattern = re.compile(r'\\b[A-Z]{3,}(?:[\\W]*[A-Z0-9])*\\b\\.')\n",
        "\n",
        "    # Find all matches using finditer which gives us match objects with start and end info\n",
        "    matches = list(re.finditer(headline_pattern, text))\n",
        "    articles = []\n",
        "\n",
        "    for i in range(len(matches)):\n",
        "        start = matches[i].start()  # Start of current headline\n",
        "        # End is either start of the next headline or end of text if no more headlines\n",
        "        end = matches[i + 1].start() if i + 1 < len(matches) else len(text)\n",
        "        article = text[start:end].strip()\n",
        "        articles.append(article)\n",
        "\n",
        "    return articles"
      ]
    },
    {
      "cell_type": "markdown",
      "metadata": {
        "id": "Hjj5WLbVJ5Nq"
      },
      "source": [
        "Let's apply the function to the `text` column, saving the output as a separate, new `articles` column:"
      ]
    },
    {
      "cell_type": "code",
      "execution_count": null,
      "metadata": {
        "id": "yolE88O9J5Nq"
      },
      "outputs": [],
      "source": [
        "df['articles'] = df.apply(lambda x: segment_articles(x['text']), axis=1)"
      ]
    },
    {
      "cell_type": "markdown",
      "metadata": {
        "id": "QW85_NYPJ5Nq"
      },
      "source": [
        "And `explode` the dataframe based on this new column:"
      ]
    },
    {
      "cell_type": "code",
      "execution_count": null,
      "metadata": {
        "id": "0Mi9p1wRJ5Nq"
      },
      "outputs": [],
      "source": [
        "df_articles = df.explode('articles')"
      ]
    },
    {
      "cell_type": "markdown",
      "metadata": {
        "id": "dni6G7O7J5Nq"
      },
      "source": [
        "At this point, you get one potential 'article' per row, rather than simply 'items'. At this point, depending on your research needs, you further manipulate the dataframe. Some variables, for example, will refer to the original 'item', such as the word count. This can be redone, to reflect the new 'article' text. Or, if you are working with a keyword-based sample, you may need to filter out articles that do not contain the keywords of interest anymore after the new segmentation.\n",
        "\n",
        "You can the save the sample to be used later, after dropping any rows containing empty cells:"
      ]
    },
    {
      "cell_type": "code",
      "execution_count": null,
      "metadata": {
        "id": "pyoaUkEGJ5Nq"
      },
      "outputs": [],
      "source": [
        "df_articles.dropna().drop(columns='text').to_csv('articles.csv',index=False)"
      ]
    },
    {
      "cell_type": "markdown",
      "metadata": {
        "id": "6CUXXkYlJ5Nq"
      },
      "source": [
        "> **NB**: There are more complex segmentation problems. The one with 'multiple articles' in one item is actually the least complex one, perhaps.\n",
        "> E.g. There are cases in which bits from one article are randomly included in another, others in which whole lines of texts are skipped, and others in which in-between-pages items are separated, etc."
      ]
    },
    {
      "cell_type": "markdown",
      "metadata": {
        "id": "wgYMoRM4J5Nq"
      },
      "source": [
        "## A brief look at embedding models of arbitrary text subsamples"
      ]
    },
    {
      "cell_type": "markdown",
      "metadata": {
        "id": "3lzAORSeJ5Nq"
      },
      "source": [
        "> Intro to Word2Vec: https://github.com/npedrazzini/word2vec-tutorial/blob/main/word2vec_dhoxss.ipynb\n",
        "\n",
        "> Repo with diachronic embedding models training and exploration based on newspapers with metadata: https://github.com/Living-with-machines/DiachronicEmb-BigHistData"
      ]
    },
    {
      "cell_type": "code",
      "execution_count": null,
      "metadata": {
        "id": "qYF2Q2jSJ5Nq"
      },
      "outputs": [],
      "source": [
        "import pandas as pd\n",
        "from gensim.models import Word2Vec\n",
        "from gensim.models import KeyedVectors\n",
        "from tqdm import tqdm"
      ]
    },
    {
      "cell_type": "code",
      "execution_count": null,
      "metadata": {
        "colab": {
          "base_uri": "https://localhost:8080/",
          "height": 912
        },
        "id": "D8xahRfqJ5Nq",
        "outputId": "9b9cb191-fa32-41c5-a9bb-aa7ce8b239fb"
      },
      "outputs": [
        {
          "output_type": "execute_result",
          "data": {
            "text/plain": [
              "     publication_code  issue_id  item_id  \\\n",
              "0                2249       624  art0017   \n",
              "1                2250       908  art0002   \n",
              "2                2250       406  art0024   \n",
              "3                2595       910  art0005   \n",
              "4                2595       420  art0027   \n",
              "..                ...       ...      ...   \n",
              "495              3094       324  art0026   \n",
              "496              3104       125  art0010   \n",
              "497              3104      1008  art0011   \n",
              "498              3406       125  art0046   \n",
              "499              3408       421  art0067   \n",
              "\n",
              "                                       newspaper_title  \\\n",
              "0                                        The Bee-Hive.   \n",
              "1         The Industrial Review, Social and Political.   \n",
              "2         The Industrial Review, Social and Political.   \n",
              "3                        The Forest of Dean Examiner :   \n",
              "4                        The Forest of Dean Examiner :   \n",
              "..                                                 ...   \n",
              "495    The Slaithwaite Guardian and Colne Valley News.   \n",
              "496                                   Bargoed Journal.   \n",
              "497                                   Bargoed Journal.   \n",
              "498                    Nantwich, Sandbach & Crewe Star   \n",
              "499  The Dewsbury Chronicle, and West Riding Advert...   \n",
              "\n",
              "                                        data_provider        date  year  \\\n",
              "0    British Library Heritage Made Digital Newspapers  1871-06-24  1871   \n",
              "1    British Library Heritage Made Digital Newspapers  1877-09-08  1877   \n",
              "2    British Library Heritage Made Digital Newspapers  1878-04-06  1878   \n",
              "3        British Library Living with Machines Project  1875-09-10  1875   \n",
              "4        British Library Living with Machines Project  1877-04-20  1877   \n",
              "..                                                ...         ...   ...   \n",
              "495      British Library Living with Machines Project  1905-03-24  1905   \n",
              "496      British Library Living with Machines Project  1912-01-25  1912   \n",
              "497      British Library Living with Machines Project  1904-10-08  1904   \n",
              "498      British Library Living with Machines Project  1890-01-25  1890   \n",
              "499      British Library Living with Machines Project  1894-04-21  1894   \n",
              "\n",
              "     month  day                              location  word_count  ocrquality  \\\n",
              "0        6   24                       London, England         271      0.9098   \n",
              "1        9    8                       London, England        2791      0.9841   \n",
              "2        4    6                       London, England         304      0.9870   \n",
              "3        9   10    Blakeney, Gloucestershire, England         185      0.9572   \n",
              "4        4   20    Blakeney, Gloucestershire, England         113      0.9442   \n",
              "..     ...  ...                                   ...         ...         ...   \n",
              "495      3   24  Slaithwaite, West Yorkshire, England         112      0.7263   \n",
              "496      1   25       Gelligaer, Mid Glamorgan, Wales           2      0.8350   \n",
              "497     10    8       Gelligaer, Mid Glamorgan, Wales           3      0.8667   \n",
              "498      1   25                                   NaN         176      0.8100   \n",
              "499      4   21     Dewsbury, West Yorkshire, England           0      0.0000   \n",
              "\n",
              "    political_leaning_label price_label  \\\n",
              "0                   liberal          1d   \n",
              "1                   liberal          2d   \n",
              "2                   liberal          2d   \n",
              "3               independent          1d   \n",
              "4                   liberal          1d   \n",
              "..                      ...         ...   \n",
              "495             independent         ½ d   \n",
              "496             independent          1d   \n",
              "497             independent          1d   \n",
              "498                 liberal         ½ d   \n",
              "499            conservative          1d   \n",
              "\n",
              "                                                  text  \n",
              "0    THE TICHBORNE CASE.  On Tuesday, before the So...  \n",
              "1    THE CLERGY AND TRADE UNIONS.  LETTER FROM REV....  \n",
              "2    INDUSTRIAL REVIEW  OUR LEGISLATORS.  THE unrul...  \n",
              "3    WOOLISTON.  As UNDISTAICLIC IN DIYVICULTY.—A s...  \n",
              "4    THE FINE ART CO-OPERATIVE SUPPLY  ASSOCIATION,...  \n",
              "..                                                 ...  \n",
              "495  BLAITLIK'AITE  there were no wi hirawals, ) th...  \n",
              "496                                               A 4   \n",
              "497                               Pipture  Rost Cards   \n",
              "498  „ E S 3 8 Lunn ATCH  Is Better Value than any ...  \n",
              "499                                                     \n",
              "\n",
              "[500 rows x 15 columns]"
            ],
            "text/html": [
              "\n",
              "  <div id=\"df-f992be80-dbd5-4406-a6d1-fb154c1f9a93\" class=\"colab-df-container\">\n",
              "    <div>\n",
              "<style scoped>\n",
              "    .dataframe tbody tr th:only-of-type {\n",
              "        vertical-align: middle;\n",
              "    }\n",
              "\n",
              "    .dataframe tbody tr th {\n",
              "        vertical-align: top;\n",
              "    }\n",
              "\n",
              "    .dataframe thead th {\n",
              "        text-align: right;\n",
              "    }\n",
              "</style>\n",
              "<table border=\"1\" class=\"dataframe\">\n",
              "  <thead>\n",
              "    <tr style=\"text-align: right;\">\n",
              "      <th></th>\n",
              "      <th>publication_code</th>\n",
              "      <th>issue_id</th>\n",
              "      <th>item_id</th>\n",
              "      <th>newspaper_title</th>\n",
              "      <th>data_provider</th>\n",
              "      <th>date</th>\n",
              "      <th>year</th>\n",
              "      <th>month</th>\n",
              "      <th>day</th>\n",
              "      <th>location</th>\n",
              "      <th>word_count</th>\n",
              "      <th>ocrquality</th>\n",
              "      <th>political_leaning_label</th>\n",
              "      <th>price_label</th>\n",
              "      <th>text</th>\n",
              "    </tr>\n",
              "  </thead>\n",
              "  <tbody>\n",
              "    <tr>\n",
              "      <th>0</th>\n",
              "      <td>2249</td>\n",
              "      <td>624</td>\n",
              "      <td>art0017</td>\n",
              "      <td>The Bee-Hive.</td>\n",
              "      <td>British Library Heritage Made Digital Newspapers</td>\n",
              "      <td>1871-06-24</td>\n",
              "      <td>1871</td>\n",
              "      <td>6</td>\n",
              "      <td>24</td>\n",
              "      <td>London, England</td>\n",
              "      <td>271</td>\n",
              "      <td>0.9098</td>\n",
              "      <td>liberal</td>\n",
              "      <td>1d</td>\n",
              "      <td>THE TICHBORNE CASE.  On Tuesday, before the So...</td>\n",
              "    </tr>\n",
              "    <tr>\n",
              "      <th>1</th>\n",
              "      <td>2250</td>\n",
              "      <td>908</td>\n",
              "      <td>art0002</td>\n",
              "      <td>The Industrial Review, Social and Political.</td>\n",
              "      <td>British Library Heritage Made Digital Newspapers</td>\n",
              "      <td>1877-09-08</td>\n",
              "      <td>1877</td>\n",
              "      <td>9</td>\n",
              "      <td>8</td>\n",
              "      <td>London, England</td>\n",
              "      <td>2791</td>\n",
              "      <td>0.9841</td>\n",
              "      <td>liberal</td>\n",
              "      <td>2d</td>\n",
              "      <td>THE CLERGY AND TRADE UNIONS.  LETTER FROM REV....</td>\n",
              "    </tr>\n",
              "    <tr>\n",
              "      <th>2</th>\n",
              "      <td>2250</td>\n",
              "      <td>406</td>\n",
              "      <td>art0024</td>\n",
              "      <td>The Industrial Review, Social and Political.</td>\n",
              "      <td>British Library Heritage Made Digital Newspapers</td>\n",
              "      <td>1878-04-06</td>\n",
              "      <td>1878</td>\n",
              "      <td>4</td>\n",
              "      <td>6</td>\n",
              "      <td>London, England</td>\n",
              "      <td>304</td>\n",
              "      <td>0.9870</td>\n",
              "      <td>liberal</td>\n",
              "      <td>2d</td>\n",
              "      <td>INDUSTRIAL REVIEW  OUR LEGISLATORS.  THE unrul...</td>\n",
              "    </tr>\n",
              "    <tr>\n",
              "      <th>3</th>\n",
              "      <td>2595</td>\n",
              "      <td>910</td>\n",
              "      <td>art0005</td>\n",
              "      <td>The Forest of Dean Examiner :</td>\n",
              "      <td>British Library Living with Machines Project</td>\n",
              "      <td>1875-09-10</td>\n",
              "      <td>1875</td>\n",
              "      <td>9</td>\n",
              "      <td>10</td>\n",
              "      <td>Blakeney, Gloucestershire, England</td>\n",
              "      <td>185</td>\n",
              "      <td>0.9572</td>\n",
              "      <td>independent</td>\n",
              "      <td>1d</td>\n",
              "      <td>WOOLISTON.  As UNDISTAICLIC IN DIYVICULTY.—A s...</td>\n",
              "    </tr>\n",
              "    <tr>\n",
              "      <th>4</th>\n",
              "      <td>2595</td>\n",
              "      <td>420</td>\n",
              "      <td>art0027</td>\n",
              "      <td>The Forest of Dean Examiner :</td>\n",
              "      <td>British Library Living with Machines Project</td>\n",
              "      <td>1877-04-20</td>\n",
              "      <td>1877</td>\n",
              "      <td>4</td>\n",
              "      <td>20</td>\n",
              "      <td>Blakeney, Gloucestershire, England</td>\n",
              "      <td>113</td>\n",
              "      <td>0.9442</td>\n",
              "      <td>liberal</td>\n",
              "      <td>1d</td>\n",
              "      <td>THE FINE ART CO-OPERATIVE SUPPLY  ASSOCIATION,...</td>\n",
              "    </tr>\n",
              "    <tr>\n",
              "      <th>...</th>\n",
              "      <td>...</td>\n",
              "      <td>...</td>\n",
              "      <td>...</td>\n",
              "      <td>...</td>\n",
              "      <td>...</td>\n",
              "      <td>...</td>\n",
              "      <td>...</td>\n",
              "      <td>...</td>\n",
              "      <td>...</td>\n",
              "      <td>...</td>\n",
              "      <td>...</td>\n",
              "      <td>...</td>\n",
              "      <td>...</td>\n",
              "      <td>...</td>\n",
              "      <td>...</td>\n",
              "    </tr>\n",
              "    <tr>\n",
              "      <th>495</th>\n",
              "      <td>3094</td>\n",
              "      <td>324</td>\n",
              "      <td>art0026</td>\n",
              "      <td>The Slaithwaite Guardian and Colne Valley News.</td>\n",
              "      <td>British Library Living with Machines Project</td>\n",
              "      <td>1905-03-24</td>\n",
              "      <td>1905</td>\n",
              "      <td>3</td>\n",
              "      <td>24</td>\n",
              "      <td>Slaithwaite, West Yorkshire, England</td>\n",
              "      <td>112</td>\n",
              "      <td>0.7263</td>\n",
              "      <td>independent</td>\n",
              "      <td>½ d</td>\n",
              "      <td>BLAITLIK'AITE  there were no wi hirawals, ) th...</td>\n",
              "    </tr>\n",
              "    <tr>\n",
              "      <th>496</th>\n",
              "      <td>3104</td>\n",
              "      <td>125</td>\n",
              "      <td>art0010</td>\n",
              "      <td>Bargoed Journal.</td>\n",
              "      <td>British Library Living with Machines Project</td>\n",
              "      <td>1912-01-25</td>\n",
              "      <td>1912</td>\n",
              "      <td>1</td>\n",
              "      <td>25</td>\n",
              "      <td>Gelligaer, Mid Glamorgan, Wales</td>\n",
              "      <td>2</td>\n",
              "      <td>0.8350</td>\n",
              "      <td>independent</td>\n",
              "      <td>1d</td>\n",
              "      <td>A 4</td>\n",
              "    </tr>\n",
              "    <tr>\n",
              "      <th>497</th>\n",
              "      <td>3104</td>\n",
              "      <td>1008</td>\n",
              "      <td>art0011</td>\n",
              "      <td>Bargoed Journal.</td>\n",
              "      <td>British Library Living with Machines Project</td>\n",
              "      <td>1904-10-08</td>\n",
              "      <td>1904</td>\n",
              "      <td>10</td>\n",
              "      <td>8</td>\n",
              "      <td>Gelligaer, Mid Glamorgan, Wales</td>\n",
              "      <td>3</td>\n",
              "      <td>0.8667</td>\n",
              "      <td>independent</td>\n",
              "      <td>1d</td>\n",
              "      <td>Pipture  Rost Cards</td>\n",
              "    </tr>\n",
              "    <tr>\n",
              "      <th>498</th>\n",
              "      <td>3406</td>\n",
              "      <td>125</td>\n",
              "      <td>art0046</td>\n",
              "      <td>Nantwich, Sandbach &amp; Crewe Star</td>\n",
              "      <td>British Library Living with Machines Project</td>\n",
              "      <td>1890-01-25</td>\n",
              "      <td>1890</td>\n",
              "      <td>1</td>\n",
              "      <td>25</td>\n",
              "      <td>NaN</td>\n",
              "      <td>176</td>\n",
              "      <td>0.8100</td>\n",
              "      <td>liberal</td>\n",
              "      <td>½ d</td>\n",
              "      <td>„ E S 3 8 Lunn ATCH  Is Better Value than any ...</td>\n",
              "    </tr>\n",
              "    <tr>\n",
              "      <th>499</th>\n",
              "      <td>3408</td>\n",
              "      <td>421</td>\n",
              "      <td>art0067</td>\n",
              "      <td>The Dewsbury Chronicle, and West Riding Advert...</td>\n",
              "      <td>British Library Living with Machines Project</td>\n",
              "      <td>1894-04-21</td>\n",
              "      <td>1894</td>\n",
              "      <td>4</td>\n",
              "      <td>21</td>\n",
              "      <td>Dewsbury, West Yorkshire, England</td>\n",
              "      <td>0</td>\n",
              "      <td>0.0000</td>\n",
              "      <td>conservative</td>\n",
              "      <td>1d</td>\n",
              "      <td></td>\n",
              "    </tr>\n",
              "  </tbody>\n",
              "</table>\n",
              "<p>500 rows × 15 columns</p>\n",
              "</div>\n",
              "    <div class=\"colab-df-buttons\">\n",
              "\n",
              "  <div class=\"colab-df-container\">\n",
              "    <button class=\"colab-df-convert\" onclick=\"convertToInteractive('df-f992be80-dbd5-4406-a6d1-fb154c1f9a93')\"\n",
              "            title=\"Convert this dataframe to an interactive table.\"\n",
              "            style=\"display:none;\">\n",
              "\n",
              "  <svg xmlns=\"http://www.w3.org/2000/svg\" height=\"24px\" viewBox=\"0 -960 960 960\">\n",
              "    <path d=\"M120-120v-720h720v720H120Zm60-500h600v-160H180v160Zm220 220h160v-160H400v160Zm0 220h160v-160H400v160ZM180-400h160v-160H180v160Zm440 0h160v-160H620v160ZM180-180h160v-160H180v160Zm440 0h160v-160H620v160Z\"/>\n",
              "  </svg>\n",
              "    </button>\n",
              "\n",
              "  <style>\n",
              "    .colab-df-container {\n",
              "      display:flex;\n",
              "      gap: 12px;\n",
              "    }\n",
              "\n",
              "    .colab-df-convert {\n",
              "      background-color: #E8F0FE;\n",
              "      border: none;\n",
              "      border-radius: 50%;\n",
              "      cursor: pointer;\n",
              "      display: none;\n",
              "      fill: #1967D2;\n",
              "      height: 32px;\n",
              "      padding: 0 0 0 0;\n",
              "      width: 32px;\n",
              "    }\n",
              "\n",
              "    .colab-df-convert:hover {\n",
              "      background-color: #E2EBFA;\n",
              "      box-shadow: 0px 1px 2px rgba(60, 64, 67, 0.3), 0px 1px 3px 1px rgba(60, 64, 67, 0.15);\n",
              "      fill: #174EA6;\n",
              "    }\n",
              "\n",
              "    .colab-df-buttons div {\n",
              "      margin-bottom: 4px;\n",
              "    }\n",
              "\n",
              "    [theme=dark] .colab-df-convert {\n",
              "      background-color: #3B4455;\n",
              "      fill: #D2E3FC;\n",
              "    }\n",
              "\n",
              "    [theme=dark] .colab-df-convert:hover {\n",
              "      background-color: #434B5C;\n",
              "      box-shadow: 0px 1px 3px 1px rgba(0, 0, 0, 0.15);\n",
              "      filter: drop-shadow(0px 1px 2px rgba(0, 0, 0, 0.3));\n",
              "      fill: #FFFFFF;\n",
              "    }\n",
              "  </style>\n",
              "\n",
              "    <script>\n",
              "      const buttonEl =\n",
              "        document.querySelector('#df-f992be80-dbd5-4406-a6d1-fb154c1f9a93 button.colab-df-convert');\n",
              "      buttonEl.style.display =\n",
              "        google.colab.kernel.accessAllowed ? 'block' : 'none';\n",
              "\n",
              "      async function convertToInteractive(key) {\n",
              "        const element = document.querySelector('#df-f992be80-dbd5-4406-a6d1-fb154c1f9a93');\n",
              "        const dataTable =\n",
              "          await google.colab.kernel.invokeFunction('convertToInteractive',\n",
              "                                                    [key], {});\n",
              "        if (!dataTable) return;\n",
              "\n",
              "        const docLinkHtml = 'Like what you see? Visit the ' +\n",
              "          '<a target=\"_blank\" href=https://colab.research.google.com/notebooks/data_table.ipynb>data table notebook</a>'\n",
              "          + ' to learn more about interactive tables.';\n",
              "        element.innerHTML = '';\n",
              "        dataTable['output_type'] = 'display_data';\n",
              "        await google.colab.output.renderOutput(dataTable, element);\n",
              "        const docLink = document.createElement('div');\n",
              "        docLink.innerHTML = docLinkHtml;\n",
              "        element.appendChild(docLink);\n",
              "      }\n",
              "    </script>\n",
              "  </div>\n",
              "\n",
              "\n",
              "<div id=\"df-0d045df8-5d72-491d-9ac0-c7e8ed26989f\">\n",
              "  <button class=\"colab-df-quickchart\" onclick=\"quickchart('df-0d045df8-5d72-491d-9ac0-c7e8ed26989f')\"\n",
              "            title=\"Suggest charts\"\n",
              "            style=\"display:none;\">\n",
              "\n",
              "<svg xmlns=\"http://www.w3.org/2000/svg\" height=\"24px\"viewBox=\"0 0 24 24\"\n",
              "     width=\"24px\">\n",
              "    <g>\n",
              "        <path d=\"M19 3H5c-1.1 0-2 .9-2 2v14c0 1.1.9 2 2 2h14c1.1 0 2-.9 2-2V5c0-1.1-.9-2-2-2zM9 17H7v-7h2v7zm4 0h-2V7h2v10zm4 0h-2v-4h2v4z\"/>\n",
              "    </g>\n",
              "</svg>\n",
              "  </button>\n",
              "\n",
              "<style>\n",
              "  .colab-df-quickchart {\n",
              "      --bg-color: #E8F0FE;\n",
              "      --fill-color: #1967D2;\n",
              "      --hover-bg-color: #E2EBFA;\n",
              "      --hover-fill-color: #174EA6;\n",
              "      --disabled-fill-color: #AAA;\n",
              "      --disabled-bg-color: #DDD;\n",
              "  }\n",
              "\n",
              "  [theme=dark] .colab-df-quickchart {\n",
              "      --bg-color: #3B4455;\n",
              "      --fill-color: #D2E3FC;\n",
              "      --hover-bg-color: #434B5C;\n",
              "      --hover-fill-color: #FFFFFF;\n",
              "      --disabled-bg-color: #3B4455;\n",
              "      --disabled-fill-color: #666;\n",
              "  }\n",
              "\n",
              "  .colab-df-quickchart {\n",
              "    background-color: var(--bg-color);\n",
              "    border: none;\n",
              "    border-radius: 50%;\n",
              "    cursor: pointer;\n",
              "    display: none;\n",
              "    fill: var(--fill-color);\n",
              "    height: 32px;\n",
              "    padding: 0;\n",
              "    width: 32px;\n",
              "  }\n",
              "\n",
              "  .colab-df-quickchart:hover {\n",
              "    background-color: var(--hover-bg-color);\n",
              "    box-shadow: 0 1px 2px rgba(60, 64, 67, 0.3), 0 1px 3px 1px rgba(60, 64, 67, 0.15);\n",
              "    fill: var(--button-hover-fill-color);\n",
              "  }\n",
              "\n",
              "  .colab-df-quickchart-complete:disabled,\n",
              "  .colab-df-quickchart-complete:disabled:hover {\n",
              "    background-color: var(--disabled-bg-color);\n",
              "    fill: var(--disabled-fill-color);\n",
              "    box-shadow: none;\n",
              "  }\n",
              "\n",
              "  .colab-df-spinner {\n",
              "    border: 2px solid var(--fill-color);\n",
              "    border-color: transparent;\n",
              "    border-bottom-color: var(--fill-color);\n",
              "    animation:\n",
              "      spin 1s steps(1) infinite;\n",
              "  }\n",
              "\n",
              "  @keyframes spin {\n",
              "    0% {\n",
              "      border-color: transparent;\n",
              "      border-bottom-color: var(--fill-color);\n",
              "      border-left-color: var(--fill-color);\n",
              "    }\n",
              "    20% {\n",
              "      border-color: transparent;\n",
              "      border-left-color: var(--fill-color);\n",
              "      border-top-color: var(--fill-color);\n",
              "    }\n",
              "    30% {\n",
              "      border-color: transparent;\n",
              "      border-left-color: var(--fill-color);\n",
              "      border-top-color: var(--fill-color);\n",
              "      border-right-color: var(--fill-color);\n",
              "    }\n",
              "    40% {\n",
              "      border-color: transparent;\n",
              "      border-right-color: var(--fill-color);\n",
              "      border-top-color: var(--fill-color);\n",
              "    }\n",
              "    60% {\n",
              "      border-color: transparent;\n",
              "      border-right-color: var(--fill-color);\n",
              "    }\n",
              "    80% {\n",
              "      border-color: transparent;\n",
              "      border-right-color: var(--fill-color);\n",
              "      border-bottom-color: var(--fill-color);\n",
              "    }\n",
              "    90% {\n",
              "      border-color: transparent;\n",
              "      border-bottom-color: var(--fill-color);\n",
              "    }\n",
              "  }\n",
              "</style>\n",
              "\n",
              "  <script>\n",
              "    async function quickchart(key) {\n",
              "      const quickchartButtonEl =\n",
              "        document.querySelector('#' + key + ' button');\n",
              "      quickchartButtonEl.disabled = true;  // To prevent multiple clicks.\n",
              "      quickchartButtonEl.classList.add('colab-df-spinner');\n",
              "      try {\n",
              "        const charts = await google.colab.kernel.invokeFunction(\n",
              "            'suggestCharts', [key], {});\n",
              "      } catch (error) {\n",
              "        console.error('Error during call to suggestCharts:', error);\n",
              "      }\n",
              "      quickchartButtonEl.classList.remove('colab-df-spinner');\n",
              "      quickchartButtonEl.classList.add('colab-df-quickchart-complete');\n",
              "    }\n",
              "    (() => {\n",
              "      let quickchartButtonEl =\n",
              "        document.querySelector('#df-0d045df8-5d72-491d-9ac0-c7e8ed26989f button');\n",
              "      quickchartButtonEl.style.display =\n",
              "        google.colab.kernel.accessAllowed ? 'block' : 'none';\n",
              "    })();\n",
              "  </script>\n",
              "</div>\n",
              "\n",
              "  <div id=\"id_6eaa468a-a235-4ee2-b8cf-5cab74c53969\">\n",
              "    <style>\n",
              "      .colab-df-generate {\n",
              "        background-color: #E8F0FE;\n",
              "        border: none;\n",
              "        border-radius: 50%;\n",
              "        cursor: pointer;\n",
              "        display: none;\n",
              "        fill: #1967D2;\n",
              "        height: 32px;\n",
              "        padding: 0 0 0 0;\n",
              "        width: 32px;\n",
              "      }\n",
              "\n",
              "      .colab-df-generate:hover {\n",
              "        background-color: #E2EBFA;\n",
              "        box-shadow: 0px 1px 2px rgba(60, 64, 67, 0.3), 0px 1px 3px 1px rgba(60, 64, 67, 0.15);\n",
              "        fill: #174EA6;\n",
              "      }\n",
              "\n",
              "      [theme=dark] .colab-df-generate {\n",
              "        background-color: #3B4455;\n",
              "        fill: #D2E3FC;\n",
              "      }\n",
              "\n",
              "      [theme=dark] .colab-df-generate:hover {\n",
              "        background-color: #434B5C;\n",
              "        box-shadow: 0px 1px 3px 1px rgba(0, 0, 0, 0.15);\n",
              "        filter: drop-shadow(0px 1px 2px rgba(0, 0, 0, 0.3));\n",
              "        fill: #FFFFFF;\n",
              "      }\n",
              "    </style>\n",
              "    <button class=\"colab-df-generate\" onclick=\"generateWithVariable('df')\"\n",
              "            title=\"Generate code using this dataframe.\"\n",
              "            style=\"display:none;\">\n",
              "\n",
              "  <svg xmlns=\"http://www.w3.org/2000/svg\" height=\"24px\"viewBox=\"0 0 24 24\"\n",
              "       width=\"24px\">\n",
              "    <path d=\"M7,19H8.4L18.45,9,17,7.55,7,17.6ZM5,21V16.75L18.45,3.32a2,2,0,0,1,2.83,0l1.4,1.43a1.91,1.91,0,0,1,.58,1.4,1.91,1.91,0,0,1-.58,1.4L9.25,21ZM18.45,9,17,7.55Zm-12,3A5.31,5.31,0,0,0,4.9,8.1,5.31,5.31,0,0,0,1,6.5,5.31,5.31,0,0,0,4.9,4.9,5.31,5.31,0,0,0,6.5,1,5.31,5.31,0,0,0,8.1,4.9,5.31,5.31,0,0,0,12,6.5,5.46,5.46,0,0,0,6.5,12Z\"/>\n",
              "  </svg>\n",
              "    </button>\n",
              "    <script>\n",
              "      (() => {\n",
              "      const buttonEl =\n",
              "        document.querySelector('#id_6eaa468a-a235-4ee2-b8cf-5cab74c53969 button.colab-df-generate');\n",
              "      buttonEl.style.display =\n",
              "        google.colab.kernel.accessAllowed ? 'block' : 'none';\n",
              "\n",
              "      buttonEl.onclick = () => {\n",
              "        google.colab.notebook.generateWithVariable('df');\n",
              "      }\n",
              "      })();\n",
              "    </script>\n",
              "  </div>\n",
              "\n",
              "    </div>\n",
              "  </div>\n"
            ],
            "application/vnd.google.colaboratory.intrinsic+json": {
              "type": "dataframe",
              "variable_name": "df",
              "summary": "{\n  \"name\": \"df\",\n  \"rows\": 500,\n  \"fields\": [\n    {\n      \"column\": \"publication_code\",\n      \"properties\": {\n        \"dtype\": \"number\",\n        \"std\": 192,\n        \"min\": 2249,\n        \"max\": 3408,\n        \"num_unique_values\": 73,\n        \"samples\": [\n          2597,\n          2619,\n          2979\n        ],\n        \"semantic_type\": \"\",\n        \"description\": \"\"\n      }\n    },\n    {\n      \"column\": \"issue_id\",\n      \"properties\": {\n        \"dtype\": \"number\",\n        \"std\": 340,\n        \"min\": 101,\n        \"max\": 1230,\n        \"num_unique_values\": 269,\n        \"samples\": [\n          1123,\n          328,\n          415\n        ],\n        \"semantic_type\": \"\",\n        \"description\": \"\"\n      }\n    },\n    {\n      \"column\": \"item_id\",\n      \"properties\": {\n        \"dtype\": \"category\",\n        \"num_unique_values\": 160,\n        \"samples\": [\n          \"art0102\",\n          \"art0057\",\n          \"art0130\"\n        ],\n        \"semantic_type\": \"\",\n        \"description\": \"\"\n      }\n    },\n    {\n      \"column\": \"newspaper_title\",\n      \"properties\": {\n        \"dtype\": \"category\",\n        \"num_unique_values\": 73,\n        \"samples\": [\n          \"The Warrington Examiner.\",\n          \"Denton Examiner, Audenshaw, Hooley Hill and Dukinfield Advertiser.\",\n          \"The Northern News.\"\n        ],\n        \"semantic_type\": \"\",\n        \"description\": \"\"\n      }\n    },\n    {\n      \"column\": \"data_provider\",\n      \"properties\": {\n        \"dtype\": \"category\",\n        \"num_unique_values\": 2,\n        \"samples\": [\n          \"British Library Living with Machines Project\",\n          \"British Library Heritage Made Digital Newspapers\"\n        ],\n        \"semantic_type\": \"\",\n        \"description\": \"\"\n      }\n    },\n    {\n      \"column\": \"date\",\n      \"properties\": {\n        \"dtype\": \"object\",\n        \"num_unique_values\": 481,\n        \"samples\": [\n          \"1889-10-16\",\n          \"1916-02-05\"\n        ],\n        \"semantic_type\": \"\",\n        \"description\": \"\"\n      }\n    },\n    {\n      \"column\": \"year\",\n      \"properties\": {\n        \"dtype\": \"number\",\n        \"std\": 15,\n        \"min\": 1845,\n        \"max\": 1920,\n        \"num_unique_values\": 72,\n        \"samples\": [\n          1893,\n          1905\n        ],\n        \"semantic_type\": \"\",\n        \"description\": \"\"\n      }\n    },\n    {\n      \"column\": \"month\",\n      \"properties\": {\n        \"dtype\": \"number\",\n        \"std\": 3,\n        \"min\": 1,\n        \"max\": 12,\n        \"num_unique_values\": 12,\n        \"samples\": [\n          2,\n          5\n        ],\n        \"semantic_type\": \"\",\n        \"description\": \"\"\n      }\n    },\n    {\n      \"column\": \"day\",\n      \"properties\": {\n        \"dtype\": \"number\",\n        \"std\": 8,\n        \"min\": 1,\n        \"max\": 31,\n        \"num_unique_values\": 31,\n        \"samples\": [\n          25,\n          3\n        ],\n        \"semantic_type\": \"\",\n        \"description\": \"\"\n      }\n    },\n    {\n      \"column\": \"location\",\n      \"properties\": {\n        \"dtype\": \"category\",\n        \"num_unique_values\": 47,\n        \"samples\": [\n          \"Brighouse, West Yorkshire, England\",\n          \"Dewsbury, West Yorkshire, England\"\n        ],\n        \"semantic_type\": \"\",\n        \"description\": \"\"\n      }\n    },\n    {\n      \"column\": \"word_count\",\n      \"properties\": {\n        \"dtype\": \"number\",\n        \"std\": 892,\n        \"min\": 0,\n        \"max\": 6127,\n        \"num_unique_values\": 346,\n        \"samples\": [\n          970,\n          3004\n        ],\n        \"semantic_type\": \"\",\n        \"description\": \"\"\n      }\n    },\n    {\n      \"column\": \"ocrquality\",\n      \"properties\": {\n        \"dtype\": \"number\",\n        \"std\": 0.1559452514514647,\n        \"min\": 0.0,\n        \"max\": 1.0,\n        \"num_unique_values\": 449,\n        \"samples\": [\n          0.7861,\n          0.8926\n        ],\n        \"semantic_type\": \"\",\n        \"description\": \"\"\n      }\n    },\n    {\n      \"column\": \"political_leaning_label\",\n      \"properties\": {\n        \"dtype\": \"category\",\n        \"num_unique_values\": 8,\n        \"samples\": [\n          \"independent\",\n          \"unionist\"\n        ],\n        \"semantic_type\": \"\",\n        \"description\": \"\"\n      }\n    },\n    {\n      \"column\": \"price_label\",\n      \"properties\": {\n        \"dtype\": \"category\",\n        \"num_unique_values\": 15,\n        \"samples\": [\n          \"3 \\u00bd d<SEP>1d\",\n          \"4 \\u00bd d\"\n        ],\n        \"semantic_type\": \"\",\n        \"description\": \"\"\n      }\n    },\n    {\n      \"column\": \"text\",\n      \"properties\": {\n        \"dtype\": \"string\",\n        \"num_unique_values\": 494,\n        \"samples\": [\n          \"NORTHERN WEEKLY GAZETTE: \",\n          \"BIRTHS.  May 23, at 3, Lower Trafalgar.terrace, Swansea, the wife of raptsin W. H. Smith. of a daughter. May 25, nt 6. Cantl,--quare, Swansea. the wife of Mr. T. F. Mathews, of a daughter. May 23. at Preset,.lra. Heath, the wife of Captain Herrick Palmer. of a eon. May 19, at 14, Victoria-terrace, Heath. the wife ef Mr. H. B. Thomas, of a son.  MARRIAGES. May 22, at qt Mary's Church, Swansea (by license), Mr Robert Tucker, of London, to Miss Thomas, of th Red House. St Thomas. Swansea. May 26, at the same church, by the RAY E. B Squire, vicar, William Francis. mariner, to Mary Williams, both of Swansea. At the ,ame time and place, and by the same clergy man. David Barnett, mariner, to Ann Davies, both of 114;h\\u2014street, Swansea. At the same timeand place. Thomas Russell. mariner, to Caroline Bode, both of Bethesda-terrace. Swansea. MI 21, as the Pariah Church. Chittlehampon. by th. Re\\u2022 C. M. Drake. vicar, Mr John Mules, former, of Southmelton, to Marv. youngest d ,nghter of Mr William Rees, late of Park-stre\\u2022 t. q warms May IS, at Resolven Church, by the Rev G. Griffiths, vicrtr. Mr Llewellyn Powell. of Argoed, to Miss Ann Jtnkins. of Forchgoch farm, Raengwrach. May 18 (by license) at Taibach Chapel of Ease, by the Rev E. Phillips. curate of Montana, Mr John Courtis DIVIC.I, son of the late Mr Thomas Davies, of Westfield House, Aberavon, to Miss Marg tret Meyrck, of Tat)), ch. \"\n        ],\n        \"semantic_type\": \"\",\n        \"description\": \"\"\n      }\n    }\n  ]\n}"
            }
          },
          "metadata": {},
          "execution_count": 41
        }
      ],
      "source": [
        "df = pd.read_csv('/content/subsample500mixedocr-selected_mitch.csv')\n",
        "df['text'] = df['text'].fillna('')\n",
        "df"
      ]
    },
    {
      "cell_type": "code",
      "execution_count": null,
      "metadata": {
        "colab": {
          "base_uri": "https://localhost:8080/"
        },
        "id": "osUw1MrPJ5Nq",
        "outputId": "17793434-55db-4ea6-a6a2-2583a75196ef"
      },
      "outputs": [
        {
          "output_type": "stream",
          "name": "stderr",
          "text": [
            "100%|██████████| 500/500 [00:00<00:00, 8500.58it/s]\n"
          ]
        }
      ],
      "source": [
        "sentences = []\n",
        "for sentence in tqdm(df['text']):\n",
        "    # tokenize\n",
        "    tokenized_sentence = [token for token in sentence.split()]\n",
        "    sentences.append(tokenized_sentence)\n",
        "\n",
        "w2v_model = Word2Vec(min_count=5, # how often a word should appear to be included\n",
        "                    window=5, # how many words before and after count as context\n",
        "                    sg=1, # SkipGram? 0 = False, 1 = True Else: CBoW. Note: Default is 0\n",
        "                    vector_size=100) # Change to 'size' if TypeError\n",
        "\n",
        "w2v_model.build_vocab(sentences) # Build vocabulary\n",
        "\n",
        "w2v_model.train(sentences,\n",
        "                total_examples=w2v_model.corpus_count,\n",
        "                epochs=5)\n",
        "\n",
        "\n",
        "w2v_model.save(\"test-model\") # Save the full model (in case we'd like to update it in the future)\n",
        "w2v_model.wv.save_word2vec_format('test-model-vectors.txt', binary=False) # Also save the vectors only (easier to work with) - Not necessary, of course\n"
      ]
    },
    {
      "cell_type": "code",
      "execution_count": null,
      "metadata": {
        "id": "Jalvdg8QJ5Nq"
      },
      "outputs": [],
      "source": [
        "pretrained_model = Word2Vec.load('test-model')\n",
        "pretrained_vectors = pretrained_model.wv"
      ]
    },
    {
      "cell_type": "code",
      "execution_count": null,
      "metadata": {
        "colab": {
          "base_uri": "https://localhost:8080/"
        },
        "id": "zgqsw9gNJ5Nq",
        "outputId": "17d2ad38-eee4-43f4-cf69-c5f2cc144372"
      },
      "outputs": [
        {
          "output_type": "execute_result",
          "data": {
            "text/plain": [
              "array([-0.09408577,  0.11341301, -0.12339523,  0.06693193, -0.35584387,\n",
              "       -0.07958303,  0.25326428,  0.3498439 ,  0.09504142, -0.00963853,\n",
              "        0.04662748,  0.20909496,  0.02629865, -0.07272126, -0.11597709,\n",
              "       -0.24845034,  0.3193267 , -0.12108975, -0.37442738, -0.42026746,\n",
              "        0.32282102, -0.1221727 ,  0.20917937, -0.23760924, -0.10273935,\n",
              "        0.01779495, -0.32856104, -0.10729369, -0.15439273,  0.2605045 ,\n",
              "        0.24297957, -0.18171903,  0.21303567, -0.27853417, -0.18431626,\n",
              "        0.3164868 , -0.09404067, -0.05303573, -0.12232542, -0.07428006,\n",
              "        0.38741678, -0.27955118, -0.00813167, -0.16655406,  0.01134759,\n",
              "       -0.2578547 , -0.21501948, -0.09187511,  0.18055831, -0.01484512,\n",
              "        0.19920397, -0.1500791 , -0.01297338,  0.01922916, -0.01396858,\n",
              "       -0.21628107,  0.25335848, -0.06435289, -0.28662622, -0.09488703,\n",
              "       -0.05647907, -0.27203757,  0.49167246, -0.14936726, -0.1250877 ,\n",
              "        0.21302006,  0.06820711,  0.2688206 , -0.25044057,  0.08859664,\n",
              "       -0.07349188, -0.03845686, -0.03769739, -0.03662071,  0.2510676 ,\n",
              "        0.05843802,  0.24546467,  0.02169463, -0.06763864, -0.07431371,\n",
              "       -0.22636501,  0.00925687, -0.01618692,  0.34781528, -0.17578132,\n",
              "       -0.24031   ,  0.21468051,  0.36801288, -0.28072208,  0.06742013,\n",
              "        0.5045954 ,  0.01912506,  0.02815364, -0.3377585 , -0.02326121,\n",
              "        0.19140708, -0.04358877, -0.02042047, -0.11677273,  0.1327861 ],\n",
              "      dtype=float32)"
            ]
          },
          "metadata": {},
          "execution_count": 44
        }
      ],
      "source": [
        "pretrained_vectors['man']"
      ]
    },
    {
      "cell_type": "code",
      "execution_count": null,
      "metadata": {
        "colab": {
          "base_uri": "https://localhost:8080/"
        },
        "id": "IQAS83hDJ5Nq",
        "outputId": "7f87ee4c-a901-496a-afc5-0412503986b5"
      },
      "outputs": [
        {
          "output_type": "execute_result",
          "data": {
            "text/plain": [
              "[('young', 0.9344269633293152),\n",
              " ('gave', 0.9341795444488525),\n",
              " ('struck', 0.929413378238678),\n",
              " ('lady', 0.9275078773498535),\n",
              " ('woman', 0.9269367456436157),\n",
              " ('himself', 0.92331463098526),\n",
              " ('prisoner', 0.9216122031211853),\n",
              " ('His', 0.9203662872314453),\n",
              " ('left', 0.9184723496437073),\n",
              " ('child', 0.9167526960372925)]"
            ]
          },
          "metadata": {},
          "execution_count": 45
        }
      ],
      "source": [
        "pretrained_vectors.most_similar(positive='man', topn=10)"
      ]
    },
    {
      "cell_type": "markdown",
      "metadata": {
        "id": "oN49CEcEJ5Nq"
      },
      "source": [
        "This is not to be interpreted as it is, since we're working with a very small sample, formed with no real criterion. Instead, let's load a Word2Vec model that was trained on the actual collection, to give you an idea of what you may obtain from a bigger sample of your own. Let's just look at the model trained on all articles from the 1870s:"
      ]
    },
    {
      "cell_type": "markdown",
      "metadata": {
        "id": "ST9Wg1K6J5Nr"
      },
      "source": [
        "First download the model:"
      ]
    },
    {
      "cell_type": "markdown",
      "metadata": {
        "id": "ONkEu2k_J5Nr"
      },
      "source": [
        "https://drive.google.com/file/d/1egpShoJz-q7FFLovUBVXHMZXyVIiLbsr/view?usp=sharing"
      ]
    },
    {
      "cell_type": "code",
      "execution_count": null,
      "metadata": {
        "colab": {
          "base_uri": "https://localhost:8080/"
        },
        "id": "lcKq4TJAJ5Nr",
        "outputId": "f1e099ca-653f-4783-fa72-592dec415b5b"
      },
      "outputs": [
        {
          "output_type": "stream",
          "name": "stdout",
          "text": [
            "Downloading...\n",
            "From (original): https://drive.google.com/uc?id=1abhIdj1r8pS0x-Eqxe-A0IvBOQSEYByO\n",
            "From (redirected): https://drive.google.com/uc?id=1abhIdj1r8pS0x-Eqxe-A0IvBOQSEYByO&confirm=t&uuid=800adad0-9829-42b2-8ff3-4c9d8a2308fa\n",
            "To: /content/1870s-vectors.txt\n",
            "100% 110M/110M [00:02<00:00, 49.9MB/s]\n"
          ]
        }
      ],
      "source": [
        "!gdown 'https://drive.google.com/uc?id=1abhIdj1r8pS0x-Eqxe-A0IvBOQSEYByO'"
      ]
    },
    {
      "cell_type": "code",
      "execution_count": null,
      "metadata": {
        "id": "UTpHYoOqJ5Nr"
      },
      "outputs": [],
      "source": [
        "pretrained_vectors = KeyedVectors.load_word2vec_format('1870s-vectors.txt')"
      ]
    },
    {
      "cell_type": "code",
      "execution_count": null,
      "metadata": {
        "colab": {
          "base_uri": "https://localhost:8080/"
        },
        "id": "_jB-YDPaJ5Nr",
        "outputId": "189535f1-5510-4aab-ea1c-8180fb3050e5"
      },
      "outputs": [
        {
          "output_type": "execute_result",
          "data": {
            "text/plain": [
              "[('nian', 0.8242271542549133),\n",
              " ('woman', 0.823756217956543),\n",
              " ('villian', 0.7970104813575745),\n",
              " ('inan', 0.795364499092102),\n",
              " ('men', 0.7938154935836792),\n",
              " ('gentleman', 0.7937560677528381),\n",
              " ('person', 0.7887371182441711),\n",
              " ('mau', 0.786530077457428),\n",
              " ('soldier', 0.7853782773017883),\n",
              " ('frenchman', 0.7830896973609924),\n",
              " ('irishman', 0.7828250527381897),\n",
              " ('countrywoman', 0.7811675071716309),\n",
              " ('duellist', 0.7762956619262695),\n",
              " ('traveler', 0.7753072381019592),\n",
              " ('bargeman', 0.774891197681427),\n",
              " ('ruan', 0.7729703783988953),\n",
              " ('thatshe', 0.7646286487579346),\n",
              " ('peope', 0.7629625797271729),\n",
              " ('englishman', 0.7624946236610413),\n",
              " ('theman', 0.7619644403457642)]"
            ]
          },
          "metadata": {},
          "execution_count": 48
        }
      ],
      "source": [
        "pretrained_vectors.most_similar(positive='man', topn=20)"
      ]
    }
  ],
  "metadata": {
    "kernelspec": {
      "display_name": "Python 3",
      "language": "python",
      "name": "python3"
    },
    "language_info": {
      "codemirror_mode": {
        "name": "ipython",
        "version": 3
      },
      "file_extension": ".py",
      "mimetype": "text/x-python",
      "name": "python",
      "nbconvert_exporter": "python",
      "pygments_lexer": "ipython3",
      "version": "3.10.3"
    },
    "colab": {
      "provenance": [],
      "include_colab_link": true
    }
  },
  "nbformat": 4,
  "nbformat_minor": 0
}